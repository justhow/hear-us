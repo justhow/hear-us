{
 "cells": [
  {
   "cell_type": "markdown",
   "metadata": {
    "toc": true
   },
   "source": [
    "<h1>Table of Contents<span class=\"tocSkip\"></span></h1>\n",
    "<div class=\"toc\"><ul class=\"toc-item\"><li><span><a href=\"#Data-Types-and-One-Hot-Encoding\" data-toc-modified-id=\"Data-Types-and-One-Hot-Encoding-1\"><span class=\"toc-item-num\">1&nbsp;&nbsp;</span>Data Types and One Hot Encoding</a></span><ul class=\"toc-item\"><li><ul class=\"toc-item\"><li><span><a href=\"#Region-as-OHE\" data-toc-modified-id=\"Region-as-OHE-1.0.1\"><span class=\"toc-item-num\">1.0.1&nbsp;&nbsp;</span>Region as OHE</a></span></li><li><span><a href=\"#Participants-as-Numerical-Buckets\" data-toc-modified-id=\"Participants-as-Numerical-Buckets-1.0.2\"><span class=\"toc-item-num\">1.0.2&nbsp;&nbsp;</span>Participants as Numerical Buckets</a></span></li><li><span><a href=\"#Protestor-Identity-as-OHE-Categories\" data-toc-modified-id=\"Protestor-Identity-as-OHE-Categories-1.0.3\"><span class=\"toc-item-num\">1.0.3&nbsp;&nbsp;</span>Protestor Identity as OHE Categories</a></span><ul class=\"toc-item\"><li><span><a href=\"#Stemming-and-creating-a-dictionary-to-map-values\" data-toc-modified-id=\"Stemming-and-creating-a-dictionary-to-map-values-1.0.3.1\"><span class=\"toc-item-num\">1.0.3.1&nbsp;&nbsp;</span>Stemming and creating a dictionary to map values</a></span></li><li><span><a href=\"#Gathering-the-top-Protester-Identity-categories\" data-toc-modified-id=\"Gathering-the-top-Protester-Identity-categories-1.0.3.2\"><span class=\"toc-item-num\">1.0.3.2&nbsp;&nbsp;</span>Gathering the top Protester Identity categories</a></span></li><li><span><a href=\"#If-not-in-one-of-the-top-categories-assign-Other\" data-toc-modified-id=\"If-not-in-one-of-the-top-categories-assign-Other-1.0.3.3\"><span class=\"toc-item-num\">1.0.3.3&nbsp;&nbsp;</span>If not in one of the top categories assign Other</a></span></li></ul></li><li><span><a href=\"#Government-Type-as-OHE-categories\" data-toc-modified-id=\"Government-Type-as-OHE-categories-1.0.4\"><span class=\"toc-item-num\">1.0.4&nbsp;&nbsp;</span>Government Type as OHE categories</a></span><ul class=\"toc-item\"><li><span><a href=\"#Filling-nulls-with-None\" data-toc-modified-id=\"Filling-nulls-with-None-1.0.4.1\"><span class=\"toc-item-num\">1.0.4.1&nbsp;&nbsp;</span>Filling nulls with None</a></span></li></ul></li><li><span><a href=\"#Saving-to-csv\" data-toc-modified-id=\"Saving-to-csv-1.0.5\"><span class=\"toc-item-num\">1.0.5&nbsp;&nbsp;</span>Saving to csv</a></span></li></ul></li><li><span><a href=\"#Baseline-Value\" data-toc-modified-id=\"Baseline-Value-1.1\"><span class=\"toc-item-num\">1.1&nbsp;&nbsp;</span>Baseline Value</a></span></li></ul></li><li><span><a href=\"#Neural-Net\" data-toc-modified-id=\"Neural-Net-2\"><span class=\"toc-item-num\">2&nbsp;&nbsp;</span>Neural Net</a></span></li></ul></div>"
   ]
  },
  {
   "cell_type": "markdown",
   "metadata": {},
   "source": [
    "# Data Types and One Hot Encoding"
   ]
  },
  {
   "cell_type": "code",
   "execution_count": 1,
   "metadata": {},
   "outputs": [],
   "source": [
    "import pandas as pd\n",
    "import numpy as np\n",
    "import matplotlib.pyplot as plt\n",
    "import seaborn as sns\n",
    "\n",
    "from sklearn.preprocessing import StandardScaler\n",
    "from sklearn.model_selection import train_test_split\n",
    "from sklearn.metrics import accuracy_score\n",
    "\n",
    "from tensorflow.keras.models import Sequential\n",
    "from tensorflow.keras.layers import Dense, Dropout, GRU\n",
    "from tensorflow.keras.optimizers import Adam\n",
    "from tensorflow.keras.preprocessing.sequence import TimeseriesGenerator\n",
    "from tensorflow.keras.callbacks import EarlyStopping\n",
    "from keras import metrics"
   ]
  },
  {
   "cell_type": "code",
   "execution_count": 2,
   "metadata": {},
   "outputs": [],
   "source": [
    "from nltk.stem.porter import PorterStemmer"
   ]
  },
  {
   "cell_type": "code",
   "execution_count": 3,
   "metadata": {},
   "outputs": [],
   "source": [
    "df = pd.read_csv('../data/global_cia_combined.csv')"
   ]
  },
  {
   "cell_type": "code",
   "execution_count": 4,
   "metadata": {
    "scrolled": true
   },
   "outputs": [
    {
     "data": {
      "text/html": [
       "<div>\n",
       "<style scoped>\n",
       "    .dataframe tbody tr th:only-of-type {\n",
       "        vertical-align: middle;\n",
       "    }\n",
       "\n",
       "    .dataframe tbody tr th {\n",
       "        vertical-align: top;\n",
       "    }\n",
       "\n",
       "    .dataframe thead th {\n",
       "        text-align: right;\n",
       "    }\n",
       "</style>\n",
       "<table border=\"1\" class=\"dataframe\">\n",
       "  <thead>\n",
       "    <tr style=\"text-align: right;\">\n",
       "      <th></th>\n",
       "      <th>country</th>\n",
       "      <th>year</th>\n",
       "      <th>region</th>\n",
       "      <th>protest</th>\n",
       "      <th>protestnumber</th>\n",
       "      <th>startday</th>\n",
       "      <th>startmonth</th>\n",
       "      <th>startyear</th>\n",
       "      <th>endday</th>\n",
       "      <th>endmonth</th>\n",
       "      <th>...</th>\n",
       "      <th>govt_type</th>\n",
       "      <th>legal_system</th>\n",
       "      <th>gdp_purchasing_power_global_rank</th>\n",
       "      <th>gdp_growth_global_rank</th>\n",
       "      <th>electricity_access_percent</th>\n",
       "      <th>electricity_generating_capacity_global_rank</th>\n",
       "      <th>internet_access_percent</th>\n",
       "      <th>cell_phone_per_100</th>\n",
       "      <th>military_spending_annual_percent_gdp</th>\n",
       "      <th>transnational_disputes</th>\n",
       "    </tr>\n",
       "  </thead>\n",
       "  <tbody>\n",
       "    <tr>\n",
       "      <th>0</th>\n",
       "      <td>Canada</td>\n",
       "      <td>1990</td>\n",
       "      <td>North America</td>\n",
       "      <td>1</td>\n",
       "      <td>1</td>\n",
       "      <td>15.0</td>\n",
       "      <td>1.0</td>\n",
       "      <td>1990.0</td>\n",
       "      <td>15.0</td>\n",
       "      <td>1.0</td>\n",
       "      <td>...</td>\n",
       "      <td>federal parliamentary democracy (Parliament of...</td>\n",
       "      <td>common law system except in Quebec, where civi...</td>\n",
       "      <td>17.0</td>\n",
       "      <td>112.0</td>\n",
       "      <td>100.0</td>\n",
       "      <td>8.0</td>\n",
       "      <td>91.0</td>\n",
       "      <td>90.0</td>\n",
       "      <td>1.31</td>\n",
       "      <td>managed maritime boundary disputes with the US...</td>\n",
       "    </tr>\n",
       "    <tr>\n",
       "      <th>1</th>\n",
       "      <td>Canada</td>\n",
       "      <td>1990</td>\n",
       "      <td>North America</td>\n",
       "      <td>1</td>\n",
       "      <td>2</td>\n",
       "      <td>25.0</td>\n",
       "      <td>6.0</td>\n",
       "      <td>1990.0</td>\n",
       "      <td>25.0</td>\n",
       "      <td>6.0</td>\n",
       "      <td>...</td>\n",
       "      <td>federal parliamentary democracy (Parliament of...</td>\n",
       "      <td>common law system except in Quebec, where civi...</td>\n",
       "      <td>17.0</td>\n",
       "      <td>112.0</td>\n",
       "      <td>100.0</td>\n",
       "      <td>8.0</td>\n",
       "      <td>91.0</td>\n",
       "      <td>90.0</td>\n",
       "      <td>1.31</td>\n",
       "      <td>managed maritime boundary disputes with the US...</td>\n",
       "    </tr>\n",
       "    <tr>\n",
       "      <th>2</th>\n",
       "      <td>Canada</td>\n",
       "      <td>1990</td>\n",
       "      <td>North America</td>\n",
       "      <td>1</td>\n",
       "      <td>3</td>\n",
       "      <td>1.0</td>\n",
       "      <td>7.0</td>\n",
       "      <td>1990.0</td>\n",
       "      <td>1.0</td>\n",
       "      <td>7.0</td>\n",
       "      <td>...</td>\n",
       "      <td>federal parliamentary democracy (Parliament of...</td>\n",
       "      <td>common law system except in Quebec, where civi...</td>\n",
       "      <td>17.0</td>\n",
       "      <td>112.0</td>\n",
       "      <td>100.0</td>\n",
       "      <td>8.0</td>\n",
       "      <td>91.0</td>\n",
       "      <td>90.0</td>\n",
       "      <td>1.31</td>\n",
       "      <td>managed maritime boundary disputes with the US...</td>\n",
       "    </tr>\n",
       "    <tr>\n",
       "      <th>3</th>\n",
       "      <td>Canada</td>\n",
       "      <td>1990</td>\n",
       "      <td>North America</td>\n",
       "      <td>1</td>\n",
       "      <td>4</td>\n",
       "      <td>12.0</td>\n",
       "      <td>7.0</td>\n",
       "      <td>1990.0</td>\n",
       "      <td>6.0</td>\n",
       "      <td>9.0</td>\n",
       "      <td>...</td>\n",
       "      <td>federal parliamentary democracy (Parliament of...</td>\n",
       "      <td>common law system except in Quebec, where civi...</td>\n",
       "      <td>17.0</td>\n",
       "      <td>112.0</td>\n",
       "      <td>100.0</td>\n",
       "      <td>8.0</td>\n",
       "      <td>91.0</td>\n",
       "      <td>90.0</td>\n",
       "      <td>1.31</td>\n",
       "      <td>managed maritime boundary disputes with the US...</td>\n",
       "    </tr>\n",
       "    <tr>\n",
       "      <th>4</th>\n",
       "      <td>Canada</td>\n",
       "      <td>1990</td>\n",
       "      <td>North America</td>\n",
       "      <td>1</td>\n",
       "      <td>5</td>\n",
       "      <td>14.0</td>\n",
       "      <td>8.0</td>\n",
       "      <td>1990.0</td>\n",
       "      <td>15.0</td>\n",
       "      <td>8.0</td>\n",
       "      <td>...</td>\n",
       "      <td>federal parliamentary democracy (Parliament of...</td>\n",
       "      <td>common law system except in Quebec, where civi...</td>\n",
       "      <td>17.0</td>\n",
       "      <td>112.0</td>\n",
       "      <td>100.0</td>\n",
       "      <td>8.0</td>\n",
       "      <td>91.0</td>\n",
       "      <td>90.0</td>\n",
       "      <td>1.31</td>\n",
       "      <td>managed maritime boundary disputes with the US...</td>\n",
       "    </tr>\n",
       "  </tbody>\n",
       "</table>\n",
       "<p>5 rows × 52 columns</p>\n",
       "</div>"
      ],
      "text/plain": [
       "  country  year         region  protest  protestnumber  startday  startmonth  \\\n",
       "0  Canada  1990  North America        1              1      15.0         1.0   \n",
       "1  Canada  1990  North America        1              2      25.0         6.0   \n",
       "2  Canada  1990  North America        1              3       1.0         7.0   \n",
       "3  Canada  1990  North America        1              4      12.0         7.0   \n",
       "4  Canada  1990  North America        1              5      14.0         8.0   \n",
       "\n",
       "   startyear  endday  endmonth  ...  \\\n",
       "0     1990.0    15.0       1.0  ...   \n",
       "1     1990.0    25.0       6.0  ...   \n",
       "2     1990.0     1.0       7.0  ...   \n",
       "3     1990.0     6.0       9.0  ...   \n",
       "4     1990.0    15.0       8.0  ...   \n",
       "\n",
       "                                           govt_type  \\\n",
       "0  federal parliamentary democracy (Parliament of...   \n",
       "1  federal parliamentary democracy (Parliament of...   \n",
       "2  federal parliamentary democracy (Parliament of...   \n",
       "3  federal parliamentary democracy (Parliament of...   \n",
       "4  federal parliamentary democracy (Parliament of...   \n",
       "\n",
       "                                        legal_system  \\\n",
       "0  common law system except in Quebec, where civi...   \n",
       "1  common law system except in Quebec, where civi...   \n",
       "2  common law system except in Quebec, where civi...   \n",
       "3  common law system except in Quebec, where civi...   \n",
       "4  common law system except in Quebec, where civi...   \n",
       "\n",
       "  gdp_purchasing_power_global_rank gdp_growth_global_rank  \\\n",
       "0                             17.0                  112.0   \n",
       "1                             17.0                  112.0   \n",
       "2                             17.0                  112.0   \n",
       "3                             17.0                  112.0   \n",
       "4                             17.0                  112.0   \n",
       "\n",
       "  electricity_access_percent electricity_generating_capacity_global_rank  \\\n",
       "0                      100.0                                         8.0   \n",
       "1                      100.0                                         8.0   \n",
       "2                      100.0                                         8.0   \n",
       "3                      100.0                                         8.0   \n",
       "4                      100.0                                         8.0   \n",
       "\n",
       "  internet_access_percent cell_phone_per_100  \\\n",
       "0                    91.0               90.0   \n",
       "1                    91.0               90.0   \n",
       "2                    91.0               90.0   \n",
       "3                    91.0               90.0   \n",
       "4                    91.0               90.0   \n",
       "\n",
       "   military_spending_annual_percent_gdp  \\\n",
       "0                                  1.31   \n",
       "1                                  1.31   \n",
       "2                                  1.31   \n",
       "3                                  1.31   \n",
       "4                                  1.31   \n",
       "\n",
       "                              transnational_disputes  \n",
       "0  managed maritime boundary disputes with the US...  \n",
       "1  managed maritime boundary disputes with the US...  \n",
       "2  managed maritime boundary disputes with the US...  \n",
       "3  managed maritime boundary disputes with the US...  \n",
       "4  managed maritime boundary disputes with the US...  \n",
       "\n",
       "[5 rows x 52 columns]"
      ]
     },
     "execution_count": 4,
     "metadata": {},
     "output_type": "execute_result"
    }
   ],
   "source": [
    "df.head()"
   ]
  },
  {
   "cell_type": "code",
   "execution_count": 5,
   "metadata": {},
   "outputs": [
    {
     "data": {
      "text/plain": [
       "country                                         object\n",
       "year                                             int64\n",
       "region                                          object\n",
       "protest                                          int64\n",
       "protestnumber                                    int64\n",
       "startday                                       float64\n",
       "startmonth                                     float64\n",
       "startyear                                      float64\n",
       "endday                                         float64\n",
       "endmonth                                       float64\n",
       "endyear                                        float64\n",
       "protesterviolence                              float64\n",
       "location                                        object\n",
       "participants                                    object\n",
       "protesteridentity                               object\n",
       "sources                                         object\n",
       "notes                                           object\n",
       "final                                           object\n",
       "ignore                                           int64\n",
       "crowd dispersal                                  int64\n",
       "arrests                                          int64\n",
       "accomodation                                     int64\n",
       "shootings                                        int64\n",
       "beatings                                         int64\n",
       "killings                                         int64\n",
       "political behavior, process                      int64\n",
       "labor wage dispute                               int64\n",
       "price increases, tax policy                      int64\n",
       "removal of politician                            int64\n",
       "police brutality                                 int64\n",
       "land farm issue                                  int64\n",
       "social restrictions                              int64\n",
       "climate                                         object\n",
       "natural_resources                               object\n",
       "population_distribution                         object\n",
       "net_migration_per_1000_population              float64\n",
       "age_0_14_percent                               float64\n",
       "age_15_24_percent                              float64\n",
       "age_25_54_percent                              float64\n",
       "age_55_64_percent                              float64\n",
       "age_65_over_percent                            float64\n",
       "language                                        object\n",
       "govt_type                                       object\n",
       "legal_system                                    object\n",
       "gdp_purchasing_power_global_rank               float64\n",
       "gdp_growth_global_rank                         float64\n",
       "electricity_access_percent                     float64\n",
       "electricity_generating_capacity_global_rank    float64\n",
       "internet_access_percent                        float64\n",
       "cell_phone_per_100                             float64\n",
       "military_spending_annual_percent_gdp            object\n",
       "transnational_disputes                          object\n",
       "dtype: object"
      ]
     },
     "execution_count": 5,
     "metadata": {},
     "output_type": "execute_result"
    }
   ],
   "source": [
    "df.dtypes"
   ]
  },
  {
   "cell_type": "markdown",
   "metadata": {},
   "source": [
    "### Region as OHE\n",
    "The data set has every country excluding the USA, so maybe breaking down by region instead could add features without overkill on adding every single country in the world as a feature."
   ]
  },
  {
   "cell_type": "code",
   "execution_count": 6,
   "metadata": {
    "scrolled": true
   },
   "outputs": [
    {
     "data": {
      "text/plain": [
       "array(['North America', 'Central America', 'South America', 'Europe',\n",
       "       'Africa', 'MENA', 'Asia', 'Oceania'], dtype=object)"
      ]
     },
     "execution_count": 6,
     "metadata": {},
     "output_type": "execute_result"
    }
   ],
   "source": [
    "df['region'].unique()"
   ]
  },
  {
   "cell_type": "code",
   "execution_count": 7,
   "metadata": {},
   "outputs": [],
   "source": [
    "df = pd.get_dummies(data = df, columns = ['region'], drop_first=True)"
   ]
  },
  {
   "cell_type": "markdown",
   "metadata": {},
   "source": [
    "### Participants as Numerical Buckets\n"
   ]
  },
  {
   "cell_type": "code",
   "execution_count": 8,
   "metadata": {},
   "outputs": [
    {
     "data": {
      "text/plain": [
       "100s                         0.087478\n",
       "1000s                        0.078124\n",
       "50+                          0.074962\n",
       "50                           0.065740\n",
       "1000                         0.063632\n",
       "                               ...   \n",
       "6000-8000                    0.000066\n",
       "more than a dozen schools    0.000066\n",
       "scores (>50)                 0.000066\n",
       "widespread                   0.000066\n",
       "86                           0.000066\n",
       "Name: participants, Length: 781, dtype: float64"
      ]
     },
     "execution_count": 8,
     "metadata": {},
     "output_type": "execute_result"
    }
   ],
   "source": [
    "df['participants'].value_counts(normalize=True)"
   ]
  },
  {
   "cell_type": "markdown",
   "metadata": {},
   "source": [
    "There are many numbers used for number of protestors. We will place them into bins in order to keep the categories down."
   ]
  },
  {
   "cell_type": "markdown",
   "metadata": {},
   "source": [
    "### Protestor Identity as OHE Categories\n"
   ]
  },
  {
   "cell_type": "code",
   "execution_count": 9,
   "metadata": {
    "scrolled": true
   },
   "outputs": [
    {
     "data": {
      "text/plain": [
       "5768"
      ]
     },
     "execution_count": 9,
     "metadata": {},
     "output_type": "execute_result"
    }
   ],
   "source": [
    "len(df['protesteridentity'].value_counts(normalize=True))"
   ]
  },
  {
   "cell_type": "code",
   "execution_count": 10,
   "metadata": {
    "scrolled": true
   },
   "outputs": [
    {
     "data": {
      "text/plain": [
       "protesters                                                         0.105267\n",
       "students                                                           0.043855\n",
       "workers                                                            0.018581\n",
       "unspecified                                                        0.015302\n",
       "farmers                                                            0.014960\n",
       "residents                                                          0.011681\n",
       "opposition supporters                                              0.011135\n",
       "university students                                                0.009837\n",
       "demonstrators                                                      0.009359\n",
       "opposition                                                         0.009085\n",
       "women                                                              0.007856\n",
       "teachers                                                           0.006694\n",
       "ladies in white                                                    0.006148\n",
       "people                                                             0.005670\n",
       "activists                                                          0.004577\n",
       "youths                                                             0.003962\n",
       "taxi drivers                                                       0.003894\n",
       "journalists                                                        0.003689\n",
       "soldiers                                                           0.003484\n",
       "pegida patriotic europeans against the islamization of the west    0.003484\n",
       "protestors                                                         0.003279\n",
       "stuttgart 21                                                       0.003279\n",
       "prisoners                                                          0.003211\n",
       "labor unions                                                       0.003074\n",
       "pro democracy activists; civil human rights front                  0.003074\n",
       "Name: protesteridentity, dtype: float64"
      ]
     },
     "execution_count": 10,
     "metadata": {},
     "output_type": "execute_result"
    }
   ],
   "source": [
    "df['protesteridentity'].value_counts(normalize=True).head(25)"
   ]
  },
  {
   "cell_type": "markdown",
   "metadata": {},
   "source": [
    "There are many protestor identities. We will stem the data in order to categorize them into several of the top categories in order to use this as a one hot encoded feature."
   ]
  },
  {
   "cell_type": "code",
   "execution_count": 11,
   "metadata": {},
   "outputs": [],
   "source": [
    "p_stemmer = PorterStemmer()"
   ]
  },
  {
   "cell_type": "code",
   "execution_count": 12,
   "metadata": {
    "scrolled": true
   },
   "outputs": [
    {
     "data": {
      "text/plain": [
       "0                                              unspecified\n",
       "1                                              unspecified\n",
       "2                               separatist parti quebecois\n",
       "3                                           mohawk indians\n",
       "4                                          local residents\n",
       "                               ...                        \n",
       "15188                                       asylum seekers\n",
       "15189                                  university students\n",
       "15190    protesters opposed to renewing the licence of ...\n",
       "15191    protesters opposed to counting irregularities ...\n",
       "15192                                               locals\n",
       "Name: protesteridentity, Length: 15193, dtype: object"
      ]
     },
     "execution_count": 12,
     "metadata": {},
     "output_type": "execute_result"
    }
   ],
   "source": [
    "df['protesteridentity'].fillna('None')"
   ]
  },
  {
   "cell_type": "markdown",
   "metadata": {},
   "source": [
    "#### Stemming and creating a dictionary to map values"
   ]
  },
  {
   "cell_type": "code",
   "execution_count": 13,
   "metadata": {
    "scrolled": true
   },
   "outputs": [],
   "source": [
    "stem_list = [p_stemmer.stem(i) for i in df['protesteridentity'].astype(str)]\n",
    "protester_id = [i for i in df['protesteridentity']]\n",
    "protester_id_dict = dict(zip(protester_id, stem_list))"
   ]
  },
  {
   "cell_type": "code",
   "execution_count": 14,
   "metadata": {
    "scrolled": true
   },
   "outputs": [
    {
     "data": {
      "text/plain": [
       "protesters     1541\n",
       "students        642\n",
       "workers         272\n",
       "unspecified     224\n",
       "farmers         219\n",
       "Name: protesteridentity, dtype: int64"
      ]
     },
     "execution_count": 14,
     "metadata": {},
     "output_type": "execute_result"
    }
   ],
   "source": [
    "df['protesteridentity'].value_counts(normalize=False).head()"
   ]
  },
  {
   "cell_type": "code",
   "execution_count": 15,
   "metadata": {},
   "outputs": [],
   "source": [
    "df['protesteridentity_stem'] = df['protesteridentity'].map(protester_id_dict)"
   ]
  },
  {
   "cell_type": "markdown",
   "metadata": {},
   "source": [
    "#### Gathering the top Protester Identity categories"
   ]
  },
  {
   "cell_type": "code",
   "execution_count": 16,
   "metadata": {},
   "outputs": [],
   "source": [
    "protest_stem_dict = {'protest' : 'protest',              \n",
    "'student' : 'student',              \n",
    "'nan' : 'unspecifi',                  \n",
    "'worker' : 'worker',               \n",
    "'unspecifi' : 'unspecifi',            \n",
    "'farmer' : 'farmer',               \n",
    "'resid' : 'resid',                \n",
    "'opposition support' : 'opposit',   \n",
    "'university stud' : 'student',       \n",
    "'demonstr' : 'protest',              \n",
    "'opposit' : 'opposit',               \n",
    "'women' : 'women',                 \n",
    "'teacher' : 'teacher',               \n",
    "'ladies in whit' : 'ladies_in_whit',     \n",
    "'youth' : 'student',\n",
    "'peopl' : 'peopl',                                                                                    \n",
    "'activist' : 'activist',                                                                                 \n",
    "'taxi driv' : 'taxi_driv',                                                                                \n",
    "'journalist' : 'journalist',                                                                               \n",
    "'pegida patriotic europeans against the islamization of the west' : 'pegida',                          \n",
    "'soldier' : 'soldier',                                                                                  \n",
    "'protestor' : 'protest',                                                                                \n",
    "'stuttgart 21' : 'stuttgart_21',                                                                             \n",
    "'prison' : 'prison',                                                                                  \n",
    "'labor union' : 'labor_union',                                                                              \n",
    "'pro democracy activists; civil human rights front' : 'pro_democraci',                                        \n",
    "'villag' : 'villag',                                                                                   \n",
    "'fishermen' : 'fishermen',                                                                                \n",
    "'pegida' : 'pegida',                                                                                   \n",
    "'muslim' : 'muslim',                                                                                   \n",
    "'local' : 'local',                                                                                    \n",
    "'miner' : 'miner',                                                                                    \n",
    "'indian' : 'indian',                                                                                   \n",
    "'pro democracy activists; hirak' : 'pro_democraci',                                                            \n",
    "'anti government protest' : 'anti_govt',                                                                  \n",
    "'peruvian' : 'peruvian',                                                                                 \n",
    "'ethnic albanian' : 'ethnic albanian',                                                                        \n",
    "'opposition supporters demanding the resignation of president hery rajaonarimampianina' : 'opposit',    \n",
    "'kurd' : 'kurd',                                                                                     \n",
    "'local resid' : 'resid',                                                                             \n",
    "'awami leagu' : 'awami leagu',                                                                             \n",
    "'chaves oppon'  : 'opposit',                                                                              \n",
    "'bangladesh nationalist parti' : 'nationalist_parti',                                                             \n",
    "'civil serv' : 'civil serv',                                                                              \n",
    "'anti corruption protest' : 'anti_curruption',                                                                  \n",
    "'pension' : 'pension',                                                                                  \n",
    "'opposition parti' : 'opposit',                                                                        \n",
    "'pro democraci' : 'pro democraci',                                                                            \n",
    "'trader' : 'trader',                                                                                   \n",
    "'anti government demonstr' : 'anti_govt',                                                                 \n",
    "}"
   ]
  },
  {
   "cell_type": "code",
   "execution_count": 17,
   "metadata": {},
   "outputs": [],
   "source": [
    "df['protesteridentity_stem'] = df['protesteridentity_stem'].map(protest_stem_dict)"
   ]
  },
  {
   "cell_type": "markdown",
   "metadata": {},
   "source": [
    "#### If not in one of the top categories assign Other"
   ]
  },
  {
   "cell_type": "code",
   "execution_count": 18,
   "metadata": {},
   "outputs": [],
   "source": [
    "df['protesteridentity_stem'].fillna('Other', inplace = True)"
   ]
  },
  {
   "cell_type": "markdown",
   "metadata": {},
   "source": [
    "### Government Type as OHE categories"
   ]
  },
  {
   "cell_type": "code",
   "execution_count": 19,
   "metadata": {},
   "outputs": [
    {
     "data": {
      "text/plain": [
       "29"
      ]
     },
     "execution_count": 19,
     "metadata": {},
     "output_type": "execute_result"
    }
   ],
   "source": [
    "len(df['govt_type'].value_counts(normalize=False))"
   ]
  },
  {
   "cell_type": "markdown",
   "metadata": {},
   "source": [
    "There are 29 original categories to condense in order to One Hot Encode and use as a feature."
   ]
  },
  {
   "cell_type": "code",
   "execution_count": 20,
   "metadata": {},
   "outputs": [
    {
     "data": {
      "text/plain": [
       "1211"
      ]
     },
     "execution_count": 20,
     "metadata": {},
     "output_type": "execute_result"
    }
   ],
   "source": [
    "df['govt_type'].isna().sum()"
   ]
  },
  {
   "cell_type": "markdown",
   "metadata": {},
   "source": [
    "#### Filling nulls with None"
   ]
  },
  {
   "cell_type": "code",
   "execution_count": 21,
   "metadata": {},
   "outputs": [],
   "source": [
    "df['govt_type'].fillna('None', inplace=True)"
   ]
  },
  {
   "cell_type": "code",
   "execution_count": 22,
   "metadata": {},
   "outputs": [],
   "source": [
    "govt_dict = {'presidential republic' : 'presidential_republic',                                                                                                                                                                                                                                                                                                                                                                                                                                                                                                                                                                                                                                                                                                                             \n",
    "'parliamentary republic' : 'parliamentary_republic',                                                                                                                                                                                                                                                                                                                                                                                                                                                                                                                                                                                                                                                                                                                \n",
    "'semi-presidential republic' : 'semi-presidential_republic',                                                                                                                                                                                                                                                                                                                                                                                                                                                                                                                                                                                                                                                                                                               \n",
    "'federal parliamentary republic' : 'federal_parliamentary_republic',                                                                                                                                                                                                                                                                                                                                                                                                                                                                                                                                                                                                                                                                                                     \n",
    "'federal presidential republic' : 'federal_presidential_republic',                                                                                                                                                                                                                                                                                                                                                                                                                                                                                                                                                                                                                                                                                              \n",
    "'parliamentary constitutional monarchy; a Commonwealth realm' : 'commonwealth_realm',                                                                                                                                                                                                                                                                                                                                                                                                                                                                                                                                                                                                                                                                                                  \n",
    "'parliamentary constitutional monarchy' : 'parliamentary_constitutional_monarchy',                                                                                                                                                                                                                                                                                                                                                                                                                                                                                                                                                                                                                                                                                                                      \n",
    "'communist party-led state' : 'communist_state',                                                                                                                                                                                                                                                                                                                                                                                                                                                                                                                                                                                                                                                                                                                                       \n",
    "'constitutional monarchy' : 'constitutional_monarchy',                                                                                                                                                                                                                                                                                                                                                                                                                                                                                                                                                                                                                                                                                                                     \n",
    "'semi-presidential federation' : 'semi-presidential_federation',                                                                                                                                                                                                                                                                                                                                                                                                                                                                                                                                                                                                                                                                                                                      \n",
    "'in transition' : 'in_transition',                                                                                                                                                                                                                                                                                                                                                                                                                                                                                                                                                                                                                                                                                                 \n",
    "'federal parliamentary constitutional monarchy\\nnote: all Peninsular Malaysian states have hereditary rulers (commonly referred to as sultans) except Melaka (Malacca) and Pulau Pinang (Penang); those two states along with Sabah and Sarawak in East Malaysia have governors appointed by government; powers of state governments are limited by the federal constitution; under terms of federation, Sabah and Sarawak retain certain constitutional prerogatives (e.g., right to maintain their own immigration controls)' : 'federal_parliamentary_constitutional_monarchy',                                                                                                                                                                                                                                  \n",
    "'Republic of Cyprus - presidential republic; \"Turkish Republic of Northern Cyprus\" (self-declared) - parliamentary republic with enhanced presidency\\nnote: a separation of the two main ethnic communities inhabiting the island began following the outbreak of communal strife in 1963; this separation was further solidified when a Greek military-junta-supported coup attempt prompted the Turkish military intervention in July 1974 that gave the Turkish Cypriots de facto control in the north; Greek Cypriots control the only internationally recognized government on the island; on 15 November 1983, then Turkish Cypriot \"President\" Rauf DENKTAS declared independence and the formation of the \"TRNC,” which is recognized only by Turkey' : 'presidential_republic',   \n",
    "'theocratic republic' : 'theocratic_republic',                                                                                                                                                                                                                                                                                                                                                                                                                                                                                                                                                                                                                                                                                                                                             \n",
    "'communist state' : 'communist_state',                                                                                                                                                                                                                                                                                                                                                                                                                                                                                                                                                                                                                                                                                                                                                 \n",
    "'parliamentary democracy; note - constitutional changes adopted in December 2015 transformed the government to a parliamentary system' : 'parliamentary_democracy',                                                                                                                                                                                                                                                                                                                                                                                                                                                                                                                                                                                                                            \n",
    "'presidential republic in name, although in fact a dictatorship' : 'dictatorship',                                                                                                                                                                                                                                                                                                                                                                                                                                                                                                                                                                                                                                                                                                \n",
    "'federal parliamentary democracy (Parliament of Canada) under a constitutional monarchy; a Commonwealth realm; federal and state authorities and responsibilities regulated in constitution' : 'commonwealth_realm',                                                                                                                                                                                                                                                                                                                                                                                                                                                                                                                                                                       \n",
    "'absolute monarchy' : 'absolute_monarchy',                                                                                                                                                                                                                                                                                                                                                                                                                                                                                                                                                                                                                                                                                                                                             \n",
    "'federal parliamentary democracy under a constitutional monarchy' : 'federal_parliamentary_democracy_under_constitutional_monarchy',                                                                                                                                                                                                                                                                                                                                                                                                                                                                                                                                                                                                                                                                                               \n",
    "'constitutional monarchy (emirate)' : 'emirate',                                                                                                                                                                                                                                                                                                                                                                                                                                                                                                                                                                                                                                                                                                                           \n",
    "'presidential Islamic republic' : 'presidential_islamic_republic',                                                                                                                                                                                                                                                                                                                                                                                                                                                                                                                                                                                                                                                                                                                                   \n",
    "'parliamentary democracy under a constitutional monarchy; a Commonwealth realm' : 'commonwealth_realm',                                                                                                                                                                                                                                                                                                                                                                                                                                                                                                                                                                                                                                                                                   \n",
    "'presidential republic; highly authoritarian' : 'authoritarian_presidential_republic',                                                                                                                                                                                                                                                                                                                                                                                                                                                                                                                                                                                                                                                                                                                     \n",
    "'parliamentary democracy (Parliament) under a constitutional monarchy; a Commonwealth realm' : 'commonwealth_realm',                                                                                                                                                                                                                                                                                                                                                                                                                                                                                                                                                                                                                                                                       \n",
    "'presidential republic; highly authoritarian regime' : 'authoritarian_presidential_republic',                                                                                                                                                                                                                                                                                                                                                                                                                                                                                                                                                                                                                                                                                                         \n",
    "'parliamentary constitutional monarchy; part of the Kingdom of the Netherlands': 'parliamentary_constitutional_monarchy',                                                                                                                                                                                                                                                                                                                                                                                                                                                                                                                                                                                                                                                                                  \n",
    "'federal republic (formally a confederation)' : 'federal_republic',                                                                                                                                                                                                                                                                                                                                                                                                                                                                                                                                                                                                                                                                                                                       \n",
    "'presidential republic; authoritaria' : 'authoritarian_presidential_republic',\n",
    "    \n",
    "    \n",
    "}"
   ]
  },
  {
   "cell_type": "code",
   "execution_count": 23,
   "metadata": {},
   "outputs": [
    {
     "data": {
      "text/plain": [
       "presidential_republic                                            0.333453\n",
       "parliamentary_republic                                           0.186507\n",
       "semi-presidential_republic                                       0.118615\n",
       "federal_parliamentary_republic                                   0.084132\n",
       "federal_presidential_republic                                    0.066962\n",
       "commonwealth_realm                                               0.049864\n",
       "parliamentary_constitutional_monarchy                            0.031693\n",
       "communist_state                                                  0.031263\n",
       "constitutional_monarchy                                          0.021605\n",
       "semi-presidential_federation                                     0.014594\n",
       "in_transition                                                    0.012877\n",
       "federal_parliamentary_constitutional_monarchy                    0.010588\n",
       "theocratic_republic                                              0.008800\n",
       "parliamentary_democracy                                          0.007440\n",
       "dictatorship                                                     0.005079\n",
       "authoritarian_presidential_republic                              0.003720\n",
       "absolute_monarchy                                                0.003434\n",
       "federal_parliamentary_democracy_under_constitutional_monarchy    0.003005\n",
       "emirate                                                          0.002933\n",
       "presidential_islamic_republic                                    0.002790\n",
       "federal_republic                                                 0.000644\n",
       "Name: govt_type, dtype: float64"
      ]
     },
     "execution_count": 23,
     "metadata": {},
     "output_type": "execute_result"
    }
   ],
   "source": [
    "#https://stackoverflow.com/questions/20250771/remap-values-in-pandas-column-with-a-dict\n",
    "df['govt_type'].map(govt_dict).value_counts(normalize=True)"
   ]
  },
  {
   "cell_type": "code",
   "execution_count": 24,
   "metadata": {},
   "outputs": [],
   "source": [
    "df['govt_type'] = df['govt_type'].map(govt_dict)"
   ]
  },
  {
   "cell_type": "code",
   "execution_count": 25,
   "metadata": {},
   "outputs": [],
   "source": [
    "df = pd.get_dummies(data = df, columns = ['govt_type', 'protesteridentity_stem'], drop_first=True)"
   ]
  },
  {
   "cell_type": "code",
   "execution_count": 26,
   "metadata": {},
   "outputs": [],
   "source": [
    "df['gdp_purchasing_power_global_rank'].fillna(df['gdp_purchasing_power_global_rank'].median(), inplace=True)"
   ]
  },
  {
   "cell_type": "code",
   "execution_count": 27,
   "metadata": {},
   "outputs": [],
   "source": [
    "df['gdp_growth_global_rank'].fillna(df['gdp_growth_global_rank'].median(), inplace=True)"
   ]
  },
  {
   "cell_type": "code",
   "execution_count": 28,
   "metadata": {},
   "outputs": [],
   "source": [
    "df['electricity_access_percent'].fillna(df['electricity_access_percent'].median(), inplace=True)"
   ]
  },
  {
   "cell_type": "code",
   "execution_count": 29,
   "metadata": {},
   "outputs": [],
   "source": [
    "df['internet_access_percent'].fillna(df['internet_access_percent'].median(), inplace=True)"
   ]
  },
  {
   "cell_type": "code",
   "execution_count": 30,
   "metadata": {},
   "outputs": [],
   "source": [
    "df['cell_phone_per_100'].fillna(df['cell_phone_per_100'].median(), inplace=True)"
   ]
  },
  {
   "cell_type": "markdown",
   "metadata": {},
   "source": [
    "### Saving to csv"
   ]
  },
  {
   "cell_type": "code",
   "execution_count": 31,
   "metadata": {},
   "outputs": [],
   "source": [
    "df.to_csv('../data/combined_ohe.csv')"
   ]
  },
  {
   "cell_type": "markdown",
   "metadata": {},
   "source": [
    "## Baseline Value"
   ]
  },
  {
   "cell_type": "code",
   "execution_count": 32,
   "metadata": {
    "scrolled": true
   },
   "outputs": [
    {
     "data": {
      "text/plain": [
       "0    0.899822\n",
       "1    0.100178\n",
       "Name: accomodation, dtype: float64"
      ]
     },
     "execution_count": 32,
     "metadata": {},
     "output_type": "execute_result"
    }
   ],
   "source": [
    "df['accomodation'].value_counts(normalize=True)"
   ]
  },
  {
   "cell_type": "markdown",
   "metadata": {},
   "source": [
    "The baseline accuracy is 90% if the model only predicts the majority class of 0: Non-Accommodation."
   ]
  },
  {
   "cell_type": "markdown",
   "metadata": {},
   "source": [
    "# Neural Net"
   ]
  },
  {
   "cell_type": "code",
   "execution_count": 33,
   "metadata": {
    "scrolled": true
   },
   "outputs": [
    {
     "data": {
      "text/plain": [
       "(15193, 114)"
      ]
     },
     "execution_count": 33,
     "metadata": {},
     "output_type": "execute_result"
    }
   ],
   "source": [
    "df.shape"
   ]
  },
  {
   "cell_type": "code",
   "execution_count": 34,
   "metadata": {},
   "outputs": [],
   "source": [
    "df['year'] = pd.to_datetime(df['year'])"
   ]
  },
  {
   "cell_type": "code",
   "execution_count": 35,
   "metadata": {},
   "outputs": [],
   "source": [
    "df.set_index('year', inplace=True)\n",
    "df.sort_index(inplace=True)"
   ]
  },
  {
   "cell_type": "code",
   "execution_count": 36,
   "metadata": {},
   "outputs": [],
   "source": [
    "X = df.drop(columns=['climate', 'natural_resources', 'population_distribution', 'net_migration_per_1000_population','language', 'legal_system',  'accomodation', 'country', 'location', 'participants', 'protesteridentity', 'sources', 'notes', 'final', 'electricity_generating_capacity_global_rank', 'transnational_disputes', 'military_spending_annual_percent_gdp'])\n",
    "y = df['accomodation']"
   ]
  },
  {
   "cell_type": "code",
   "execution_count": 37,
   "metadata": {},
   "outputs": [
    {
     "data": {
      "text/plain": [
       "(Timestamp('1970-01-01 00:00:00.000002014'),\n",
       " Timestamp('1970-01-01 00:00:00.000002014'))"
      ]
     },
     "execution_count": 37,
     "metadata": {},
     "output_type": "execute_result"
    }
   ],
   "source": [
    "X_train, X_test, y_train, y_test = train_test_split(X, y, shuffle=False, random_state=12)\n",
    "X_train.index[-1], X_test.index[0]"
   ]
  },
  {
   "cell_type": "code",
   "execution_count": 38,
   "metadata": {
    "scrolled": true
   },
   "outputs": [],
   "source": [
    "ss = StandardScaler()\n",
    "X_train_sc = ss.fit_transform(X_train)\n",
    "X_test_sc = ss.transform(X_test)"
   ]
  },
  {
   "cell_type": "code",
   "execution_count": 39,
   "metadata": {},
   "outputs": [],
   "source": [
    "train_sequences = TimeseriesGenerator(X_train_sc, y_train, length=3, batch_size=64)\n",
    "test_sequences = TimeseriesGenerator(X_test_sc, y_test, length=3, batch_size=64)"
   ]
  },
  {
   "cell_type": "code",
   "execution_count": 40,
   "metadata": {},
   "outputs": [],
   "source": [
    "input_shape = train_sequences[0][0][0].shape\n",
    "\n",
    "model = Sequential()\n",
    "model.add(GRU(128, input_shape=input_shape, return_sequences=True)) # True if next layer is RNN\n",
    "model.add(GRU(64, return_sequences=False))                         # False if next layer is Dense\n",
    "model.add(Dense(32, activation='relu'))\n",
    "model.add(Dense(8, activation='relu'))\n",
    "model.add(Dense(1, activation='sigmoid'))\n",
    "\n",
    "model.compile(optimizer = Adam(lr=0.0005), loss='binary_crossentropy', metrics=['acc', ])\n",
    "\n",
    "history = model.fit(train_sequences, validation_data=test_sequences, batch_size = epochs=50, verbose=0)"
   ]
  },
  {
   "cell_type": "code",
   "execution_count": 41,
   "metadata": {
    "scrolled": true
   },
   "outputs": [
    {
     "data": {
      "image/png": "[encoded data removed]",
      "text/plain": [
       "<Figure size 432x288 with 1 Axes>"
      ]
     },
     "metadata": {
      "needs_background": "light"
     },
     "output_type": "display_data"
    }
   ],
   "source": [
    "plt.plot(history.history['acc'], label='Train Accuracy')\n",
    "plt.plot(history.history['val_acc'], label='Test Accuracy')\n",
    "plt.title('RNN Training vs Testing Accuracy:\\nProtest Accomodations\\n', fontsize=18)\n",
    "plt.legend();"
   ]
  },
  {
   "cell_type": "code",
   "execution_count": 45,
   "metadata": {},
   "outputs": [
    {
     "name": "stdout",
     "output_type": "stream",
     "text": [
      "Epoch 1/50\n",
      "178/178 [==============================] - 27s 43ms/step - loss: nan - acc: 0.8841 - val_loss: nan - val_acc: 0.9125\n",
      "Epoch 2/50\n",
      "178/178 [==============================] - 4s 24ms/step - loss: nan - acc: 0.8922 - val_loss: nan - val_acc: 0.9125\n",
      "Epoch 3/50\n",
      "178/178 [==============================] - 4s 25ms/step - loss: nan - acc: 0.8983 - val_loss: nan - val_acc: 0.9125\n",
      "Epoch 4/50\n",
      "178/178 [==============================] - 4s 23ms/step - loss: nan - acc: 0.8987 - val_loss: nan - val_acc: 0.9125\n",
      "Epoch 5/50\n",
      "178/178 [==============================] - 4s 25ms/step - loss: nan - acc: 0.9008 - val_loss: nan - val_acc: 0.9125\n"
     ]
    }
   ],
   "source": [
    "model2 = Sequential()\n",
    "model2.add(GRU(128, input_shape=input_shape, return_sequences=True)) # True if next layer is RNN\n",
    "model2.add(GRU(64, return_sequences=True))\n",
    "model2.add(GRU(32, return_sequences=False)) # False if next layer is Dense\n",
    "model2.add(Dense(32, activation='relu'))\n",
    "model2.add(Dense(16, activation='relu'))\n",
    "model2.add(Dense(8, activation='relu'))\n",
    "model2.add(Dense(1, activation='sigmoid'))\n",
    "\n",
    "model2.compile(optimizer='adam', loss='binary_crossentropy', metrics=['acc'])\n",
    "\n",
    "es = EarlyStopping(patience = 5)\n",
    "\n",
    "history2 = model2.fit(train_sequences, validation_data=test_sequences, epochs=50, batch_size=64, callbacks = [es], verbose=True)"
   ]
  },
  {
   "cell_type": "code",
   "execution_count": 46,
   "metadata": {},
   "outputs": [
    {
     "data": {
      "image/png": "[encoded data removed]",
      "text/plain": [
       "<Figure size 432x288 with 1 Axes>"
      ]
     },
     "metadata": {
      "needs_background": "light"
     },
     "output_type": "display_data"
    }
   ],
   "source": [
    "plt.plot(history2.history['acc'], label='Train Accuracy')\n",
    "plt.plot(history2.history['val_acc'], label='Test Accuracy')\n",
    "plt.title('RNN Training vs Testing Accuracy:\\nProtest Accomodations\\n', fontsize=18)\n",
    "plt.legend();"
   ]
  },
  {
   "cell_type": "markdown",
   "metadata": {},
   "source": [
    "Since the model is consistently putting out the same accuracy "
   ]
  }
 ],
 "metadata": {
  "kernelspec": {
   "display_name": "Python 3",
   "language": "python",
   "name": "python3"
  },
  "language_info": {
   "codemirror_mode": {
    "name": "ipython",
    "version": 3
   },
   "file_extension": ".py",
   "mimetype": "text/x-python",
   "name": "python",
   "nbconvert_exporter": "python",
   "pygments_lexer": "ipython3",
   "version": "3.8.5"
  },
  "toc": {
   "base_numbering": 1,
   "nav_menu": {},
   "number_sections": true,
   "sideBar": true,
   "skip_h1_title": false,
   "title_cell": "Table of Contents",
   "title_sidebar": "Contents",
   "toc_cell": true,
   "toc_position": {},
   "toc_section_display": true,
   "toc_window_display": false
  }
 },
 "nbformat": 4,
 "nbformat_minor": 4
}
