{
 "cells": [
  {
   "cell_type": "code",
   "execution_count": 117,
   "id": "featured-giving",
   "metadata": {},
   "outputs": [],
   "source": [
    "import pandas as pd\n",
    "import numpy as np\n",
    "import matplotlib.pyplot as plt\n",
    "import seaborn as sns\n",
    "\n",
    "from sklearn.model_selection import train_test_split, GridSearchCV\n",
    "from sklearn.ensemble import RandomForestClassifier\n",
    "from sklearn.linear_model import LogisticRegression\n",
    "from sklearn.preprocessing import StandardScaler\n",
    "from sklearn.metrics import confusion_matrix, classification_report\n",
    "\n",
    "from imblearn.over_sampling import SMOTE\n",
    "from imblearn.pipeline import Pipeline"
   ]
  },
  {
   "cell_type": "code",
   "execution_count": 123,
   "id": "cooperative-preview",
   "metadata": {},
   "outputs": [],
   "source": [
    "def evaluation(y_actual, predicted):\n",
    "    cnf_matrix = confusion_matrix(y_actual, predicted)\n",
    "\n",
    "    sns.heatmap(pd.DataFrame(cnf_matrix), annot = True, cmap = 'Blues', fmt = 'd')\n",
    "    plt.ylabel('Actual Label')\n",
    "    plt.xlabel('Predicted Label')\n",
    "    \n",
    "    labels = ['Failure', 'Success']\n",
    "    print(classification_report(y_actual, predicted, target_names = labels))"
   ]
  },
  {
   "cell_type": "code",
   "execution_count": 125,
   "id": "smaller-figure",
   "metadata": {},
   "outputs": [],
   "source": [
    "africa = pd.read_csv('../data/africa.csv')\n",
    "asia = pd.read_csv('../data/asia.csv')\n",
    "cen_am = pd.read_csv('../data/central_america.csv')\n",
    "europe = pd.read_csv('../data/europe.csv')\n",
    "mena = pd.read_csv('../data/mena.csv')\n",
    "nor_am = pd.read_csv('../data/north_america.csv')\n",
    "oceania = pd.read_csv('../data/oceania.csv')\n",
    "sou_am = pd.read_csv('../data/south_america.csv')\n",
    "world = pd.read_csv('../data/global_cia_combined.csv')"
   ]
  },
  {
   "cell_type": "code",
   "execution_count": 126,
   "id": "sustained-title",
   "metadata": {},
   "outputs": [
    {
     "name": "stdout",
     "output_type": "stream",
     "text": [
      "Africa: (3184, 52)\n",
      "Asia : (3096, 52)\n",
      "Central America : (450, 52)\n",
      "Europe : (4989, 52)\n",
      "Middle East : (1257, 52)\n",
      "North America : (525, 52)\n",
      "Oceania : (38, 52)\n",
      "South America : (1654, 52)\n",
      "Worldwide : (15193, 52)\n"
     ]
    }
   ],
   "source": [
    "print(f'Africa: {africa.shape}')\n",
    "print(f'Asia : {asia.shape}')\n",
    "print(f'Central America : {cen_am.shape}')\n",
    "print(f'Europe : {europe.shape}')\n",
    "print(f'Middle East : {mena.shape}')\n",
    "print(f'North America : {nor_am.shape}')\n",
    "print(f'Oceania : {oceania.shape}')\n",
    "print(f'South America : {sou_am.shape}')\n",
    "print(f'Worldwide : {world.shape}')"
   ]
  },
  {
   "cell_type": "code",
   "execution_count": 134,
   "id": "israeli-avatar",
   "metadata": {},
   "outputs": [
    {
     "ename": "SyntaxError",
     "evalue": "invalid syntax (<ipython-input-134-ef2148ed05dd>, line 3)",
     "output_type": "error",
     "traceback": [
      "\u001b[0;36m  File \u001b[0;32m\"<ipython-input-134-ef2148ed05dd>\"\u001b[0;36m, line \u001b[0;32m3\u001b[0m\n\u001b[0;31m    print(f'The success rate for protests in {item} is {item['accomodation'].value_counts(normalize = True)}')\u001b[0m\n\u001b[0m                                                              ^\u001b[0m\n\u001b[0;31mSyntaxError\u001b[0m\u001b[0;31m:\u001b[0m invalid syntax\n"
     ]
    }
   ],
   "source": [
    "regions = ['africa','asia','cen_am','europe','mena','nor_am','oceania','sou_am','world']\n",
    "for item in regions:\n",
    "    print(f'The success rate for protests in {item} is {item['accomodation'].value_counts(normalize = True)}')"
   ]
  },
  {
   "cell_type": "code",
   "execution_count": 135,
   "id": "nonprofit-exploration",
   "metadata": {},
   "outputs": [],
   "source": [
    "df['accommodation'] = df['accomodation']\n",
    "df.drop(columns = 'accomodation', inplace = True)"
   ]
  },
  {
   "cell_type": "code",
   "execution_count": 136,
   "id": "forty-conservation",
   "metadata": {},
   "outputs": [],
   "source": [
    "for item in regions:\n",
    "    snake_item = item.replace(' ','_').lower()\n",
    "    df[df['region'] == item].to_csv(f'../data/{snake_item}.csv', index = False)"
   ]
  },
  {
   "cell_type": "code",
   "execution_count": 137,
   "id": "dedicated-mayor",
   "metadata": {},
   "outputs": [],
   "source": [
    "africa = pd.read_csv('../data/africa.csv')"
   ]
  }
 ],
 "metadata": {
  "kernelspec": {
   "display_name": "Python 3",
   "language": "python",
   "name": "python3"
  },
  "language_info": {
   "codemirror_mode": {
    "name": "ipython",
    "version": 3
   },
   "file_extension": ".py",
   "mimetype": "text/x-python",
   "name": "python",
   "nbconvert_exporter": "python",
   "pygments_lexer": "ipython3",
   "version": "3.8.5"
  }
 },
 "nbformat": 4,
 "nbformat_minor": 5
}
