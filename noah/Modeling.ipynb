{
 "cells": [
  {
   "cell_type": "code",
   "execution_count": 153,
   "id": "featured-giving",
   "metadata": {},
   "outputs": [],
   "source": [
    "import pandas as pd\n",
    "import numpy as np\n",
    "import matplotlib.pyplot as plt\n",
    "import seaborn as sns\n",
    "\n",
    "from sklearn.model_selection import train_test_split, GridSearchCV\n",
    "from sklearn.ensemble import RandomForestClassifier\n",
    "from sklearn.linear_model import LogisticRegression\n",
    "from sklearn.preprocessing import StandardScaler\n",
    "from sklearn.metrics import confusion_matrix, classification_report\n",
    "\n",
    "from imblearn.over_sampling import SMOTE\n",
    "from imblearn.pipeline import Pipeline"
   ]
  },
  {
   "cell_type": "code",
   "execution_count": 154,
   "id": "immune-absolute",
   "metadata": {},
   "outputs": [],
   "source": [
    "def evaluation(y_actual, predicted):\n",
    "    cnf_matrix = confusion_matrix(y_actual, predicted)\n",
    "\n",
    "    sns.heatmap(pd.DataFrame(cnf_matrix), annot = True, cmap = 'Blues', fmt = 'd')\n",
    "    plt.ylabel('Actual Label')\n",
    "    plt.xlabel('Predicted Label')\n",
    "    \n",
    "    labels = ['Failure', 'Success']\n",
    "    print(classification_report(y_actual, predicted, target_names = labels))"
   ]
  },
  {
   "cell_type": "code",
   "execution_count": 155,
   "id": "smaller-figure",
   "metadata": {},
   "outputs": [],
   "source": [
    "africa = pd.read_csv('../data/africa.csv')\n",
    "asia = pd.read_csv('../data/asia.csv')\n",
    "cen_am = pd.read_csv('../data/central_america.csv')\n",
    "europe = pd.read_csv('../data/europe.csv')\n",
    "mena = pd.read_csv('../data/mena.csv')\n",
    "nor_am = pd.read_csv('../data/north_america.csv')\n",
    "oceania = pd.read_csv('../data/oceania.csv')\n",
    "sou_am = pd.read_csv('../data/south_america.csv')\n",
    "world = pd.read_csv('../data/global_cia_combined.csv')"
   ]
  },
  {
   "cell_type": "code",
   "execution_count": 166,
   "id": "sustained-title",
   "metadata": {},
   "outputs": [
    {
     "name": "stdout",
     "output_type": "stream",
     "text": [
      "Africa: (3184, 32)\n",
      "Asia : (3096, 32)\n",
      "Central America : (450, 32)\n",
      "Europe : (4989, 32)\n",
      "Middle East : (1257, 32)\n",
      "North America : (525, 32)\n",
      "Oceania : (38, 32)\n",
      "South America : (1654, 32)\n",
      "Worldwide : (15193, 52)\n"
     ]
    }
   ],
   "source": [
    "print(f'Africa: {africa.shape}')\n",
    "print(f'Asia : {asia.shape}')\n",
    "print(f'Central America : {cen_am.shape}')\n",
    "print(f'Europe : {europe.shape}')\n",
    "print(f'Middle East : {mena.shape}')\n",
    "print(f'North America : {nor_am.shape}')\n",
    "print(f'Oceania : {oceania.shape}')\n",
    "print(f'South America : {sou_am.shape}')\n",
    "print(f'Worldwide : {world.shape}')"
   ]
  },
  {
   "cell_type": "code",
   "execution_count": 167,
   "id": "after-simpson",
   "metadata": {},
   "outputs": [
    {
     "data": {
      "text/plain": [
       "Index(['country', 'year', 'region', 'protest', 'protestnumber', 'startday',\n",
       "       'startmonth', 'startyear', 'endday', 'endmonth', 'endyear',\n",
       "       'protesterviolence', 'location', 'participants', 'protesteridentity',\n",
       "       'sources', 'notes', 'final', 'ignore', 'crowd dispersal', 'arrests',\n",
       "       'accomodation', 'shootings', 'beatings', 'killings',\n",
       "       'political behavior, process', 'labor wage dispute',\n",
       "       'price increases, tax policy', 'removal of politician',\n",
       "       'police brutality', 'land farm issue', 'social restrictions'],\n",
       "      dtype='object')"
      ]
     },
     "execution_count": 167,
     "metadata": {},
     "output_type": "execute_result"
    }
   ],
   "source": []
  },
  {
   "cell_type": "code",
   "execution_count": null,
   "id": "adaptive-commitment",
   "metadata": {},
   "outputs": [],
   "source": []
  }
 ],
 "metadata": {
  "kernelspec": {
   "display_name": "Python 3",
   "language": "python",
   "name": "python3"
  },
  "language_info": {
   "codemirror_mode": {
    "name": "ipython",
    "version": 3
   },
   "file_extension": ".py",
   "mimetype": "text/x-python",
   "name": "python",
   "nbconvert_exporter": "python",
   "pygments_lexer": "ipython3",
   "version": "3.8.5"
  }
 },
 "nbformat": 4,
 "nbformat_minor": 5
}
