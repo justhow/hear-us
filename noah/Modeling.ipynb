{
 "cells": [
  {
   "cell_type": "code",
   "execution_count": 18,
   "id": "featured-giving",
   "metadata": {},
   "outputs": [],
   "source": [
    "import pandas as pd\n",
    "import numpy as np\n",
    "import matplotlib.pyplot as plt\n",
    "import seaborn as sns\n",
    "\n",
    "from sklearn.model_selection import train_test_split, GridSearchCV\n",
    "from sklearn.ensemble import RandomForestClassifier\n",
    "from sklearn.linear_model import LogisticRegression\n",
    "from sklearn.preprocessing import StandardScaler\n",
    "from sklearn.metrics import confusion_matrix, classification_report\n",
    "\n",
    "from imblearn.over_sampling import SMOTE\n",
    "from imblearn.pipeline import Pipeline"
   ]
  },
  {
   "cell_type": "code",
   "execution_count": 19,
   "id": "finnish-purpose",
   "metadata": {},
   "outputs": [],
   "source": [
    "def evaluation(y_actual, predicted):\n",
    "    cnf_matrix = confusion_matrix(y_actual, predicted)\n",
    "\n",
    "    sns.heatmap(pd.DataFrame(cnf_matrix), annot = True, cmap = 'Blues', fmt = 'd')\n",
    "    plt.ylabel('Actual Label')\n",
    "    plt.xlabel('Predicted Label')\n",
    "    \n",
    "    labels = ['Failure', 'Success']\n",
    "    print(classification_report(y_actual, predicted, target_names = labels))"
   ]
  },
  {
   "cell_type": "code",
   "execution_count": 36,
   "id": "smaller-figure",
   "metadata": {},
   "outputs": [],
   "source": [
    "africa = pd.read_csv('../data/africa.csv')\n",
    "asia = pd.read_csv('../data/asia.csv')\n",
    "cen_am = pd.read_csv('../data/central_america.csv')\n",
    "europe = pd.read_csv('../data/europe.csv')\n",
    "mena = pd.read_csv('../data/mena.csv')\n",
    "nor_am = pd.read_csv('../data/north_america.csv')\n",
    "oceania = pd.read_csv('../data/oceania.csv')\n",
    "sou_am = pd.read_csv('../data/south_america.csv')\n",
    "world = pd.read_csv('../data/global.csv')"
   ]
  },
  {
   "cell_type": "code",
   "execution_count": 37,
   "id": "sustained-title",
   "metadata": {},
   "outputs": [
    {
     "name": "stdout",
     "output_type": "stream",
     "text": [
      "Africa: (3184, 52)\n",
      "Asia : (3096, 52)\n",
      "Central America : (450, 52)\n",
      "Europe : (4989, 52)\n",
      "Middle East : (1257, 52)\n",
      "North America : (525, 52)\n",
      "Oceania : (38, 52)\n",
      "South America : (1654, 52)\n",
      "Worldwide : (15193, 52)\n"
     ]
    }
   ],
   "source": [
    "print(f'Africa: {africa.shape}')\n",
    "print(f'Asia : {asia.shape}')\n",
    "print(f'Central America : {cen_am.shape}')\n",
    "print(f'Europe : {europe.shape}')\n",
    "print(f'Middle East : {mena.shape}')\n",
    "print(f'North America : {nor_am.shape}')\n",
    "print(f'Oceania : {oceania.shape}')\n",
    "print(f'South America : {sou_am.shape}')\n",
    "print(f'Worldwide : {world.shape}')"
   ]
  },
  {
   "cell_type": "code",
   "execution_count": 38,
   "id": "otherwise-floating",
   "metadata": {},
   "outputs": [
    {
     "data": {
      "text/plain": [
       "Index(['country', 'year', 'region', 'protest', 'protestnumber', 'startday',\n",
       "       'startmonth', 'startyear', 'endday', 'endmonth', 'endyear',\n",
       "       'protesterviolence', 'location', 'participants', 'protesteridentity',\n",
       "       'sources', 'notes', 'final', 'ignore', 'crowd dispersal', 'arrests',\n",
       "       'shootings', 'beatings', 'killings', 'political behavior, process',\n",
       "       'labor wage dispute', 'price increases, tax policy',\n",
       "       'removal of politician', 'police brutality', 'land farm issue',\n",
       "       'social restrictions', 'climate', 'natural_resources',\n",
       "       'population_distribution', 'net_migration_per_1000_population',\n",
       "       'age_0_14_percent', 'age_15_24_percent', 'age_25_54_percent',\n",
       "       'age_55_64_percent', 'age_65_over_percent', 'language', 'govt_type',\n",
       "       'legal_system', 'gdp_purchasing_power_global_rank',\n",
       "       'gdp_growth_global_rank', 'electricity_access_percent',\n",
       "       'electricity_generating_capacity_global_rank',\n",
       "       'internet_access_percent', 'cell_phone_per_100',\n",
       "       'military_spending_annual_percent_gdp', 'transnational_disputes',\n",
       "       'accommodation'],\n",
       "      dtype='object')"
      ]
     },
     "execution_count": 38,
     "metadata": {},
     "output_type": "execute_result"
    }
   ],
   "source": [
    "world.columns"
   ]
  },
  {
   "cell_type": "code",
   "execution_count": 9,
   "id": "spread-weather",
   "metadata": {},
   "outputs": [],
   "source": [
    "regions = [africa, asia, cen_am , europe, mena, nor_am, oceania, sou_am]"
   ]
  },
  {
   "cell_type": "code",
   "execution_count": 43,
   "id": "rubber-movie",
   "metadata": {},
   "outputs": [
    {
     "ename": "SyntaxError",
     "evalue": "invalid syntax (<ipython-input-43-dbaed9cfeda2>, line 1)",
     "output_type": "error",
     "traceback": [
      "\u001b[0;36m  File \u001b[0;32m\"<ipython-input-43-dbaed9cfeda2>\"\u001b[0;36m, line \u001b[0;32m1\u001b[0m\n\u001b[0;31m    print(f'Africa success rate: {africa['accommodation'].value_counts(normalize = True)[1]}')\u001b[0m\n\u001b[0m                                          ^\u001b[0m\n\u001b[0;31mSyntaxError\u001b[0m\u001b[0;31m:\u001b[0m invalid syntax\n"
     ]
    }
   ],
   "source": [
    "print(f'Africa success rate: {africa['accommodation'].value_counts(normalize = True)[1]}')\n",
    "print(f'Asia success rate: {asia['accommodation'].value_counts(normalize = True)[1]}')\n",
    "print(f'Cen Am success rate: {cen_am['accomodation'].value_counts(normalize = True)[1]}')"
   ]
  },
  {
   "cell_type": "code",
   "execution_count": 49,
   "id": "royal-reunion",
   "metadata": {},
   "outputs": [],
   "source": [
    "for item in regions:\n",
    "    region_dict = {}\n",
    "    region_dict.append(africa['accomodation'].value_counts(normalize = True)[1])"
   ]
  },
  {
   "cell_type": "code",
   "execution_count": 42,
   "id": "certified-nitrogen",
   "metadata": {},
   "outputs": [
    {
     "data": {
      "text/plain": [
       "0.12311557788944724"
      ]
     },
     "execution_count": 42,
     "metadata": {},
     "output_type": "execute_result"
    }
   ],
   "source": [
    "africa['accommodation'].value_counts(normalize = True)[1]"
   ]
  },
  {
   "cell_type": "code",
   "execution_count": 45,
   "id": "demanding-eclipse",
   "metadata": {},
   "outputs": [
    {
     "data": {
      "text/plain": [
       "0.12241602067183463"
      ]
     },
     "execution_count": 45,
     "metadata": {},
     "output_type": "execute_result"
    }
   ],
   "source": [
    "asia['accommodation'].value_counts(normalize = True)[1]"
   ]
  },
  {
   "cell_type": "code",
   "execution_count": 47,
   "id": "illegal-console",
   "metadata": {},
   "outputs": [
    {
     "data": {
      "text/plain": [
       "0.08"
      ]
     },
     "execution_count": 47,
     "metadata": {},
     "output_type": "execute_result"
    }
   ],
   "source": [
    "cen_am['accommodation'].value_counts(normalize = True)[1]"
   ]
  },
  {
   "cell_type": "code",
   "execution_count": 48,
   "id": "considerable-paint",
   "metadata": {},
   "outputs": [
    {
     "data": {
      "text/plain": [
       "0.07557677008750995"
      ]
     },
     "execution_count": 48,
     "metadata": {},
     "output_type": "execute_result"
    }
   ],
   "source": [
    "mena['accommodation'].value_counts(normalize = True)[1]"
   ]
  },
  {
   "cell_type": "code",
   "execution_count": 50,
   "id": "random-framing",
   "metadata": {},
   "outputs": [
    {
     "data": {
      "text/plain": [
       "0.08571428571428572"
      ]
     },
     "execution_count": 50,
     "metadata": {},
     "output_type": "execute_result"
    }
   ],
   "source": [
    "nor_am['accommodation'].value_counts(normalize = True)[1]"
   ]
  },
  {
   "cell_type": "code",
   "execution_count": 51,
   "id": "mineral-floating",
   "metadata": {},
   "outputs": [
    {
     "data": {
      "text/plain": [
       "0.11185006045949214"
      ]
     },
     "execution_count": 51,
     "metadata": {},
     "output_type": "execute_result"
    }
   ],
   "source": [
    "sou_am['accommodation'].value_counts(normalize = True)[1]"
   ]
  },
  {
   "cell_type": "code",
   "execution_count": 53,
   "id": "portuguese-commercial",
   "metadata": {},
   "outputs": [
    {
     "data": {
      "text/plain": [
       "0.3684210526315789"
      ]
     },
     "execution_count": 53,
     "metadata": {},
     "output_type": "execute_result"
    }
   ],
   "source": [
    "oceania['accommodation'].value_counts(normalize = True)[1]"
   ]
  },
  {
   "cell_type": "code",
   "execution_count": null,
   "id": "favorite-going",
   "metadata": {},
   "outputs": [],
   "source": []
  }
 ],
 "metadata": {
  "kernelspec": {
   "display_name": "Python 3",
   "language": "python",
   "name": "python3"
  },
  "language_info": {
   "codemirror_mode": {
    "name": "ipython",
    "version": 3
   },
   "file_extension": ".py",
   "mimetype": "text/x-python",
   "name": "python",
   "nbconvert_exporter": "python",
   "pygments_lexer": "ipython3",
   "version": "3.8.5"
  }
 },
 "nbformat": 4,
 "nbformat_minor": 5
}
