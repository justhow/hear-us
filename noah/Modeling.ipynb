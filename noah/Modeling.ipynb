{
 "cells": [
  {
   "cell_type": "code",
   "execution_count": 1,
   "id": "metallic-enemy",
   "metadata": {},
   "outputs": [],
   "source": [
    "import pandas as pd\n",
    "import numpy as np\n",
    "import matplotlib.pyplot as plt"
   ]
  },
  {
   "cell_type": "code",
   "execution_count": 2,
   "id": "wrapped-recording",
   "metadata": {},
   "outputs": [],
   "source": [
    "africa = pd.read_csv('../data/africa.csv')\n",
    "asia = pd.read_csv('../data/asia.csv')\n",
    "cen_am = pd.read_csv('../data/central_america.csv')\n",
    "europe = pd.read_csv('../data/europe.csv')\n",
    "mena = pd.read_csv('../data/mena.csv')\n",
    "nor_am = pd.read_csv('../data/north_america.csv')\n",
    "oceania = pd.read_csv('../data/oceania.csv')\n",
    "sou_am = pd.read_csv('../data/south_america.csv')\n",
    "world = pd.read_csv('../data/global.csv')"
   ]
  },
  {
   "cell_type": "code",
   "execution_count": 3,
   "id": "apart-brick",
   "metadata": {},
   "outputs": [
    {
     "name": "stdout",
     "output_type": "stream",
     "text": [
      "Africa: (3184, 33)\n",
      "Asia : (3096, 33)\n",
      "Central America : (450, 33)\n",
      "Europe : (4989, 33)\n",
      "Middle East : (1257, 33)\n",
      "North America : (525, 33)\n",
      "Oceania : (38, 33)\n",
      "South America : (1654, 33)\n",
      "Worldwide : (15193, 33)\n"
     ]
    }
   ],
   "source": [
    "print(f'Africa: {africa.shape}')\n",
    "print(f'Asia : {asia.shape}')\n",
    "print(f'Central America : {cen_am.shape}')\n",
    "print(f'Europe : {europe.shape}')\n",
    "print(f'Middle East : {mena.shape}')\n",
    "print(f'North America : {nor_am.shape}')\n",
    "print(f'Oceania : {oceania.shape}')\n",
    "print(f'South America : {sou_am.shape}')\n",
    "print(f'Worldwide : {world.shape}')"
   ]
  },
  {
   "cell_type": "code",
   "execution_count": null,
   "id": "distinguished-stake",
   "metadata": {},
   "outputs": [],
   "source": []
  },
  {
   "cell_type": "code",
   "execution_count": null,
   "id": "embedded-hamilton",
   "metadata": {},
   "outputs": [],
   "source": []
  }
 ],
 "metadata": {
  "kernelspec": {
   "display_name": "Python 3",
   "language": "python",
   "name": "python3"
  },
  "language_info": {
   "codemirror_mode": {
    "name": "ipython",
    "version": 3
   },
   "file_extension": ".py",
   "mimetype": "text/x-python",
   "name": "python",
   "nbconvert_exporter": "python",
   "pygments_lexer": "ipython3",
   "version": "3.8.5"
  }
 },
 "nbformat": 4,
 "nbformat_minor": 5
}
