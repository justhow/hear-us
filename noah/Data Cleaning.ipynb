{
 "cells": [
  {
   "cell_type": "code",
   "execution_count": 1,
   "id": "fatal-repeat",
   "metadata": {},
   "outputs": [],
   "source": [
    "import pandas as pd\n",
    "import numpy as np\n",
    "import matplotlib.pyplot as plt"
   ]
  },
  {
   "cell_type": "code",
   "execution_count": 4,
   "id": "sought-marathon",
   "metadata": {},
   "outputs": [],
   "source": [
    "df = pd.read_csv('../data/mmALL_073120_csv.csv')"
   ]
  },
  {
   "cell_type": "code",
   "execution_count": 5,
   "id": "equipped-johnson",
   "metadata": {},
   "outputs": [
    {
     "data": {
      "text/html": [
       "<div>\n",
       "<style scoped>\n",
       "    .dataframe tbody tr th:only-of-type {\n",
       "        vertical-align: middle;\n",
       "    }\n",
       "\n",
       "    .dataframe tbody tr th {\n",
       "        vertical-align: top;\n",
       "    }\n",
       "\n",
       "    .dataframe thead th {\n",
       "        text-align: right;\n",
       "    }\n",
       "</style>\n",
       "<table border=\"1\" class=\"dataframe\">\n",
       "  <thead>\n",
       "    <tr style=\"text-align: right;\">\n",
       "      <th></th>\n",
       "      <th>id</th>\n",
       "      <th>country</th>\n",
       "      <th>ccode</th>\n",
       "      <th>year</th>\n",
       "      <th>region</th>\n",
       "      <th>protest</th>\n",
       "      <th>protestnumber</th>\n",
       "      <th>startday</th>\n",
       "      <th>startmonth</th>\n",
       "      <th>startyear</th>\n",
       "      <th>...</th>\n",
       "      <th>protesterdemand4</th>\n",
       "      <th>stateresponse1</th>\n",
       "      <th>stateresponse2</th>\n",
       "      <th>stateresponse3</th>\n",
       "      <th>stateresponse4</th>\n",
       "      <th>stateresponse5</th>\n",
       "      <th>stateresponse6</th>\n",
       "      <th>stateresponse7</th>\n",
       "      <th>sources</th>\n",
       "      <th>notes</th>\n",
       "    </tr>\n",
       "  </thead>\n",
       "  <tbody>\n",
       "    <tr>\n",
       "      <th>0</th>\n",
       "      <td>201990001</td>\n",
       "      <td>Canada</td>\n",
       "      <td>20</td>\n",
       "      <td>1990</td>\n",
       "      <td>North America</td>\n",
       "      <td>1</td>\n",
       "      <td>1</td>\n",
       "      <td>15.0</td>\n",
       "      <td>1.0</td>\n",
       "      <td>1990.0</td>\n",
       "      <td>...</td>\n",
       "      <td>NaN</td>\n",
       "      <td>ignore</td>\n",
       "      <td>NaN</td>\n",
       "      <td>NaN</td>\n",
       "      <td>NaN</td>\n",
       "      <td>NaN</td>\n",
       "      <td>NaN</td>\n",
       "      <td>NaN</td>\n",
       "      <td>1. great canadian train journeys into history;...</td>\n",
       "      <td>canada s railway passenger system was finally ...</td>\n",
       "    </tr>\n",
       "    <tr>\n",
       "      <th>1</th>\n",
       "      <td>201990002</td>\n",
       "      <td>Canada</td>\n",
       "      <td>20</td>\n",
       "      <td>1990</td>\n",
       "      <td>North America</td>\n",
       "      <td>1</td>\n",
       "      <td>2</td>\n",
       "      <td>25.0</td>\n",
       "      <td>6.0</td>\n",
       "      <td>1990.0</td>\n",
       "      <td>...</td>\n",
       "      <td>NaN</td>\n",
       "      <td>ignore</td>\n",
       "      <td>NaN</td>\n",
       "      <td>NaN</td>\n",
       "      <td>NaN</td>\n",
       "      <td>NaN</td>\n",
       "      <td>NaN</td>\n",
       "      <td>NaN</td>\n",
       "      <td>1. autonomy s cry revived in quebec the new yo...</td>\n",
       "      <td>protestors were only identified as young peopl...</td>\n",
       "    </tr>\n",
       "    <tr>\n",
       "      <th>2</th>\n",
       "      <td>201990003</td>\n",
       "      <td>Canada</td>\n",
       "      <td>20</td>\n",
       "      <td>1990</td>\n",
       "      <td>North America</td>\n",
       "      <td>1</td>\n",
       "      <td>3</td>\n",
       "      <td>1.0</td>\n",
       "      <td>7.0</td>\n",
       "      <td>1990.0</td>\n",
       "      <td>...</td>\n",
       "      <td>NaN</td>\n",
       "      <td>ignore</td>\n",
       "      <td>NaN</td>\n",
       "      <td>NaN</td>\n",
       "      <td>NaN</td>\n",
       "      <td>NaN</td>\n",
       "      <td>NaN</td>\n",
       "      <td>NaN</td>\n",
       "      <td>1. quebec protest after queen calls for unity ...</td>\n",
       "      <td>the queen, after calling on canadians to remai...</td>\n",
       "    </tr>\n",
       "    <tr>\n",
       "      <th>3</th>\n",
       "      <td>201990004</td>\n",
       "      <td>Canada</td>\n",
       "      <td>20</td>\n",
       "      <td>1990</td>\n",
       "      <td>North America</td>\n",
       "      <td>1</td>\n",
       "      <td>4</td>\n",
       "      <td>12.0</td>\n",
       "      <td>7.0</td>\n",
       "      <td>1990.0</td>\n",
       "      <td>...</td>\n",
       "      <td>NaN</td>\n",
       "      <td>accomodation</td>\n",
       "      <td>NaN</td>\n",
       "      <td>NaN</td>\n",
       "      <td>NaN</td>\n",
       "      <td>NaN</td>\n",
       "      <td>NaN</td>\n",
       "      <td>NaN</td>\n",
       "      <td>1. indians gather as siege intensifies; armed ...</td>\n",
       "      <td>canada s federal government has agreed to acqu...</td>\n",
       "    </tr>\n",
       "    <tr>\n",
       "      <th>4</th>\n",
       "      <td>201990005</td>\n",
       "      <td>Canada</td>\n",
       "      <td>20</td>\n",
       "      <td>1990</td>\n",
       "      <td>North America</td>\n",
       "      <td>1</td>\n",
       "      <td>5</td>\n",
       "      <td>14.0</td>\n",
       "      <td>8.0</td>\n",
       "      <td>1990.0</td>\n",
       "      <td>...</td>\n",
       "      <td>NaN</td>\n",
       "      <td>crowd dispersal</td>\n",
       "      <td>arrests</td>\n",
       "      <td>accomodation</td>\n",
       "      <td>NaN</td>\n",
       "      <td>NaN</td>\n",
       "      <td>NaN</td>\n",
       "      <td>NaN</td>\n",
       "      <td>1. dozens hurt in mohawk blockade protest the ...</td>\n",
       "      <td>protests were directed against the state due t...</td>\n",
       "    </tr>\n",
       "  </tbody>\n",
       "</table>\n",
       "<p>5 rows × 31 columns</p>\n",
       "</div>"
      ],
      "text/plain": [
       "          id country  ccode  year         region  protest  protestnumber  \\\n",
       "0  201990001  Canada     20  1990  North America        1              1   \n",
       "1  201990002  Canada     20  1990  North America        1              2   \n",
       "2  201990003  Canada     20  1990  North America        1              3   \n",
       "3  201990004  Canada     20  1990  North America        1              4   \n",
       "4  201990005  Canada     20  1990  North America        1              5   \n",
       "\n",
       "   startday  startmonth  startyear  ...  protesterdemand4   stateresponse1  \\\n",
       "0      15.0         1.0     1990.0  ...               NaN           ignore   \n",
       "1      25.0         6.0     1990.0  ...               NaN           ignore   \n",
       "2       1.0         7.0     1990.0  ...               NaN           ignore   \n",
       "3      12.0         7.0     1990.0  ...               NaN     accomodation   \n",
       "4      14.0         8.0     1990.0  ...               NaN  crowd dispersal   \n",
       "\n",
       "   stateresponse2  stateresponse3 stateresponse4 stateresponse5  \\\n",
       "0             NaN             NaN            NaN            NaN   \n",
       "1             NaN             NaN            NaN            NaN   \n",
       "2             NaN             NaN            NaN            NaN   \n",
       "3             NaN             NaN            NaN            NaN   \n",
       "4         arrests    accomodation            NaN            NaN   \n",
       "\n",
       "  stateresponse6 stateresponse7  \\\n",
       "0            NaN            NaN   \n",
       "1            NaN            NaN   \n",
       "2            NaN            NaN   \n",
       "3            NaN            NaN   \n",
       "4            NaN            NaN   \n",
       "\n",
       "                                             sources  \\\n",
       "0  1. great canadian train journeys into history;...   \n",
       "1  1. autonomy s cry revived in quebec the new yo...   \n",
       "2  1. quebec protest after queen calls for unity ...   \n",
       "3  1. indians gather as siege intensifies; armed ...   \n",
       "4  1. dozens hurt in mohawk blockade protest the ...   \n",
       "\n",
       "                                               notes  \n",
       "0  canada s railway passenger system was finally ...  \n",
       "1  protestors were only identified as young peopl...  \n",
       "2  the queen, after calling on canadians to remai...  \n",
       "3  canada s federal government has agreed to acqu...  \n",
       "4  protests were directed against the state due t...  \n",
       "\n",
       "[5 rows x 31 columns]"
      ]
     },
     "execution_count": 5,
     "metadata": {},
     "output_type": "execute_result"
    }
   ],
   "source": [
    "df.head()"
   ]
  },
  {
   "cell_type": "code",
   "execution_count": 6,
   "id": "qualified-crawford",
   "metadata": {},
   "outputs": [
    {
     "data": {
      "text/plain": [
       "['ignore',\n",
       " 'crowd dispersal',\n",
       " 'arrests',\n",
       " 'accomodation',\n",
       " 'shootings',\n",
       " 'beatings',\n",
       " 'killings']"
      ]
     },
     "execution_count": 6,
     "metadata": {},
     "output_type": "execute_result"
    }
   ],
   "source": [
    "# I will be removing the current columns for state response and replacing them with columns\n",
    "# containing binary data for each type of response. First, I will create a new column which\n",
    "# will contain whatever the final state response for each protest was, in case we want to\n",
    "# use that for something or need more chronological information.\n",
    "\n",
    "responses = df['stateresponse1'].value_counts().index.tolist()\n",
    "responses"
   ]
  },
  {
   "cell_type": "code",
   "execution_count": 7,
   "id": "academic-supplier",
   "metadata": {},
   "outputs": [
    {
     "name": "stderr",
     "output_type": "stream",
     "text": [
      "<ipython-input-7-836a05d1a1e3>:5: SettingWithCopyWarning: \n",
      "A value is trying to be set on a copy of a slice from a DataFrame\n",
      "\n",
      "See the caveats in the documentation: https://pandas.pydata.org/pandas-docs/stable/user_guide/indexing.html#returning-a-view-versus-a-copy\n",
      "  df['final'][ind] = df[f'stateresponse{i}'][ind]\n",
      "/Users/ncantle/opt/anaconda3/lib/python3.8/site-packages/pandas/core/indexing.py:1637: SettingWithCopyWarning: \n",
      "A value is trying to be set on a copy of a slice from a DataFrame\n",
      "\n",
      "See the caveats in the documentation: https://pandas.pydata.org/pandas-docs/stable/user_guide/indexing.html#returning-a-view-versus-a-copy\n",
      "  self._setitem_single_block(indexer, value, name)\n"
     ]
    }
   ],
   "source": [
    "for i in range(7,0,-1):\n",
    "    df['final'] = 0\n",
    "    for ind in range(df.shape[0]):\n",
    "        if df[f'stateresponse{i}'][ind] in responses:\n",
    "            df['final'][ind] = df[f'stateresponse{i}'][ind]"
   ]
  },
  {
   "cell_type": "code",
   "execution_count": 8,
   "id": "sporting-special",
   "metadata": {},
   "outputs": [
    {
     "data": {
      "text/html": [
       "<div>\n",
       "<style scoped>\n",
       "    .dataframe tbody tr th:only-of-type {\n",
       "        vertical-align: middle;\n",
       "    }\n",
       "\n",
       "    .dataframe tbody tr th {\n",
       "        vertical-align: top;\n",
       "    }\n",
       "\n",
       "    .dataframe thead th {\n",
       "        text-align: right;\n",
       "    }\n",
       "</style>\n",
       "<table border=\"1\" class=\"dataframe\">\n",
       "  <thead>\n",
       "    <tr style=\"text-align: right;\">\n",
       "      <th></th>\n",
       "      <th>id</th>\n",
       "      <th>country</th>\n",
       "      <th>ccode</th>\n",
       "      <th>year</th>\n",
       "      <th>region</th>\n",
       "      <th>protest</th>\n",
       "      <th>protestnumber</th>\n",
       "      <th>startday</th>\n",
       "      <th>startmonth</th>\n",
       "      <th>startyear</th>\n",
       "      <th>...</th>\n",
       "      <th>stateresponse1</th>\n",
       "      <th>stateresponse2</th>\n",
       "      <th>stateresponse3</th>\n",
       "      <th>stateresponse4</th>\n",
       "      <th>stateresponse5</th>\n",
       "      <th>stateresponse6</th>\n",
       "      <th>stateresponse7</th>\n",
       "      <th>sources</th>\n",
       "      <th>notes</th>\n",
       "      <th>final</th>\n",
       "    </tr>\n",
       "  </thead>\n",
       "  <tbody>\n",
       "    <tr>\n",
       "      <th>0</th>\n",
       "      <td>201990001</td>\n",
       "      <td>Canada</td>\n",
       "      <td>20</td>\n",
       "      <td>1990</td>\n",
       "      <td>North America</td>\n",
       "      <td>1</td>\n",
       "      <td>1</td>\n",
       "      <td>15.0</td>\n",
       "      <td>1.0</td>\n",
       "      <td>1990.0</td>\n",
       "      <td>...</td>\n",
       "      <td>ignore</td>\n",
       "      <td>NaN</td>\n",
       "      <td>NaN</td>\n",
       "      <td>NaN</td>\n",
       "      <td>NaN</td>\n",
       "      <td>NaN</td>\n",
       "      <td>NaN</td>\n",
       "      <td>1. great canadian train journeys into history;...</td>\n",
       "      <td>canada s railway passenger system was finally ...</td>\n",
       "      <td>ignore</td>\n",
       "    </tr>\n",
       "    <tr>\n",
       "      <th>1</th>\n",
       "      <td>201990002</td>\n",
       "      <td>Canada</td>\n",
       "      <td>20</td>\n",
       "      <td>1990</td>\n",
       "      <td>North America</td>\n",
       "      <td>1</td>\n",
       "      <td>2</td>\n",
       "      <td>25.0</td>\n",
       "      <td>6.0</td>\n",
       "      <td>1990.0</td>\n",
       "      <td>...</td>\n",
       "      <td>ignore</td>\n",
       "      <td>NaN</td>\n",
       "      <td>NaN</td>\n",
       "      <td>NaN</td>\n",
       "      <td>NaN</td>\n",
       "      <td>NaN</td>\n",
       "      <td>NaN</td>\n",
       "      <td>1. autonomy s cry revived in quebec the new yo...</td>\n",
       "      <td>protestors were only identified as young peopl...</td>\n",
       "      <td>ignore</td>\n",
       "    </tr>\n",
       "    <tr>\n",
       "      <th>2</th>\n",
       "      <td>201990003</td>\n",
       "      <td>Canada</td>\n",
       "      <td>20</td>\n",
       "      <td>1990</td>\n",
       "      <td>North America</td>\n",
       "      <td>1</td>\n",
       "      <td>3</td>\n",
       "      <td>1.0</td>\n",
       "      <td>7.0</td>\n",
       "      <td>1990.0</td>\n",
       "      <td>...</td>\n",
       "      <td>ignore</td>\n",
       "      <td>NaN</td>\n",
       "      <td>NaN</td>\n",
       "      <td>NaN</td>\n",
       "      <td>NaN</td>\n",
       "      <td>NaN</td>\n",
       "      <td>NaN</td>\n",
       "      <td>1. quebec protest after queen calls for unity ...</td>\n",
       "      <td>the queen, after calling on canadians to remai...</td>\n",
       "      <td>ignore</td>\n",
       "    </tr>\n",
       "    <tr>\n",
       "      <th>3</th>\n",
       "      <td>201990004</td>\n",
       "      <td>Canada</td>\n",
       "      <td>20</td>\n",
       "      <td>1990</td>\n",
       "      <td>North America</td>\n",
       "      <td>1</td>\n",
       "      <td>4</td>\n",
       "      <td>12.0</td>\n",
       "      <td>7.0</td>\n",
       "      <td>1990.0</td>\n",
       "      <td>...</td>\n",
       "      <td>accomodation</td>\n",
       "      <td>NaN</td>\n",
       "      <td>NaN</td>\n",
       "      <td>NaN</td>\n",
       "      <td>NaN</td>\n",
       "      <td>NaN</td>\n",
       "      <td>NaN</td>\n",
       "      <td>1. indians gather as siege intensifies; armed ...</td>\n",
       "      <td>canada s federal government has agreed to acqu...</td>\n",
       "      <td>accomodation</td>\n",
       "    </tr>\n",
       "    <tr>\n",
       "      <th>4</th>\n",
       "      <td>201990005</td>\n",
       "      <td>Canada</td>\n",
       "      <td>20</td>\n",
       "      <td>1990</td>\n",
       "      <td>North America</td>\n",
       "      <td>1</td>\n",
       "      <td>5</td>\n",
       "      <td>14.0</td>\n",
       "      <td>8.0</td>\n",
       "      <td>1990.0</td>\n",
       "      <td>...</td>\n",
       "      <td>crowd dispersal</td>\n",
       "      <td>arrests</td>\n",
       "      <td>accomodation</td>\n",
       "      <td>NaN</td>\n",
       "      <td>NaN</td>\n",
       "      <td>NaN</td>\n",
       "      <td>NaN</td>\n",
       "      <td>1. dozens hurt in mohawk blockade protest the ...</td>\n",
       "      <td>protests were directed against the state due t...</td>\n",
       "      <td>crowd dispersal</td>\n",
       "    </tr>\n",
       "  </tbody>\n",
       "</table>\n",
       "<p>5 rows × 32 columns</p>\n",
       "</div>"
      ],
      "text/plain": [
       "          id country  ccode  year         region  protest  protestnumber  \\\n",
       "0  201990001  Canada     20  1990  North America        1              1   \n",
       "1  201990002  Canada     20  1990  North America        1              2   \n",
       "2  201990003  Canada     20  1990  North America        1              3   \n",
       "3  201990004  Canada     20  1990  North America        1              4   \n",
       "4  201990005  Canada     20  1990  North America        1              5   \n",
       "\n",
       "   startday  startmonth  startyear  ...   stateresponse1  stateresponse2  \\\n",
       "0      15.0         1.0     1990.0  ...           ignore             NaN   \n",
       "1      25.0         6.0     1990.0  ...           ignore             NaN   \n",
       "2       1.0         7.0     1990.0  ...           ignore             NaN   \n",
       "3      12.0         7.0     1990.0  ...     accomodation             NaN   \n",
       "4      14.0         8.0     1990.0  ...  crowd dispersal         arrests   \n",
       "\n",
       "   stateresponse3  stateresponse4 stateresponse5 stateresponse6  \\\n",
       "0             NaN             NaN            NaN            NaN   \n",
       "1             NaN             NaN            NaN            NaN   \n",
       "2             NaN             NaN            NaN            NaN   \n",
       "3             NaN             NaN            NaN            NaN   \n",
       "4    accomodation             NaN            NaN            NaN   \n",
       "\n",
       "  stateresponse7                                            sources  \\\n",
       "0            NaN  1. great canadian train journeys into history;...   \n",
       "1            NaN  1. autonomy s cry revived in quebec the new yo...   \n",
       "2            NaN  1. quebec protest after queen calls for unity ...   \n",
       "3            NaN  1. indians gather as siege intensifies; armed ...   \n",
       "4            NaN  1. dozens hurt in mohawk blockade protest the ...   \n",
       "\n",
       "                                               notes            final  \n",
       "0  canada s railway passenger system was finally ...           ignore  \n",
       "1  protestors were only identified as young peopl...           ignore  \n",
       "2  the queen, after calling on canadians to remai...           ignore  \n",
       "3  canada s federal government has agreed to acqu...     accomodation  \n",
       "4  protests were directed against the state due t...  crowd dispersal  \n",
       "\n",
       "[5 rows x 32 columns]"
      ]
     },
     "execution_count": 8,
     "metadata": {},
     "output_type": "execute_result"
    }
   ],
   "source": [
    "df.head()"
   ]
  },
  {
   "cell_type": "code",
   "execution_count": 9,
   "id": "adolescent-basement",
   "metadata": {},
   "outputs": [
    {
     "name": "stderr",
     "output_type": "stream",
     "text": [
      "<ipython-input-9-fb033b7d2ab3>:9: SettingWithCopyWarning: \n",
      "A value is trying to be set on a copy of a slice from a DataFrame\n",
      "\n",
      "See the caveats in the documentation: https://pandas.pydata.org/pandas-docs/stable/user_guide/indexing.html#returning-a-view-versus-a-copy\n",
      "  df[f'{item}'][ind] = 1\n"
     ]
    }
   ],
   "source": [
    "# I've seen this warning before, but I don't really understand it and don't think it's\n",
    "# much of a problem? Not totally sure.\n",
    "\n",
    "for item in responses:\n",
    "    df[f'{item}'] = 0\n",
    "    for i in range(1,8):\n",
    "        for ind in range(df.shape[0]):\n",
    "            if df[f'stateresponse{i}'][ind] == f'{item}':\n",
    "                df[f'{item}'][ind] = 1"
   ]
  },
  {
   "cell_type": "code",
   "execution_count": 10,
   "id": "phantom-rider",
   "metadata": {},
   "outputs": [
    {
     "data": {
      "text/plain": [
       "Index(['id', 'country', 'ccode', 'year', 'region', 'protest', 'protestnumber',\n",
       "       'startday', 'startmonth', 'startyear', 'endday', 'endmonth', 'endyear',\n",
       "       'protesterviolence', 'location', 'participants_category',\n",
       "       'participants', 'protesteridentity', 'protesterdemand1',\n",
       "       'protesterdemand2', 'protesterdemand3', 'protesterdemand4',\n",
       "       'stateresponse1', 'stateresponse2', 'stateresponse3', 'stateresponse4',\n",
       "       'stateresponse5', 'stateresponse6', 'stateresponse7', 'sources',\n",
       "       'notes', 'final', 'ignore', 'crowd dispersal', 'arrests',\n",
       "       'accomodation', 'shootings', 'beatings', 'killings'],\n",
       "      dtype='object')"
      ]
     },
     "execution_count": 10,
     "metadata": {},
     "output_type": "execute_result"
    }
   ],
   "source": [
    "df.columns"
   ]
  },
  {
   "cell_type": "code",
   "execution_count": 11,
   "id": "continental-victorian",
   "metadata": {},
   "outputs": [],
   "source": [
    "# We will use the new binary columns instead of these original columns. This takes care of\n",
    "# all the nulls we had and will let us actually use these as target variables. This way, \n",
    "# we can run some binary regression (i.e. \"success\"/\"no success\", \"killings\"/\"no killings\")\n",
    "# and also multiclass regressions where we can include all of the government responses\n",
    "# together as the target.\n",
    "\n",
    "df.drop(columns = ['stateresponse1','stateresponse2','stateresponse3',\n",
    "                  'stateresponse4','stateresponse5','stateresponse6',\n",
    "                  'stateresponse7'], inplace = True)"
   ]
  },
  {
   "cell_type": "code",
   "execution_count": 12,
   "id": "descending-piece",
   "metadata": {},
   "outputs": [],
   "source": [
    "# I'm going to drop the \"ccode\" column, as this is an arbitrary numberical tag applied to\n",
    "# each country and doesn't actually offer any insight. Also dropping the 'id' column since\n",
    "# this is essentially the same information that the date columns are providing.\n",
    "\n",
    "df.drop(columns = ['ccode', 'id'], inplace = True)"
   ]
  },
  {
   "cell_type": "code",
   "execution_count": 13,
   "id": "wound-japan",
   "metadata": {},
   "outputs": [
    {
     "data": {
      "text/plain": [
       "country                      0\n",
       "year                         0\n",
       "region                       0\n",
       "protest                      0\n",
       "protestnumber                0\n",
       "startday                  1906\n",
       "startmonth                1906\n",
       "startyear                 1906\n",
       "endday                    1906\n",
       "endmonth                  1906\n",
       "endyear                   1906\n",
       "protesterviolence         1387\n",
       "location                  1927\n",
       "participants_category     7258\n",
       "participants              1399\n",
       "protesteridentity         2461\n",
       "protesterdemand1          1907\n",
       "protesterdemand2         14168\n",
       "protesterdemand3         16762\n",
       "protesterdemand4         16314\n",
       "sources                   1910\n",
       "notes                     1952\n",
       "final                        0\n",
       "ignore                       0\n",
       "crowd dispersal              0\n",
       "arrests                      0\n",
       "accomodation                 0\n",
       "shootings                    0\n",
       "beatings                     0\n",
       "killings                     0\n",
       "dtype: int64"
      ]
     },
     "execution_count": 13,
     "metadata": {},
     "output_type": "execute_result"
    }
   ],
   "source": [
    "df.isnull().sum()"
   ]
  },
  {
   "cell_type": "code",
   "execution_count": 14,
   "id": "spread-china",
   "metadata": {},
   "outputs": [
    {
     "name": "stderr",
     "output_type": "stream",
     "text": [
      "<ipython-input-14-8e1ec7366244>:13: SettingWithCopyWarning: \n",
      "A value is trying to be set on a copy of a slice from a DataFrame\n",
      "\n",
      "See the caveats in the documentation: https://pandas.pydata.org/pandas-docs/stable/user_guide/indexing.html#returning-a-view-versus-a-copy\n",
      "  df[f'{item}'][ind] = 1\n"
     ]
    }
   ],
   "source": [
    "# Creating the same for loop to create binary columns for the protestor demands instead\n",
    "# of what we currently have. Using basically the same technique as before. These columns\n",
    "# will be really interesting to compare to the state responses (for example, do protests\n",
    "# over the removal of a politician result in killings more than a labor wage dispute?)\n",
    "\n",
    "demands = df['protesterdemand1'].value_counts().index.tolist()\n",
    "\n",
    "for item in demands:\n",
    "    df[f'{item}'] = 0\n",
    "    for i in range(1,5):\n",
    "        for ind in range(df.shape[0]):\n",
    "            if df[f'protesterdemand{i}'][ind] == f'{item}':\n",
    "                df[f'{item}'][ind] = 1"
   ]
  },
  {
   "cell_type": "code",
   "execution_count": 15,
   "id": "comfortable-trinity",
   "metadata": {},
   "outputs": [],
   "source": [
    "# Dropping the original columns which we no longer need.\n",
    "\n",
    "df.drop(columns = ['protesterdemand1','protesterdemand2',\n",
    "                  'protesterdemand3','protesterdemand4'], inplace = True)"
   ]
  },
  {
   "cell_type": "code",
   "execution_count": 16,
   "id": "australian-voice",
   "metadata": {},
   "outputs": [
    {
     "data": {
      "text/plain": [
       "country                           0\n",
       "year                              0\n",
       "region                            0\n",
       "protest                           0\n",
       "protestnumber                     0\n",
       "startday                       1906\n",
       "startmonth                     1906\n",
       "startyear                      1906\n",
       "endday                         1906\n",
       "endmonth                       1906\n",
       "endyear                        1906\n",
       "protesterviolence              1387\n",
       "location                       1927\n",
       "participants_category          7258\n",
       "participants                   1399\n",
       "protesteridentity              2461\n",
       "sources                        1910\n",
       "notes                          1952\n",
       "final                             0\n",
       "ignore                            0\n",
       "crowd dispersal                   0\n",
       "arrests                           0\n",
       "accomodation                      0\n",
       "shootings                         0\n",
       "beatings                          0\n",
       "killings                          0\n",
       "political behavior, process       0\n",
       "labor wage dispute                0\n",
       "price increases, tax policy       0\n",
       "removal of politician             0\n",
       "police brutality                  0\n",
       "land farm issue                   0\n",
       "social restrictions               0\n",
       "dtype: int64"
      ]
     },
     "execution_count": 16,
     "metadata": {},
     "output_type": "execute_result"
    }
   ],
   "source": [
    "df.isnull().sum()"
   ]
  },
  {
   "cell_type": "code",
   "execution_count": 17,
   "id": "everyday-colorado",
   "metadata": {},
   "outputs": [],
   "source": [
    "# I'm just going to remove nulls in the \"notes\" column and see if that takes care of most\n",
    "# of the nulls in the dataframe. Just from looking at it, it looks as though the nulls\n",
    "# are basically contained in the same rows.\n",
    "\n",
    "df = df.dropna(axis=0, subset=['notes'])"
   ]
  },
  {
   "cell_type": "code",
   "execution_count": 18,
   "id": "intensive-stereo",
   "metadata": {},
   "outputs": [
    {
     "data": {
      "text/plain": [
       "country                           0\n",
       "year                              0\n",
       "region                            0\n",
       "protest                           0\n",
       "protestnumber                     0\n",
       "startday                          0\n",
       "startmonth                        0\n",
       "startyear                         0\n",
       "endday                            0\n",
       "endmonth                          0\n",
       "endyear                           0\n",
       "protesterviolence                 0\n",
       "location                         21\n",
       "participants_category          5308\n",
       "participants                     12\n",
       "protesteridentity               554\n",
       "sources                           4\n",
       "notes                             0\n",
       "final                             0\n",
       "ignore                            0\n",
       "crowd dispersal                   0\n",
       "arrests                           0\n",
       "accomodation                      0\n",
       "shootings                         0\n",
       "beatings                          0\n",
       "killings                          0\n",
       "political behavior, process       0\n",
       "labor wage dispute                0\n",
       "price increases, tax policy       0\n",
       "removal of politician             0\n",
       "police brutality                  0\n",
       "land farm issue                   0\n",
       "social restrictions               0\n",
       "dtype: int64"
      ]
     },
     "execution_count": 18,
     "metadata": {},
     "output_type": "execute_result"
    }
   ],
   "source": [
    "df.isnull().sum()"
   ]
  },
  {
   "cell_type": "code",
   "execution_count": 19,
   "id": "intense-massage",
   "metadata": {},
   "outputs": [],
   "source": [
    "# As expected, the vast majority of nulls came from the same place. Getting rid of rows\n",
    "# that had nulls in the \"notes\" column took care of most of the nulls in the dataset."
   ]
  },
  {
   "cell_type": "code",
   "execution_count": 20,
   "id": "caroline-toner",
   "metadata": {},
   "outputs": [],
   "source": [
    "# After looking at the manual, I'm thinking it will make sense to remove the \n",
    "# 'participants_category' column. This is basically a column that puts the \"participants\"\n",
    "# into buckets of various sizes. We will likely be more interested in the actual number\n",
    "# of participants as opposed to the range, and I am confused at the huge number of nulls\n",
    "# in the data for this categorical variable they created. If we decide to analyze the size\n",
    "# of a protest with buckets, we can easily make them ourselves without including 5000+\n",
    "# nulls.\n",
    "\n",
    "df.drop(columns = 'participants_category', inplace = True)"
   ]
  },
  {
   "cell_type": "code",
   "execution_count": 21,
   "id": "impressive-opportunity",
   "metadata": {},
   "outputs": [
    {
     "data": {
      "text/plain": [
       "protesters                                                                            1541\n",
       "students                                                                               642\n",
       "workers                                                                                272\n",
       "unspecified                                                                            224\n",
       "farmers                                                                                219\n",
       "                                                                                      ... \n",
       "cgt truckers union, uft union                                                            1\n",
       "prison officers and families                                                             1\n",
       "communist party, the azamat public movement and the workers movement of kazakhstan       1\n",
       "hard core communist                                                                      1\n",
       "evicted locals                                                                           1\n",
       "Name: protesteridentity, Length: 5768, dtype: int64"
      ]
     },
     "execution_count": 21,
     "metadata": {},
     "output_type": "execute_result"
    }
   ],
   "source": [
    "# I will leave the small number of nulls in for this column.\n",
    "\n",
    "df['protesteridentity'].value_counts()"
   ]
  },
  {
   "cell_type": "code",
   "execution_count": 22,
   "id": "divided-fabric",
   "metadata": {},
   "outputs": [
    {
     "data": {
      "text/plain": [
       "100s            1328\n",
       "1000s           1186\n",
       "50+             1138\n",
       "50               998\n",
       "1000             966\n",
       "                ... \n",
       "223000             1\n",
       "> 15000            1\n",
       "613                1\n",
       "500-700            1\n",
       "2000 to 3000       1\n",
       "Name: participants, Length: 781, dtype: int64"
      ]
     },
     "execution_count": 22,
     "metadata": {},
     "output_type": "execute_result"
    }
   ],
   "source": [
    "# This is a really weird column with some really important information. Either we will find\n",
    "# a way to use this as categorical data or we will have to figure out a way to make this\n",
    "# more numerical. I'm going to leave it for now.\n",
    "\n",
    "df['participants'].value_counts()"
   ]
  },
  {
   "cell_type": "markdown",
   "id": "atmospheric-arizona",
   "metadata": {},
   "source": [
    "At this point, I have created the necessary target variable columns, cleaned up the majority of the nulls, and have turned some categorical data into useful binary columns. I'm going to save this dataframe into the data folder, then I will save a dataframe for each region. This should be a good place to start."
   ]
  },
  {
   "cell_type": "code",
   "execution_count": 24,
   "id": "covered-rapid",
   "metadata": {},
   "outputs": [],
   "source": [
    "df.to_csv('../data/global.csv')"
   ]
  },
  {
   "cell_type": "code",
   "execution_count": 32,
   "id": "mature-mustang",
   "metadata": {},
   "outputs": [
    {
     "data": {
      "text/plain": [
       "['Europe',\n",
       " 'Africa',\n",
       " 'Asia',\n",
       " 'South America',\n",
       " 'MENA',\n",
       " 'North America',\n",
       " 'Central America',\n",
       " 'Oceania']"
      ]
     },
     "execution_count": 32,
     "metadata": {},
     "output_type": "execute_result"
    }
   ],
   "source": [
    "regions = df['region'].value_counts().index.tolist()\n",
    "regions"
   ]
  },
  {
   "cell_type": "code",
   "execution_count": 29,
   "id": "enhanced-arabic",
   "metadata": {},
   "outputs": [],
   "source": [
    "for item in regions:\n",
    "    snake_item = item.replace(' ','_').lower()\n",
    "    df[df['region'] == item].to_csv(f'../data/{snake_item}.csv')"
   ]
  }
 ],
 "metadata": {
  "kernelspec": {
   "display_name": "Python 3",
   "language": "python",
   "name": "python3"
  },
  "language_info": {
   "codemirror_mode": {
    "name": "ipython",
    "version": 3
   },
   "file_extension": ".py",
   "mimetype": "text/x-python",
   "name": "python",
   "nbconvert_exporter": "python",
   "pygments_lexer": "ipython3",
   "version": "3.8.5"
  }
 },
 "nbformat": 4,
 "nbformat_minor": 5
}
