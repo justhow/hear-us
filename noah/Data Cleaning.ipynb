{
 "cells": [
  {
   "cell_type": "code",
   "execution_count": 1,
   "id": "fatal-repeat",
   "metadata": {},
   "outputs": [],
   "source": [
    "import pandas as pd\n",
    "import numpy as np\n",
    "import matplotlib.pyplot as plt"
   ]
  },
  {
   "cell_type": "code",
   "execution_count": 2,
   "id": "sought-marathon",
   "metadata": {},
   "outputs": [],
   "source": [
    "df = pd.read_csv('../data/global_cia_combined.csv')"
   ]
  },
  {
   "cell_type": "code",
   "execution_count": 3,
   "id": "equipped-johnson",
   "metadata": {},
   "outputs": [
    {
     "data": {
      "text/html": [
       "<div>\n",
       "<style scoped>\n",
       "    .dataframe tbody tr th:only-of-type {\n",
       "        vertical-align: middle;\n",
       "    }\n",
       "\n",
       "    .dataframe tbody tr th {\n",
       "        vertical-align: top;\n",
       "    }\n",
       "\n",
       "    .dataframe thead th {\n",
       "        text-align: right;\n",
       "    }\n",
       "</style>\n",
       "<table border=\"1\" class=\"dataframe\">\n",
       "  <thead>\n",
       "    <tr style=\"text-align: right;\">\n",
       "      <th></th>\n",
       "      <th>country</th>\n",
       "      <th>year</th>\n",
       "      <th>region</th>\n",
       "      <th>protest</th>\n",
       "      <th>protestnumber</th>\n",
       "      <th>startday</th>\n",
       "      <th>startmonth</th>\n",
       "      <th>startyear</th>\n",
       "      <th>endday</th>\n",
       "      <th>endmonth</th>\n",
       "      <th>...</th>\n",
       "      <th>govt_type</th>\n",
       "      <th>legal_system</th>\n",
       "      <th>gdp_purchasing_power_global_rank</th>\n",
       "      <th>gdp_growth_global_rank</th>\n",
       "      <th>electricity_access_percent</th>\n",
       "      <th>electricity_generating_capacity_global_rank</th>\n",
       "      <th>internet_access_percent</th>\n",
       "      <th>cell_phone_per_100</th>\n",
       "      <th>military_spending_annual_percent_gdp</th>\n",
       "      <th>transnational_disputes</th>\n",
       "    </tr>\n",
       "  </thead>\n",
       "  <tbody>\n",
       "    <tr>\n",
       "      <th>0</th>\n",
       "      <td>Canada</td>\n",
       "      <td>1990</td>\n",
       "      <td>North America</td>\n",
       "      <td>1</td>\n",
       "      <td>1</td>\n",
       "      <td>15.0</td>\n",
       "      <td>1.0</td>\n",
       "      <td>1990.0</td>\n",
       "      <td>15.0</td>\n",
       "      <td>1.0</td>\n",
       "      <td>...</td>\n",
       "      <td>federal parliamentary democracy (Parliament of...</td>\n",
       "      <td>common law system except in Quebec, where civi...</td>\n",
       "      <td>17.0</td>\n",
       "      <td>112.0</td>\n",
       "      <td>100.0</td>\n",
       "      <td>8.0</td>\n",
       "      <td>91.0</td>\n",
       "      <td>90.0</td>\n",
       "      <td>1.31</td>\n",
       "      <td>managed maritime boundary disputes with the US...</td>\n",
       "    </tr>\n",
       "    <tr>\n",
       "      <th>1</th>\n",
       "      <td>Canada</td>\n",
       "      <td>1990</td>\n",
       "      <td>North America</td>\n",
       "      <td>1</td>\n",
       "      <td>2</td>\n",
       "      <td>25.0</td>\n",
       "      <td>6.0</td>\n",
       "      <td>1990.0</td>\n",
       "      <td>25.0</td>\n",
       "      <td>6.0</td>\n",
       "      <td>...</td>\n",
       "      <td>federal parliamentary democracy (Parliament of...</td>\n",
       "      <td>common law system except in Quebec, where civi...</td>\n",
       "      <td>17.0</td>\n",
       "      <td>112.0</td>\n",
       "      <td>100.0</td>\n",
       "      <td>8.0</td>\n",
       "      <td>91.0</td>\n",
       "      <td>90.0</td>\n",
       "      <td>1.31</td>\n",
       "      <td>managed maritime boundary disputes with the US...</td>\n",
       "    </tr>\n",
       "    <tr>\n",
       "      <th>2</th>\n",
       "      <td>Canada</td>\n",
       "      <td>1990</td>\n",
       "      <td>North America</td>\n",
       "      <td>1</td>\n",
       "      <td>3</td>\n",
       "      <td>1.0</td>\n",
       "      <td>7.0</td>\n",
       "      <td>1990.0</td>\n",
       "      <td>1.0</td>\n",
       "      <td>7.0</td>\n",
       "      <td>...</td>\n",
       "      <td>federal parliamentary democracy (Parliament of...</td>\n",
       "      <td>common law system except in Quebec, where civi...</td>\n",
       "      <td>17.0</td>\n",
       "      <td>112.0</td>\n",
       "      <td>100.0</td>\n",
       "      <td>8.0</td>\n",
       "      <td>91.0</td>\n",
       "      <td>90.0</td>\n",
       "      <td>1.31</td>\n",
       "      <td>managed maritime boundary disputes with the US...</td>\n",
       "    </tr>\n",
       "    <tr>\n",
       "      <th>3</th>\n",
       "      <td>Canada</td>\n",
       "      <td>1990</td>\n",
       "      <td>North America</td>\n",
       "      <td>1</td>\n",
       "      <td>4</td>\n",
       "      <td>12.0</td>\n",
       "      <td>7.0</td>\n",
       "      <td>1990.0</td>\n",
       "      <td>6.0</td>\n",
       "      <td>9.0</td>\n",
       "      <td>...</td>\n",
       "      <td>federal parliamentary democracy (Parliament of...</td>\n",
       "      <td>common law system except in Quebec, where civi...</td>\n",
       "      <td>17.0</td>\n",
       "      <td>112.0</td>\n",
       "      <td>100.0</td>\n",
       "      <td>8.0</td>\n",
       "      <td>91.0</td>\n",
       "      <td>90.0</td>\n",
       "      <td>1.31</td>\n",
       "      <td>managed maritime boundary disputes with the US...</td>\n",
       "    </tr>\n",
       "    <tr>\n",
       "      <th>4</th>\n",
       "      <td>Canada</td>\n",
       "      <td>1990</td>\n",
       "      <td>North America</td>\n",
       "      <td>1</td>\n",
       "      <td>5</td>\n",
       "      <td>14.0</td>\n",
       "      <td>8.0</td>\n",
       "      <td>1990.0</td>\n",
       "      <td>15.0</td>\n",
       "      <td>8.0</td>\n",
       "      <td>...</td>\n",
       "      <td>federal parliamentary democracy (Parliament of...</td>\n",
       "      <td>common law system except in Quebec, where civi...</td>\n",
       "      <td>17.0</td>\n",
       "      <td>112.0</td>\n",
       "      <td>100.0</td>\n",
       "      <td>8.0</td>\n",
       "      <td>91.0</td>\n",
       "      <td>90.0</td>\n",
       "      <td>1.31</td>\n",
       "      <td>managed maritime boundary disputes with the US...</td>\n",
       "    </tr>\n",
       "  </tbody>\n",
       "</table>\n",
       "<p>5 rows × 52 columns</p>\n",
       "</div>"
      ],
      "text/plain": [
       "  country  year         region  protest  protestnumber  startday  startmonth  \\\n",
       "0  Canada  1990  North America        1              1      15.0         1.0   \n",
       "1  Canada  1990  North America        1              2      25.0         6.0   \n",
       "2  Canada  1990  North America        1              3       1.0         7.0   \n",
       "3  Canada  1990  North America        1              4      12.0         7.0   \n",
       "4  Canada  1990  North America        1              5      14.0         8.0   \n",
       "\n",
       "   startyear  endday  endmonth  ...  \\\n",
       "0     1990.0    15.0       1.0  ...   \n",
       "1     1990.0    25.0       6.0  ...   \n",
       "2     1990.0     1.0       7.0  ...   \n",
       "3     1990.0     6.0       9.0  ...   \n",
       "4     1990.0    15.0       8.0  ...   \n",
       "\n",
       "                                           govt_type  \\\n",
       "0  federal parliamentary democracy (Parliament of...   \n",
       "1  federal parliamentary democracy (Parliament of...   \n",
       "2  federal parliamentary democracy (Parliament of...   \n",
       "3  federal parliamentary democracy (Parliament of...   \n",
       "4  federal parliamentary democracy (Parliament of...   \n",
       "\n",
       "                                        legal_system  \\\n",
       "0  common law system except in Quebec, where civi...   \n",
       "1  common law system except in Quebec, where civi...   \n",
       "2  common law system except in Quebec, where civi...   \n",
       "3  common law system except in Quebec, where civi...   \n",
       "4  common law system except in Quebec, where civi...   \n",
       "\n",
       "  gdp_purchasing_power_global_rank gdp_growth_global_rank  \\\n",
       "0                             17.0                  112.0   \n",
       "1                             17.0                  112.0   \n",
       "2                             17.0                  112.0   \n",
       "3                             17.0                  112.0   \n",
       "4                             17.0                  112.0   \n",
       "\n",
       "  electricity_access_percent electricity_generating_capacity_global_rank  \\\n",
       "0                      100.0                                         8.0   \n",
       "1                      100.0                                         8.0   \n",
       "2                      100.0                                         8.0   \n",
       "3                      100.0                                         8.0   \n",
       "4                      100.0                                         8.0   \n",
       "\n",
       "  internet_access_percent cell_phone_per_100  \\\n",
       "0                    91.0               90.0   \n",
       "1                    91.0               90.0   \n",
       "2                    91.0               90.0   \n",
       "3                    91.0               90.0   \n",
       "4                    91.0               90.0   \n",
       "\n",
       "   military_spending_annual_percent_gdp  \\\n",
       "0                                  1.31   \n",
       "1                                  1.31   \n",
       "2                                  1.31   \n",
       "3                                  1.31   \n",
       "4                                  1.31   \n",
       "\n",
       "                              transnational_disputes  \n",
       "0  managed maritime boundary disputes with the US...  \n",
       "1  managed maritime boundary disputes with the US...  \n",
       "2  managed maritime boundary disputes with the US...  \n",
       "3  managed maritime boundary disputes with the US...  \n",
       "4  managed maritime boundary disputes with the US...  \n",
       "\n",
       "[5 rows x 52 columns]"
      ]
     },
     "execution_count": 3,
     "metadata": {},
     "output_type": "execute_result"
    }
   ],
   "source": [
    "df.head()"
   ]
  },
  {
   "cell_type": "code",
   "execution_count": 5,
   "id": "statistical-family",
   "metadata": {},
   "outputs": [
    {
     "data": {
      "text/plain": [
       "Index(['country', 'year', 'region', 'protest', 'protestnumber', 'startday',\n",
       "       'startmonth', 'startyear', 'endday', 'endmonth', 'endyear',\n",
       "       'protesterviolence', 'location', 'participants', 'protesteridentity',\n",
       "       'sources', 'notes', 'final', 'ignore', 'crowd dispersal', 'arrests',\n",
       "       'accomodation', 'shootings', 'beatings', 'killings',\n",
       "       'political behavior, process', 'labor wage dispute',\n",
       "       'price increases, tax policy', 'removal of politician',\n",
       "       'police brutality', 'land farm issue', 'social restrictions', 'climate',\n",
       "       'natural_resources', 'population_distribution',\n",
       "       'net_migration_per_1000_population', 'age_0_14_percent',\n",
       "       'age_15_24_percent', 'age_25_54_percent', 'age_55_64_percent',\n",
       "       'age_65_over_percent', 'language', 'govt_type', 'legal_system',\n",
       "       'gdp_purchasing_power_global_rank', 'gdp_growth_global_rank',\n",
       "       'electricity_access_percent',\n",
       "       'electricity_generating_capacity_global_rank',\n",
       "       'internet_access_percent', 'cell_phone_per_100',\n",
       "       'military_spending_annual_percent_gdp', 'transnational_disputes'],\n",
       "      dtype='object')"
      ]
     },
     "execution_count": 5,
     "metadata": {},
     "output_type": "execute_result"
    }
   ],
   "source": [
    "df.columns"
   ]
  },
  {
   "cell_type": "code",
   "execution_count": 4,
   "id": "qualified-crawford",
   "metadata": {},
   "outputs": [
    {
     "ename": "KeyError",
     "evalue": "'stateresponse1'",
     "output_type": "error",
     "traceback": [
      "\u001b[0;31m---------------------------------------------------------------------------\u001b[0m",
      "\u001b[0;31mKeyError\u001b[0m                                  Traceback (most recent call last)",
      "\u001b[0;32m~/opt/anaconda3/lib/python3.8/site-packages/pandas/core/indexes/base.py\u001b[0m in \u001b[0;36mget_loc\u001b[0;34m(self, key, method, tolerance)\u001b[0m\n\u001b[1;32m   3079\u001b[0m             \u001b[0;32mtry\u001b[0m\u001b[0;34m:\u001b[0m\u001b[0;34m\u001b[0m\u001b[0;34m\u001b[0m\u001b[0m\n\u001b[0;32m-> 3080\u001b[0;31m                 \u001b[0;32mreturn\u001b[0m \u001b[0mself\u001b[0m\u001b[0;34m.\u001b[0m\u001b[0m_engine\u001b[0m\u001b[0;34m.\u001b[0m\u001b[0mget_loc\u001b[0m\u001b[0;34m(\u001b[0m\u001b[0mcasted_key\u001b[0m\u001b[0;34m)\u001b[0m\u001b[0;34m\u001b[0m\u001b[0;34m\u001b[0m\u001b[0m\n\u001b[0m\u001b[1;32m   3081\u001b[0m             \u001b[0;32mexcept\u001b[0m \u001b[0mKeyError\u001b[0m \u001b[0;32mas\u001b[0m \u001b[0merr\u001b[0m\u001b[0;34m:\u001b[0m\u001b[0;34m\u001b[0m\u001b[0;34m\u001b[0m\u001b[0m\n",
      "\u001b[0;32mpandas/_libs/index.pyx\u001b[0m in \u001b[0;36mpandas._libs.index.IndexEngine.get_loc\u001b[0;34m()\u001b[0m\n",
      "\u001b[0;32mpandas/_libs/index.pyx\u001b[0m in \u001b[0;36mpandas._libs.index.IndexEngine.get_loc\u001b[0;34m()\u001b[0m\n",
      "\u001b[0;32mpandas/_libs/hashtable_class_helper.pxi\u001b[0m in \u001b[0;36mpandas._libs.hashtable.PyObjectHashTable.get_item\u001b[0;34m()\u001b[0m\n",
      "\u001b[0;32mpandas/_libs/hashtable_class_helper.pxi\u001b[0m in \u001b[0;36mpandas._libs.hashtable.PyObjectHashTable.get_item\u001b[0;34m()\u001b[0m\n",
      "\u001b[0;31mKeyError\u001b[0m: 'stateresponse1'",
      "\nThe above exception was the direct cause of the following exception:\n",
      "\u001b[0;31mKeyError\u001b[0m                                  Traceback (most recent call last)",
      "\u001b[0;32m<ipython-input-4-2290ca544efb>\u001b[0m in \u001b[0;36m<module>\u001b[0;34m\u001b[0m\n\u001b[1;32m      4\u001b[0m \u001b[0;31m# use that for something or need more chronological information.\u001b[0m\u001b[0;34m\u001b[0m\u001b[0;34m\u001b[0m\u001b[0;34m\u001b[0m\u001b[0m\n\u001b[1;32m      5\u001b[0m \u001b[0;34m\u001b[0m\u001b[0m\n\u001b[0;32m----> 6\u001b[0;31m \u001b[0mresponses\u001b[0m \u001b[0;34m=\u001b[0m \u001b[0mdf\u001b[0m\u001b[0;34m[\u001b[0m\u001b[0;34m'stateresponse1'\u001b[0m\u001b[0;34m]\u001b[0m\u001b[0;34m.\u001b[0m\u001b[0mvalue_counts\u001b[0m\u001b[0;34m(\u001b[0m\u001b[0;34m)\u001b[0m\u001b[0;34m.\u001b[0m\u001b[0mindex\u001b[0m\u001b[0;34m.\u001b[0m\u001b[0mtolist\u001b[0m\u001b[0;34m(\u001b[0m\u001b[0;34m)\u001b[0m\u001b[0;34m\u001b[0m\u001b[0;34m\u001b[0m\u001b[0m\n\u001b[0m\u001b[1;32m      7\u001b[0m \u001b[0mresponses\u001b[0m\u001b[0;34m\u001b[0m\u001b[0;34m\u001b[0m\u001b[0m\n",
      "\u001b[0;32m~/opt/anaconda3/lib/python3.8/site-packages/pandas/core/frame.py\u001b[0m in \u001b[0;36m__getitem__\u001b[0;34m(self, key)\u001b[0m\n\u001b[1;32m   3022\u001b[0m             \u001b[0;32mif\u001b[0m \u001b[0mself\u001b[0m\u001b[0;34m.\u001b[0m\u001b[0mcolumns\u001b[0m\u001b[0;34m.\u001b[0m\u001b[0mnlevels\u001b[0m \u001b[0;34m>\u001b[0m \u001b[0;36m1\u001b[0m\u001b[0;34m:\u001b[0m\u001b[0;34m\u001b[0m\u001b[0;34m\u001b[0m\u001b[0m\n\u001b[1;32m   3023\u001b[0m                 \u001b[0;32mreturn\u001b[0m \u001b[0mself\u001b[0m\u001b[0;34m.\u001b[0m\u001b[0m_getitem_multilevel\u001b[0m\u001b[0;34m(\u001b[0m\u001b[0mkey\u001b[0m\u001b[0;34m)\u001b[0m\u001b[0;34m\u001b[0m\u001b[0;34m\u001b[0m\u001b[0m\n\u001b[0;32m-> 3024\u001b[0;31m             \u001b[0mindexer\u001b[0m \u001b[0;34m=\u001b[0m \u001b[0mself\u001b[0m\u001b[0;34m.\u001b[0m\u001b[0mcolumns\u001b[0m\u001b[0;34m.\u001b[0m\u001b[0mget_loc\u001b[0m\u001b[0;34m(\u001b[0m\u001b[0mkey\u001b[0m\u001b[0;34m)\u001b[0m\u001b[0;34m\u001b[0m\u001b[0;34m\u001b[0m\u001b[0m\n\u001b[0m\u001b[1;32m   3025\u001b[0m             \u001b[0;32mif\u001b[0m \u001b[0mis_integer\u001b[0m\u001b[0;34m(\u001b[0m\u001b[0mindexer\u001b[0m\u001b[0;34m)\u001b[0m\u001b[0;34m:\u001b[0m\u001b[0;34m\u001b[0m\u001b[0;34m\u001b[0m\u001b[0m\n\u001b[1;32m   3026\u001b[0m                 \u001b[0mindexer\u001b[0m \u001b[0;34m=\u001b[0m \u001b[0;34m[\u001b[0m\u001b[0mindexer\u001b[0m\u001b[0;34m]\u001b[0m\u001b[0;34m\u001b[0m\u001b[0;34m\u001b[0m\u001b[0m\n",
      "\u001b[0;32m~/opt/anaconda3/lib/python3.8/site-packages/pandas/core/indexes/base.py\u001b[0m in \u001b[0;36mget_loc\u001b[0;34m(self, key, method, tolerance)\u001b[0m\n\u001b[1;32m   3080\u001b[0m                 \u001b[0;32mreturn\u001b[0m \u001b[0mself\u001b[0m\u001b[0;34m.\u001b[0m\u001b[0m_engine\u001b[0m\u001b[0;34m.\u001b[0m\u001b[0mget_loc\u001b[0m\u001b[0;34m(\u001b[0m\u001b[0mcasted_key\u001b[0m\u001b[0;34m)\u001b[0m\u001b[0;34m\u001b[0m\u001b[0;34m\u001b[0m\u001b[0m\n\u001b[1;32m   3081\u001b[0m             \u001b[0;32mexcept\u001b[0m \u001b[0mKeyError\u001b[0m \u001b[0;32mas\u001b[0m \u001b[0merr\u001b[0m\u001b[0;34m:\u001b[0m\u001b[0;34m\u001b[0m\u001b[0;34m\u001b[0m\u001b[0m\n\u001b[0;32m-> 3082\u001b[0;31m                 \u001b[0;32mraise\u001b[0m \u001b[0mKeyError\u001b[0m\u001b[0;34m(\u001b[0m\u001b[0mkey\u001b[0m\u001b[0;34m)\u001b[0m \u001b[0;32mfrom\u001b[0m \u001b[0merr\u001b[0m\u001b[0;34m\u001b[0m\u001b[0;34m\u001b[0m\u001b[0m\n\u001b[0m\u001b[1;32m   3083\u001b[0m \u001b[0;34m\u001b[0m\u001b[0m\n\u001b[1;32m   3084\u001b[0m         \u001b[0;32mif\u001b[0m \u001b[0mtolerance\u001b[0m \u001b[0;32mis\u001b[0m \u001b[0;32mnot\u001b[0m \u001b[0;32mNone\u001b[0m\u001b[0;34m:\u001b[0m\u001b[0;34m\u001b[0m\u001b[0;34m\u001b[0m\u001b[0m\n",
      "\u001b[0;31mKeyError\u001b[0m: 'stateresponse1'"
     ]
    }
   ],
   "source": [
    "# I will be removing the current columns for state response and replacing them with columns\n",
    "# containing binary data for each type of response. First, I will create a new column which\n",
    "# will contain whatever the final state response for each protest was, in case we want to\n",
    "# use that for something or need more chronological information.\n",
    "\n",
    "responses = df['stateresponse1'].value_counts().index.tolist()\n",
    "responses"
   ]
  },
  {
   "cell_type": "code",
   "execution_count": null,
   "id": "academic-supplier",
   "metadata": {},
   "outputs": [],
   "source": [
    "for i in range(7,0,-1):\n",
    "    df['final'] = 0\n",
    "    for ind in range(df.shape[0]):\n",
    "        if df[f'stateresponse{i}'][ind] in responses:\n",
    "            df['final'][ind] = df[f'stateresponse{i}'][ind]"
   ]
  },
  {
   "cell_type": "code",
   "execution_count": null,
   "id": "adolescent-basement",
   "metadata": {},
   "outputs": [],
   "source": [
    "# I've seen this warning before, but I don't really understand it and don't think it's\n",
    "# much of a problem? Not totally sure.\n",
    "\n",
    "for item in responses:\n",
    "    df[f'{item}'] = 0\n",
    "    for i in range(1,8):\n",
    "        for ind in range(df.shape[0]):\n",
    "            if df[f'stateresponse{i}'][ind] == f'{item}':\n",
    "                df[f'{item}'][ind] = 1"
   ]
  },
  {
   "cell_type": "code",
   "execution_count": null,
   "id": "phantom-rider",
   "metadata": {},
   "outputs": [],
   "source": [
    "df.columns"
   ]
  },
  {
   "cell_type": "code",
   "execution_count": null,
   "id": "continental-victorian",
   "metadata": {},
   "outputs": [],
   "source": [
    "# We will use the new binary columns instead of these original columns. This takes care of\n",
    "# all the nulls we had and will let us actually use these as target variables. This way, \n",
    "# we can run some binary regression (i.e. \"success\"/\"no success\", \"killings\"/\"no killings\")\n",
    "# and also multiclass regressions where we can include all of the government responses\n",
    "# together as the target.\n",
    "\n",
    "df.drop(columns = ['stateresponse1','stateresponse2','stateresponse3',\n",
    "                  'stateresponse4','stateresponse5','stateresponse6',\n",
    "                  'stateresponse7'], inplace = True)"
   ]
  },
  {
   "cell_type": "code",
   "execution_count": null,
   "id": "descending-piece",
   "metadata": {},
   "outputs": [],
   "source": [
    "# I'm going to drop the \"ccode\" column, as this is an arbitrary numberical tag applied to\n",
    "# each country and doesn't actually offer any insight. Also dropping the 'id' column since\n",
    "# this is essentially the same information that the date columns are providing.\n",
    "\n",
    "df.drop(columns = ['ccode', 'id'], inplace = True)"
   ]
  },
  {
   "cell_type": "code",
   "execution_count": null,
   "id": "wound-japan",
   "metadata": {},
   "outputs": [],
   "source": [
    "df.isnull().sum()"
   ]
  },
  {
   "cell_type": "code",
   "execution_count": null,
   "id": "spread-china",
   "metadata": {},
   "outputs": [],
   "source": [
    "# Creating the same for loop to create binary columns for the protestor demands instead\n",
    "# of what we currently have. Using basically the same technique as before. These columns\n",
    "# will be really interesting to compare to the state responses (for example, do protests\n",
    "# over the removal of a politician result in killings more than a labor wage dispute?)\n",
    "\n",
    "demands = df['protesterdemand1'].value_counts().index.tolist()\n",
    "\n",
    "for item in demands:\n",
    "    df[f'{item}'] = 0\n",
    "    for i in range(1,5):\n",
    "        for ind in range(df.shape[0]):\n",
    "            if df[f'protesterdemand{i}'][ind] == f'{item}':\n",
    "                df[f'{item}'][ind] = 1"
   ]
  },
  {
   "cell_type": "code",
   "execution_count": null,
   "id": "comfortable-trinity",
   "metadata": {},
   "outputs": [],
   "source": [
    "# Dropping the original columns which we no longer need.\n",
    "\n",
    "df.drop(columns = ['protesterdemand1','protesterdemand2',\n",
    "                  'protesterdemand3','protesterdemand4'], inplace = True)"
   ]
  },
  {
   "cell_type": "code",
   "execution_count": null,
   "id": "australian-voice",
   "metadata": {},
   "outputs": [],
   "source": [
    "df.isnull().sum()"
   ]
  },
  {
   "cell_type": "code",
   "execution_count": null,
   "id": "everyday-colorado",
   "metadata": {},
   "outputs": [],
   "source": [
    "# I'm just going to remove nulls in the \"notes\" column and see if that takes care of most\n",
    "# of the nulls in the dataframe. Just from looking at it, it looks as though the nulls\n",
    "# are basically contained in the same rows.\n",
    "\n",
    "df = df.dropna(axis=0, subset=['notes'])"
   ]
  },
  {
   "cell_type": "code",
   "execution_count": null,
   "id": "intensive-stereo",
   "metadata": {},
   "outputs": [],
   "source": [
    "df.isnull().sum()"
   ]
  },
  {
   "cell_type": "code",
   "execution_count": null,
   "id": "intense-massage",
   "metadata": {},
   "outputs": [],
   "source": [
    "# As expected, the vast majority of nulls came from the same place. Getting rid of rows\n",
    "# that had nulls in the \"notes\" column took care of most of the nulls in the dataset."
   ]
  },
  {
   "cell_type": "code",
   "execution_count": null,
   "id": "caroline-toner",
   "metadata": {},
   "outputs": [],
   "source": [
    "# After looking at the manual, I'm thinking it will make sense to remove the \n",
    "# 'participants_category' column. This is basically a column that puts the \"participants\"\n",
    "# into buckets of various sizes. We will likely be more interested in the actual number\n",
    "# of participants as opposed to the range, and I am confused at the huge number of nulls\n",
    "# in the data for this categorical variable they created. If we decide to analyze the size\n",
    "# of a protest with buckets, we can easily make them ourselves without including 5000+\n",
    "# nulls.\n",
    "\n",
    "df.drop(columns = 'participants_category', inplace = True)"
   ]
  },
  {
   "cell_type": "code",
   "execution_count": null,
   "id": "impressive-opportunity",
   "metadata": {},
   "outputs": [],
   "source": [
    "# I will leave the small number of nulls in for this column.\n",
    "\n",
    "df['protesteridentity'].value_counts()"
   ]
  },
  {
   "cell_type": "code",
   "execution_count": null,
   "id": "divided-fabric",
   "metadata": {},
   "outputs": [],
   "source": [
    "# This is a really weird column with some really important information. Either we will find\n",
    "# a way to use this as categorical data or we will have to figure out a way to make this\n",
    "# more numerical. I'm going to leave it for now.\n",
    "\n",
    "df['participants'].value_counts()"
   ]
  },
  {
   "cell_type": "code",
   "execution_count": null,
   "id": "bigger-customs",
   "metadata": {},
   "outputs": [],
   "source": [
    "df['accomodation']"
   ]
  },
  {
   "cell_type": "markdown",
   "id": "atmospheric-arizona",
   "metadata": {},
   "source": [
    "At this point, I have created the necessary target variable columns, cleaned up the majority of the nulls, and have turned some categorical data into useful binary columns. I'm going to save this dataframe into the data folder, then I will save a dataframe for each region. This should be a good place to start."
   ]
  },
  {
   "cell_type": "code",
   "execution_count": null,
   "id": "covered-rapid",
   "metadata": {},
   "outputs": [],
   "source": [
    "df.to_csv('../data/global.csv', index = False)"
   ]
  },
  {
   "cell_type": "code",
   "execution_count": null,
   "id": "mature-mustang",
   "metadata": {},
   "outputs": [],
   "source": [
    "regions = df['region'].value_counts().index.tolist()\n",
    "regions"
   ]
  },
  {
   "cell_type": "code",
   "execution_count": null,
   "id": "enhanced-arabic",
   "metadata": {},
   "outputs": [],
   "source": [
    "for item in regions:\n",
    "    snake_item = item.replace(' ','_').lower()\n",
    "    df[df['region'] == item].to_csv(f'../data/{snake_item}.csv', index = False)"
   ]
  }
 ],
 "metadata": {
  "kernelspec": {
   "display_name": "Python 3",
   "language": "python",
   "name": "python3"
  },
  "language_info": {
   "codemirror_mode": {
    "name": "ipython",
    "version": 3
   },
   "file_extension": ".py",
   "mimetype": "text/x-python",
   "name": "python",
   "nbconvert_exporter": "python",
   "pygments_lexer": "ipython3",
   "version": "3.8.5"
  }
 },
 "nbformat": 4,
 "nbformat_minor": 5
}
