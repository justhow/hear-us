{
 "cells": [
  {
   "cell_type": "markdown",
   "metadata": {},
   "source": [
    "# Project 5:"
   ]
  },
  {
   "cell_type": "code",
   "execution_count": 1,
   "metadata": {
    "ExecuteTime": {
     "end_time": "2021-02-19T18:24:14.023160Z",
     "start_time": "2021-02-19T18:24:09.384120Z"
    }
   },
   "outputs": [
    {
     "data": {
      "text/plain": [
       "<Figure size 720x720 with 0 Axes>"
      ]
     },
     "execution_count": 1,
     "metadata": {},
     "output_type": "execute_result"
    },
    {
     "data": {
      "text/plain": [
       "<Figure size 720x720 with 0 Axes>"
      ]
     },
     "metadata": {},
     "output_type": "display_data"
    }
   ],
   "source": [
    "import pandas as pd, numpy as np, matplotlib.pyplot as plt, seaborn as sns\n",
    "\n",
    "import gensim.downloader as api\n",
    "from gensim.models.word2vec import Word2Vec\n",
    "from transformers import pipeline\n",
    "from nltk.tokenize import sent_tokenize, word_tokenize, RegexpTokenizer\n",
    "from nltk.stem import WordNetLemmatizer\n",
    "from nltk.stem.porter import PorterStemmer\n",
    "from nltk.corpus import stopwords\n",
    "from nltk.sentiment.vader import SentimentIntensityAnalyzer\n",
    "\n",
    "import re\n",
    "\n",
    "plt.style.use('dark_background')\n",
    "plt.figure(figsize=(10,10))"
   ]
  },
  {
   "cell_type": "code",
   "execution_count": 2,
   "metadata": {
    "ExecuteTime": {
     "end_time": "2021-02-19T18:24:14.316379Z",
     "start_time": "2021-02-19T18:24:14.024158Z"
    }
   },
   "outputs": [],
   "source": [
    "df = pd.read_csv('../data/global_cia_combined.csv')\n",
    "# df_orig = pd.read_csv('../data/mmALL_073120_csv.csv')"
   ]
  },
  {
   "cell_type": "code",
   "execution_count": 3,
   "metadata": {
    "ExecuteTime": {
     "end_time": "2021-02-19T18:24:14.348372Z",
     "start_time": "2021-02-19T18:24:14.318371Z"
    }
   },
   "outputs": [
    {
     "data": {
      "text/html": [
       "<div>\n",
       "<style scoped>\n",
       "    .dataframe tbody tr th:only-of-type {\n",
       "        vertical-align: middle;\n",
       "    }\n",
       "\n",
       "    .dataframe tbody tr th {\n",
       "        vertical-align: top;\n",
       "    }\n",
       "\n",
       "    .dataframe thead th {\n",
       "        text-align: right;\n",
       "    }\n",
       "</style>\n",
       "<table border=\"1\" class=\"dataframe\">\n",
       "  <thead>\n",
       "    <tr style=\"text-align: right;\">\n",
       "      <th></th>\n",
       "      <th>country</th>\n",
       "      <th>year</th>\n",
       "      <th>region</th>\n",
       "      <th>protest</th>\n",
       "      <th>protestnumber</th>\n",
       "      <th>startday</th>\n",
       "      <th>startmonth</th>\n",
       "      <th>startyear</th>\n",
       "      <th>endday</th>\n",
       "      <th>endmonth</th>\n",
       "      <th>...</th>\n",
       "      <th>govt_type</th>\n",
       "      <th>legal_system</th>\n",
       "      <th>gdp_purchasing_power_global_rank</th>\n",
       "      <th>gdp_growth_global_rank</th>\n",
       "      <th>electricity_access_percent</th>\n",
       "      <th>electricity_generating_capacity_global_rank</th>\n",
       "      <th>internet_access_percent</th>\n",
       "      <th>cell_phone_per_100</th>\n",
       "      <th>military_spending_annual_percent_gdp</th>\n",
       "      <th>transnational_disputes</th>\n",
       "    </tr>\n",
       "  </thead>\n",
       "  <tbody>\n",
       "    <tr>\n",
       "      <th>0</th>\n",
       "      <td>Canada</td>\n",
       "      <td>1990</td>\n",
       "      <td>North America</td>\n",
       "      <td>1</td>\n",
       "      <td>1</td>\n",
       "      <td>15.0</td>\n",
       "      <td>1.0</td>\n",
       "      <td>1990.0</td>\n",
       "      <td>15.0</td>\n",
       "      <td>1.0</td>\n",
       "      <td>...</td>\n",
       "      <td>federal parliamentary democracy (Parliament of...</td>\n",
       "      <td>common law system except in Quebec, where civi...</td>\n",
       "      <td>17.0</td>\n",
       "      <td>112.0</td>\n",
       "      <td>100.0</td>\n",
       "      <td>8.0</td>\n",
       "      <td>91.0</td>\n",
       "      <td>90.0</td>\n",
       "      <td>1.31</td>\n",
       "      <td>managed maritime boundary disputes with the US...</td>\n",
       "    </tr>\n",
       "    <tr>\n",
       "      <th>1</th>\n",
       "      <td>Canada</td>\n",
       "      <td>1990</td>\n",
       "      <td>North America</td>\n",
       "      <td>1</td>\n",
       "      <td>2</td>\n",
       "      <td>25.0</td>\n",
       "      <td>6.0</td>\n",
       "      <td>1990.0</td>\n",
       "      <td>25.0</td>\n",
       "      <td>6.0</td>\n",
       "      <td>...</td>\n",
       "      <td>federal parliamentary democracy (Parliament of...</td>\n",
       "      <td>common law system except in Quebec, where civi...</td>\n",
       "      <td>17.0</td>\n",
       "      <td>112.0</td>\n",
       "      <td>100.0</td>\n",
       "      <td>8.0</td>\n",
       "      <td>91.0</td>\n",
       "      <td>90.0</td>\n",
       "      <td>1.31</td>\n",
       "      <td>managed maritime boundary disputes with the US...</td>\n",
       "    </tr>\n",
       "    <tr>\n",
       "      <th>2</th>\n",
       "      <td>Canada</td>\n",
       "      <td>1990</td>\n",
       "      <td>North America</td>\n",
       "      <td>1</td>\n",
       "      <td>3</td>\n",
       "      <td>1.0</td>\n",
       "      <td>7.0</td>\n",
       "      <td>1990.0</td>\n",
       "      <td>1.0</td>\n",
       "      <td>7.0</td>\n",
       "      <td>...</td>\n",
       "      <td>federal parliamentary democracy (Parliament of...</td>\n",
       "      <td>common law system except in Quebec, where civi...</td>\n",
       "      <td>17.0</td>\n",
       "      <td>112.0</td>\n",
       "      <td>100.0</td>\n",
       "      <td>8.0</td>\n",
       "      <td>91.0</td>\n",
       "      <td>90.0</td>\n",
       "      <td>1.31</td>\n",
       "      <td>managed maritime boundary disputes with the US...</td>\n",
       "    </tr>\n",
       "    <tr>\n",
       "      <th>3</th>\n",
       "      <td>Canada</td>\n",
       "      <td>1990</td>\n",
       "      <td>North America</td>\n",
       "      <td>1</td>\n",
       "      <td>4</td>\n",
       "      <td>12.0</td>\n",
       "      <td>7.0</td>\n",
       "      <td>1990.0</td>\n",
       "      <td>6.0</td>\n",
       "      <td>9.0</td>\n",
       "      <td>...</td>\n",
       "      <td>federal parliamentary democracy (Parliament of...</td>\n",
       "      <td>common law system except in Quebec, where civi...</td>\n",
       "      <td>17.0</td>\n",
       "      <td>112.0</td>\n",
       "      <td>100.0</td>\n",
       "      <td>8.0</td>\n",
       "      <td>91.0</td>\n",
       "      <td>90.0</td>\n",
       "      <td>1.31</td>\n",
       "      <td>managed maritime boundary disputes with the US...</td>\n",
       "    </tr>\n",
       "    <tr>\n",
       "      <th>4</th>\n",
       "      <td>Canada</td>\n",
       "      <td>1990</td>\n",
       "      <td>North America</td>\n",
       "      <td>1</td>\n",
       "      <td>5</td>\n",
       "      <td>14.0</td>\n",
       "      <td>8.0</td>\n",
       "      <td>1990.0</td>\n",
       "      <td>15.0</td>\n",
       "      <td>8.0</td>\n",
       "      <td>...</td>\n",
       "      <td>federal parliamentary democracy (Parliament of...</td>\n",
       "      <td>common law system except in Quebec, where civi...</td>\n",
       "      <td>17.0</td>\n",
       "      <td>112.0</td>\n",
       "      <td>100.0</td>\n",
       "      <td>8.0</td>\n",
       "      <td>91.0</td>\n",
       "      <td>90.0</td>\n",
       "      <td>1.31</td>\n",
       "      <td>managed maritime boundary disputes with the US...</td>\n",
       "    </tr>\n",
       "  </tbody>\n",
       "</table>\n",
       "<p>5 rows × 52 columns</p>\n",
       "</div>"
      ],
      "text/plain": [
       "  country  year         region  protest  protestnumber  startday  startmonth  \\\n",
       "0  Canada  1990  North America        1              1      15.0         1.0   \n",
       "1  Canada  1990  North America        1              2      25.0         6.0   \n",
       "2  Canada  1990  North America        1              3       1.0         7.0   \n",
       "3  Canada  1990  North America        1              4      12.0         7.0   \n",
       "4  Canada  1990  North America        1              5      14.0         8.0   \n",
       "\n",
       "   startyear  endday  endmonth  ...  \\\n",
       "0     1990.0    15.0       1.0  ...   \n",
       "1     1990.0    25.0       6.0  ...   \n",
       "2     1990.0     1.0       7.0  ...   \n",
       "3     1990.0     6.0       9.0  ...   \n",
       "4     1990.0    15.0       8.0  ...   \n",
       "\n",
       "                                           govt_type  \\\n",
       "0  federal parliamentary democracy (Parliament of...   \n",
       "1  federal parliamentary democracy (Parliament of...   \n",
       "2  federal parliamentary democracy (Parliament of...   \n",
       "3  federal parliamentary democracy (Parliament of...   \n",
       "4  federal parliamentary democracy (Parliament of...   \n",
       "\n",
       "                                        legal_system  \\\n",
       "0  common law system except in Quebec, where civi...   \n",
       "1  common law system except in Quebec, where civi...   \n",
       "2  common law system except in Quebec, where civi...   \n",
       "3  common law system except in Quebec, where civi...   \n",
       "4  common law system except in Quebec, where civi...   \n",
       "\n",
       "  gdp_purchasing_power_global_rank gdp_growth_global_rank  \\\n",
       "0                             17.0                  112.0   \n",
       "1                             17.0                  112.0   \n",
       "2                             17.0                  112.0   \n",
       "3                             17.0                  112.0   \n",
       "4                             17.0                  112.0   \n",
       "\n",
       "  electricity_access_percent electricity_generating_capacity_global_rank  \\\n",
       "0                      100.0                                         8.0   \n",
       "1                      100.0                                         8.0   \n",
       "2                      100.0                                         8.0   \n",
       "3                      100.0                                         8.0   \n",
       "4                      100.0                                         8.0   \n",
       "\n",
       "  internet_access_percent cell_phone_per_100  \\\n",
       "0                    91.0               90.0   \n",
       "1                    91.0               90.0   \n",
       "2                    91.0               90.0   \n",
       "3                    91.0               90.0   \n",
       "4                    91.0               90.0   \n",
       "\n",
       "   military_spending_annual_percent_gdp  \\\n",
       "0                                  1.31   \n",
       "1                                  1.31   \n",
       "2                                  1.31   \n",
       "3                                  1.31   \n",
       "4                                  1.31   \n",
       "\n",
       "                              transnational_disputes  \n",
       "0  managed maritime boundary disputes with the US...  \n",
       "1  managed maritime boundary disputes with the US...  \n",
       "2  managed maritime boundary disputes with the US...  \n",
       "3  managed maritime boundary disputes with the US...  \n",
       "4  managed maritime boundary disputes with the US...  \n",
       "\n",
       "[5 rows x 52 columns]"
      ]
     },
     "execution_count": 3,
     "metadata": {},
     "output_type": "execute_result"
    }
   ],
   "source": [
    "df.head()"
   ]
  },
  {
   "cell_type": "code",
   "execution_count": 4,
   "metadata": {
    "ExecuteTime": {
     "end_time": "2021-02-19T18:24:14.364286Z",
     "start_time": "2021-02-19T18:24:14.350324Z"
    }
   },
   "outputs": [
    {
     "data": {
      "text/plain": [
       "Index(['country', 'year', 'region', 'protest', 'protestnumber', 'startday',\n",
       "       'startmonth', 'startyear', 'endday', 'endmonth', 'endyear',\n",
       "       'protesterviolence', 'location', 'participants', 'protesteridentity',\n",
       "       'sources', 'notes', 'final', 'ignore', 'crowd dispersal', 'arrests',\n",
       "       'accomodation', 'shootings', 'beatings', 'killings',\n",
       "       'political behavior, process', 'labor wage dispute',\n",
       "       'price increases, tax policy', 'removal of politician',\n",
       "       'police brutality', 'land farm issue', 'social restrictions', 'climate',\n",
       "       'natural_resources', 'population_distribution',\n",
       "       'net_migration_per_1000_population', 'age_0_14_percent',\n",
       "       'age_15_24_percent', 'age_25_54_percent', 'age_55_64_percent',\n",
       "       'age_65_over_percent', 'language', 'govt_type', 'legal_system',\n",
       "       'gdp_purchasing_power_global_rank', 'gdp_growth_global_rank',\n",
       "       'electricity_access_percent',\n",
       "       'electricity_generating_capacity_global_rank',\n",
       "       'internet_access_percent', 'cell_phone_per_100',\n",
       "       'military_spending_annual_percent_gdp', 'transnational_disputes'],\n",
       "      dtype='object')"
      ]
     },
     "execution_count": 4,
     "metadata": {},
     "output_type": "execute_result"
    }
   ],
   "source": [
    "df.columns"
   ]
  },
  {
   "cell_type": "code",
   "execution_count": 5,
   "metadata": {
    "ExecuteTime": {
     "end_time": "2021-02-19T18:24:14.410954Z",
     "start_time": "2021-02-19T18:24:14.365919Z"
    }
   },
   "outputs": [],
   "source": [
    "# extensive manual imputation, but I think it all holds up to common sense\n",
    "# and I applied it consistently.  I welcome scrutiny for any mistakes.\n",
    "\n",
    "part_dic = {\"100s\": 500, \"1000s\": 5000, \"50\": 50, \"50+\": 75, \"100\": 100,\n",
    "            \"1000\": 1000, \"10000\": 10000, \"200\": 200, \"2000\": 2000,\n",
    "            \"thousands\": 5000, \"300\": 300, \"500\": 500, \"5000\": 5000,\n",
    "            \"10000s\": 50000, \"hundreds\": 500, \"3000\": 3000,\n",
    "            \"tens of thousands\": 50000, \"20000\": 20000, \"150\": 150,\n",
    "            \"4000\": 4000, \"400\": 400, \"100000\": 100000, \"30000\": 30000,\n",
    "            \"15000\": 15000, \"50000\": 50000, \"dozens\": 48, \"1500\": 1500,\n",
    "            \"> 50\": 75, \"1000+\": 1500, \"6000\": 6000, \">100\": 150,\n",
    "            \"7000\": 7000, \"Thousands\": 3000, \"8000\": 8000, \"60\": 60,\n",
    "            \"700\": 700, \"250\": 250, \">1000\": 1500, \"600\": 600,\n",
    "            \"Thousands\": 3000, \"25000\": 25000, \"40000\": 40000,\n",
    "            \"Tens of thousands\": 30000, \"800\": 800, \"200000\": 200000,\n",
    "            \"100000s\": 300000, \"70\": 70, \"2500\": 2500, \"10000+\": 15000,\n",
    "            \"several thousand\": 4000, \"several hundred\": 400,\n",
    "            \"hundreds of thousands\": 300000, \"60000\": 60000, \">10000\": 10000,\n",
    "            \"1000000\": 1000000, \"80\": 80, \"80000\": 80000, \"12000\": 12000,\n",
    "            \"Hundreds\": 300, \"150000\": 150000, \"5000+\": 5000, \"70000\": 70000,\n",
    "            \"300000\": 300000, \"2000+\": 2000, \">5000\": 6000, \"500+\": 500,\n",
    "            \"35000\": 35000, \">300\": 350, \">200\": 250, \"200+\": 200,\n",
    "            \"500000\": 500000, \">2000\": 2500, \"250000\": 250000, \"350\": 350,\n",
    "            \">3000\": 3500, \"10s\": 50, \"400000\": 400000, \"100000+\": 100000,\n",
    "            \"14000\": 14000, \">500\": 600, \"120\": 120, \"1300\": 1300, \"3500\": 3500,\n",
    "            \"1200\": 1200, \"20000+\": 20000, \"> 10000\": 10000, \"3000+\": 3000,\n",
    "            \"45000\": 45000, \"75\": 75, \">30000\": 30000, \"13000\": 13000,\n",
    "            \">150\": 150, \"120000\": 120000, \"300+\": 300, \"18000\": 18000,\n",
    "            \">100000\": 150000, \"100s-1000s\": 500, \"600+\": 650, \"> 100000\": 150000,\n",
    "            \">50000\": 60000, \"800000\": 800000, \"16000\": 16000, \"350000\": 350000,\n",
    "            \"900\": 900, \">20000\": 25000, \"130\": 130, \">400\": 450, \"9000\": 9000,\n",
    "            \">4000\": 4500, \"110000\": 110000, \">15000\": 17500,\n",
    "            \"400+\": 400, \"32000\": 32000, \"About 100\": 100, \"several hundreds\": 400,\n",
    "            \"90000\": 90000, \"6000+\": 6000, \"1500+\": 1500, \"4500\": 4500, \"11000\": 11000,\n",
    "            \"4000+\": 4000, \"700000\": 700000, \"170\": 170, \"700+\": 700, \"> 100\": 150,\n",
    "            \"600000\": 600000, \"150+\": 150, \"1000000s\": 3000000, \"55000\": 55000,\n",
    "            \"750000\": 750000, \"> 1000\": 1000, \"1100\": 1100, \"450\": 450,\n",
    "            \"22000\": 22000, \"30000+\": 30000, \"200-300\": 250,\n",
    "            \"hundreds of thousands\": 300000, \"180\": 180, \"scores\": 60, \">250\": 300,\n",
    "            \"Several thousand\": 4000, \"6500\": 6500, \"130000\": 130000, \"1500-2000\": 1750,\n",
    "            \"55\": 55, \"> 3000\": 3500, \">2500\": 2750, \"90\": 90, \"60+\": 70,\n",
    "            \"> 200\": 250, \"17000\": 17000, \"240000\": 240000, \"280000\": 280000,\n",
    "            \"27000\": 27000, \"1400\": 1400, \"24000\": 24000, \">7000\": 7500, \"340\": 340,\n",
    "            \"28000\": 28000, \"270\": 270, \">1,000\": 1500, \">700\": 750, \"several dozen\": 48,\n",
    "            \"450000\": 450000, \"140\": 140, \"1700\": 1700, \"a few thousand\": 3000,\n",
    "            \"1200000\": 1200000, \"Dozens\": 36, \">300000\": 350000, \"> 5000\": 6000,\n",
    "            \"66000\": 66000, \"<1000\": 1500, \">500000\": 600000, \"About 200\": 200,\n",
    "            \"5500\": 5500, \"> 500\": 550, \"more than 200\": 250, \">1000000\": 1500000,\n",
    "            \"9000+\": 9000, \"7500\": 7500, \"135000\": 135000, \"a few dozen\": 36,\n",
    "            \"> 300000\": 350000, \"100s-10000s\": 50000, \"millions\": 5000000,\n",
    "            \"> 20000\": 25000, \"<2000\": 1500, \"13000+\": 13000, \"61\": 61,\n",
    "            \"Hundreds of thousands\": 300000, \"75000\": 75000, \"A few hundred\": 300,\n",
    "            \"750\": 750, \"hundreds\": 500, \"a group\": 50, \"100s-1000\": 500,\n",
    "            \"100s+\": 500, \">170\": 200, \"3500-5000\": 4000, \">5,000\": 5500,\n",
    "            \"About 3,000\": 3000, \"125\": 125, \"100,000\": 100000, \"36000\": 36000,\n",
    "            \">600\": 650, \"2000000\": 2000000, \"Millions\": 5000000, \"33000\": 33000,\n",
    "            \"<10000\": 9000, \"3600\": 3600, \"74\": 74, \">150000\": 160000, \"260\": 260,\n",
    "            \"100S\": 500, \"800+\": 800, \"hundreds\": 500, \"More than 100 people\": 200,\n",
    "            \"10,000\": 10000, \"900000\": 900000, \"About 100 people\": 100,\n",
    "            \"About 200 people\": 200, \"21000\": 21000, \">2000000\": 2500000,\n",
    "            \"3000000\": 3000000, \"> 400\": 450, \">40000\": 45000, \"50 people\": 50,\n",
    "            \">350\": 375, \"1000s-10000s\": 50000, \"19000\": 19000, \"60-70\": 65,\n",
    "            \"Hundreds of people\": 500, \"25000+\": 25000, \"15000+\": 15000,\n",
    "            \"64+\": 64, \"few dozen\": 36, \"50000-70000\": 60000, \"> 30000\": 35000,\n",
    "            \">115\": 120, \"400-500\": 450, \"About 1000\": 1000, \"more than 50000\": 55000,\n",
    "            \"> 2000\": 2500, \">8000\": 8500, \"52000\": 52000, \"200,000\": 200000,\n",
    "            \"160\": 160, \"<100\": 90, \"107\": 107, \"70+\": 70, \"61000\": 61000,\n",
    "            \">1100\": 1200, \">80\": 90, \"Tens of thousands of people\": 50000,\n",
    "            \"Thousands of people\": 5000, \"Crowds\": 50, \"102\": 102, \">3100\": 3200,\n",
    "            \"7000+\": 7000, \"1000s-10000\": 5000, \"72000\": 72000, \"more than 1000\": 1500,\n",
    "            \"About 500\": 500, \">35000\": 37500, \"<5000\": 4500, \"<200\": 150, \"115\": 115,\n",
    "            \">60\": 65, \">6000\": 6500, \"50000+\": 50000, \"66\": 66, \"200000+\": 200000,\n",
    "            \"100s-10000\": 5000, \"2050\": 2050, \"125000\": 125000, \"65\": 65,\n",
    "            \">1500\": 1750, \">400000\": 450000, \"several dozens\": 48, \"2500+\": 2500,\n",
    "            \"1000S\": 5000, \"500000+\": 500000, \"330\": 330, \"About 2,000 people\": 2000,\n",
    "            \"84000\": 84000, \"57000\": 57000, \"Some 50 members\": 50, \"> 50000\": 50000,\n",
    "            \"465000\": 465000, \"20000-40000\": 30000, \"10000s\": 50000, \"17000+\": 17000,\n",
    "            \">1600\": 1700, \"About 50\": 50, \"dozens arrested \": 2000000,\n",
    "            \"More than seven million people\": 7500000, \"207\": 207, \"7000-15000\": 15000,\n",
    "            \"634\": 634, \"40\": 40, \"<70000\": 70000, \"13800\": 13800, \"93000\": 93000,\n",
    "            \"At least 100\": 100, \"At least 10,000 people\": 10000,\n",
    "            \"Between 11000 and 45000\": 30000, \">3,000\": 3500, \"2,000 to 4,000 people\": 3000,\n",
    "            \"> 3500\": 3500, \"about 8000\": 8000, \"50-99\": 75, \"More than 1,000 teachers\": 1500,\n",
    "            \"4000-12000\": 8000, \">50-1000\": 500, \"370\": 370, \"5600\": 5600, \"> 70\": 80,\n",
    "            \"100000s-3000000\": 250000, \"50_\": 50, \"<15000\": 14000, \"About 10000\": 10000,\n",
    "            \"126000\": 126000, \"57 former estate workers\": 57, \"650000\": 650000, \"About 120\": 120,\n",
    "            \"240\": 240, \"680\": 680, \"86\": 86, \"2400+\": 2400, \"3300\": 3300,\n",
    "            \"Nearly 700,000\": 650000, \">440\": 450, \"51\": 51, \"25000-200000\": 200000,\n",
    "            \">80000\": 85000, \"About 30,000\": 30000, \"about 100\": 100,\n",
    "            \"hundreds of thousands to 1.4 million\": 900000, \"Over 200 local protesters\": 200,\n",
    "            \"14500\": 14500, \"> 9000\": 9500, \">56\": 57, \"195\": 195, \"300-400\": 350,\n",
    "            \"7000-9000\": 8000, \"137000\": 137000, \"up to two million\": 2000000,\n",
    "            \"Over 3,000\": 3500, \"241\": 241, \"24000+\": 24000,\n",
    "            \"March organiser and legal-sector lawmaker Dennis Kwok, said more than 2,000 people joined the protest. Police put the turnout at 1,700.\": 1800,\n",
    "            \">15,000\": 16000, \"128\": 128, \"340000\": 340000, \"5600+\": 5600,\n",
    "            \"couple thousands\": 2000, \"840\": 840, \"Nearly 500\": 450, \"613\": 613,\n",
    "            \"a few hundreds\": 300, \"About 6,000 people\": 6000, \"a few hundred\": 300,\n",
    "            \"2450\": 2450, \"155\": 155, \"51000+\": 51000, \"About 12,000 protesters\": 12000,\n",
    "            \"29000\": 29000, \"500-700\": 600, \"at least 500\": 500, \">9000\": 9500,\n",
    "            \"<375000\": 380000, \"52\": 52, \"35000 - 70000\": 52500, \"138\": 138,\n",
    "            \"ABOUT 130 members\": 130, \"128000\": 128000, \"<1000000\": 1200000,\n",
    "            \">2900\": 3000, \"about 300\": 300, \"68000\": 68000, \"350+\": 350, \"About 300\": 300,\n",
    "            \"5000-10000\": 7500, \"1 million\": 1000000, \">70000\": 75000,\n",
    "            \"Thousands of Indians, including Bollywood actors\": 5000,\n",
    "            \"More than 10,000 citizens\": 15000, \"50s\": 100, \"3000-5000\": 4000, \"50-100\": 75,\n",
    "            \"Around 200 protesters\": 200, \"at least 160000\": 160000, \"540\": 540,\n",
    "            \"In northern Chiang Mai province, 200 kamnans and village heads; in Phetchaburi, about 400 kamnans and village heads\": 600,\n",
    "            \"At least 10,000\": 10000, \"56000+\": 56000, \"15,000\": 15000, \">18000\": 19000,\n",
    "            \"Some 250 residents\": 250, \"4200\": 4200, \"btw. 20000 & 30000\": 25000,\n",
    "            \"100s-500\": 250, \"few thousand\": 3000, \"Estimated number of protesters at 10,000\" : 10000,\n",
    "            \"2200+\" : 2200, \"More than 500,000 people\" : 600000, \"150-300\" : 225, \"1000-10000\" : 6000,\n",
    "            \"187000\" : 187000, \"138000\" : 138000, \"63000\" : 63000, \"161\" : 161, \"920\" : 920,\n",
    "            \"13,000 people\" : 13000, \"56000\" : 56000, \"132+\" : 132, \"69000\" : 69000, \"51+\" : 52,\n",
    "            \"busloads\" : 100, \"Up to 300 people\": 250, \"71\" : 71, \"106\" : 106, \"3000-4000\" : 3500,\n",
    "            \"65000\" : 65000, \"about 3000\" : 3000, \"a few hundred\" : 300, \"About 100 taxis\" : 100, \n",
    "            \"500-1000\" : 750, \"520+\" : 520, \"SOME 3,000 people\" : 3000, \"181\" : 181, \n",
    "            \"100-1500+\" : 1000, \"700 - >1000\" : 850, \"Estimated 6,000 drivers\" : 6000,\n",
    "            \"615000\" : 615000, \"About 50 activists\" : 50, \"3000 to 5000\" : 4000, \"<500\" : 550,\n",
    "            \"300-1000s\" : 1000, \"Some 5,000 members\" : 5000, \"407791\" : 407791, \">340\" : 350,\n",
    "            \"298\" : 298, \"> 70000\" : 75000, \"124000\" : 124000, \"Some 100 residents\" : 100, \n",
    "            \">200000\" : 250000, \"20000s\" : 60000, \"About 300 people\" : 300, \"Nearly 70 parents\" : 70,\n",
    "            \"1500-10000\" : 6000, \"112\" : 112, \"Some 100 demonstrators\" : 100, \"< 100000\" : 90000,\n",
    "            \"About 80\" : 80, \"More than 10,000 protesters\" : 15000, \"73\" : 73, \"800-900\" : 850,\n",
    "            \"3000-6000\" : 4500, \"170000\" : 170000, \">224\" : 225, \"<20000\" : 25000, \"88\" : 88,\n",
    "            \"141\" : 141, \"34000\" : 34000, \"600-700\" : 650, \"1600\" : 1600, \"More than 1 000\" : 1500,\n",
    "            \"200-3000\" : 1600, \"6000-8000\" : 7000, \"2,000 to 3,000\" : 2500, \n",
    "            \"Several thousand protesters\" : 4000, \"567+\" : 567, \">250-300\" : 300, \">370\" : 380,\n",
    "            \"200-400\" : 300, \"150-200\" : 175, \"20000-30000\" : 25000, \"Over 100\" : 150, \n",
    "            \"10300\" : 10300, \"About 300 protesters\" : 300, \">16000\" : 16500, \"2700\" : 2700,\n",
    "            \"50000-80000\" : 65000, \"> 700\" : 750, \"Hundreds of Venezuelans\" : 500, \n",
    "            \"> 150000\" : 160000, \"5000-50000\" : 30000, \"193\" : 193, \"About 100 villagers\" : 100,\n",
    "            \"119500\" : 119500, \"About 4000\" : 4000, \"350-400\" : 375, \"> 800\" : 850, \"223000\" : 223000,\n",
    "            \"8000-9000\" : 8500, \"Some 500 people\" : 500, \">459\" : 460,  \n",
    "            \"As many as 25,000 protesters\" : 25000, \">3,000\" : 3500, \"<300\" : 350, \"234\" : 234,\n",
    "            \"more than 25000\" : 26000, \"23000+\" : 23000, \"> 40000\" : 45000, \"2400\" : 2400, \n",
    "            \"HUNDREDS OF thousands of Venezuelans\" : 500000, \"> 500000\" : 600000, \"4800\" : 4800, \n",
    "            \"> 400000\" : 450000, \"28500\" : 28500, \"87\" : 87, \"118000\" : 118000, \"290000\" : 290000,\n",
    "            \"3900\" : 3900, \"465\" : 465, \"53000\" : 53000, \"between 35,000 and 50,000\" : 42500, \n",
    "            \"6600\" : 6600, \"1300-2000\" : 1650, \"510000\" : 510000, \">800\" : 850, \n",
    "            \"About 5,000 people\" : 5000, \"950\" : 950, \"23000\" : 23000, \"149\" : 149, \"500-600\" : 550,\n",
    "            \">5100\" : 5200, \"320000\" : 320000, \"3700\" : 3700, \"1100000\" : 1100000,\n",
    "            \"100000-200000\" : 150000, \"300000+\" : 300000, \"Thousands of miners\" : 5000,\n",
    "            \"About 7,000\" : 7000, \"58000+\" : 58000, \"500 people\" : 500, \"about 2000\" : 2000, \n",
    "            \"14059\" : 14059, \"About a hundred protesters\" : 100, \"1500000\" : 1500000, \"90+\" : 90,\n",
    "            \"500+\" : 500, \"Up to 100,000\" : 100000, \"12000+\" : 12000,  \"more than 2000\" : 2500,\n",
    "            \"280\" : 280, \"> 200000\" : 250000, \"400-600+\" : 500, \"8500\" : 8500, \"2000 to 3000\" : 2500, \n",
    "            \"130+\" : 130, \"over a million\" : 1000000, \"<50\" : 40, \"180000\" : 180000,\n",
    "            \"Hundreds of youths\" : 500, \"29\" : 29, \"<6700\" : 6500, \"a few thousand\" : 3000,\n",
    "            \">37000\" : 35000, \">213\" : 225, \"825000\" : 825000, \"<200000\" : 180000, \"260-500\" : 380,\n",
    "            \"12500\" : 12500, \">1200\" : 1250, \"500-1200\" : 850, \"54\" : 54, \"17200\" : 17200, \n",
    "            \"> 1500\" : 1600, \"2600\" : 2600, \"> 50 < 100\" : 75, \"Several hundred\" : 400, \"311\" : 311, \n",
    "            \"80-100\" : 90, \"About 500 people\" : 500, \"7000000\" : 7000000, \"1250\" : 1250, \n",
    "            \"44000\" : 44000, \"168000\" : 168000, \"> 15000\" : 16000, \"Estimated to be 15,500\" : 15500,\n",
    "            \"430000+\" : 430000, \"50-60\" : 55, \"650\" : 650,  \"80+\" : 80, \"79\" : 79, \n",
    "            \"1100-10000s\" : 6500, \"More than 4,000 people\" : 4500, \"300s\" : 1000, \"around 50\" : 50,\n",
    "            \"1800+\" : 1800, \"> 1300\" : 1350, \"22800\" : 22800, \"Hundreds of college students\" : 500,\n",
    "            \"A general strike that paralysed Venezuela\" : 5000000, \"50000-100000\" : 75000,\n",
    "            \"300-350\" : 325, \"230 families\" : 1000, \"1000s-23000\" : 18000, \"40000-80000\" : 60000, \n",
    "            \"very low thousands\" : 2000, \"Several hundred demonstrators\" : 400,  \"> 450\" : 475, \n",
    "            \"484000\" : 484000, \"27500\" : 27500, \"27500\" : 27500, \"< 1500\" : 1600, \"84\" : 84,\n",
    "            \">2600\" : 2650, \">55\" : 56, \"41000\" : 41000, \"1600+\" : 1600, \"1000s-40000\" : 25000,\n",
    "            \"500,000\" : 500000, \"25100+\" : 25100, \"several 1000s\" : 4000, \"325000\" : 325000,\n",
    "            \"scores (>50)\" : 60, \"625000\" : 625000, \"more than 500\" : 550, \">50-100s\" : 300,\n",
    "            \"50000-120000\" : 85000, \"76\" : 76, \"300-500\" : 400, \"About 2,000\" : 2000,\n",
    "            \">130\" : 135, \"2000-3000\" : 2500, \"5300\" : 5300, \"5,000,000\" : 5000000, \n",
    "            \"The Civil Human Rights Front said 110,000 people; The Hong Kong police said about 20,000\" : 110000,\n",
    "            \"600-3000\" : 1800, \"> 50\" : 60, \"20700+\" : 20700, \"140+\" : 140, \n",
    "            \"More than 300 people\" : 350, \"270000\" : 270000, \"between 100000 & 300000\" : 200000,\n",
    "            \"<400000\" : 450000, \"About 150 protesters\" : 150, \"1150\" : 1150, \"200-2000+\" : 1500,\n",
    "            \"75000-170000\" : 130000, \"157\" : 157, \"Around 5,000\" : 5000, \">32200\" : 32250, \n",
    "            \"5750\" : 5750, \"About 500 demonstrators\" : 500, \"3800\" : 3800, \"559\" : 559, \n",
    "            \"More than 30,000\" : 35000, \"> 60000\" : 65000, \"185\" : 185, \"2000-200000\" : 105000 , \n",
    "            \"Almost 350,000\" : 340000, \"200000-400000\" : 300000, \">351\" : 352, \"nearly 10000\" : 9000,\n",
    "            \"More than 200 campaigners\" : 250, \"Hundreds of workers\" : 500, \"90000+\" : 90000, \n",
    "            \"3000-4500\" : 3750, \"1800\" : 1800, \"1,800 participants\" : 1800, \"102000\" : 102000,\n",
    "            \"1300000\" : 1300000, \"20000-60000\" : 40000, \"140000\" : 140000, \"65,000 people\" : 65000,\n",
    "            \"58000\" : 58000, \"250+\" : 250, \"Nearly 500 supporters\" : 475, \"3200+\" : 3200, \n",
    "            \"500-2000\" : 1250, \"3765\" : 3765, \"70000+\" : 70000, \"A few hundred people\" : 300,\n",
    "            \"Hundreds of residents\" : 500, \"525000\" : 525000, \"<900\" : 850, \"> 42000\" : 42500,\n",
    "            \"6000-7000\" : 6500, \"570000\" : 570000, \"About 4,000 people\" : 4000, \"51000\" : 51000,\n",
    "            \"2850\" : 2850, \"30000-40000\" : 35000, \"210\" : 210, \"63\" : 63, \">3500\" : 3600, \n",
    "            \"several hundred thousands\" : 400000, \"> 35000\" : 36000, \"several thousand\" : 4000,\n",
    "            \"2300\" : 2300, \"250000-350000\" : 300000, \"Almost 200\" : 190, \"3500+\" : 3500, \n",
    "            \"Hundreds of villagers\" : 500, \"18500\" : 18500, \"100,000s\" : 500000, \"6000 to 8000\" : 7000,\n",
    "            \">60900\" : 60950, \"About 400\" : 400, \"1365+\" : 1365, \"5800\" : 5800, \"355\" : 355, \n",
    "            \"about 150\": 150, \"250-300\" : 275, \"1,000,000\" : 1000000, \"500000-700000\" : 600000,\n",
    "            \"Over 2,000 construction workers\" : 2500, \"4700+\" : 4700, \"> 1000000\" : 1500000, \n",
    "            \"4360\" : 4360, \"between 7500-25000\" : 17500, \"3000-10000\" : 6500, \"more than 100\" : 150,\n",
    "            \"2200\" : 2200, \"82000\" : 82000, \"10600\" : 10600, \"560000\" : 560000, \">280\" : 285, \n",
    "            \"609\" : 609, \"335\" : 335, \"388\" : 388, \"> 80000\" : 85000, \"About 50 protesters\" : 50,\n",
    "            \"Around 300 local people\" : 300, \"> 23000\" : 23500, \"Hundreds of student protesters\" : 500,\n",
    "            \"22500\" : 22500, \"260000\" : 260000, \"89\" : 89, \"17500\" : 17500, \">70\" : 65, \"1900\" : 1900,\n",
    "            \"The organisers said more than 3,000 people; police said the turnout was 830 at its peak\" : 2000,\n",
    "            \"1300+\" : 1300, \"850\" : 850, \">222\" : 223, \"64\" : 64, \"> 25000\" : 25500, \n",
    "            \"1,000,000s\" : 5000000, \"300\" : 300}\n",
    "\n",
    "\n",
    "## CLEANING NOTES ##\n",
    "#\n",
    "# any string representing an integer was transferred as-is\n",
    "# \"About\" interpreted as \"exactly\"\n",
    "# any integer followed by a + was interpreted as that integer\n",
    "# any indication of a range was interpreted as the median point of that range\n",
    "# \"Up to\" rounded to a reasonable \"one step down\" value from the provided number\n",
    "# \"couple\" interpreted as 2, \"few\" as 3, \"several\" as 4\n",
    "# \"hundreds\", \"thousands\", and \"millions\" interpreted as 5, \n",
    "#\n",
    "# \">\" rounded up to halfway to the next significant digit contextual to the given value\n",
    "# \"<\" rounded down likewise\n",
    "#\n",
    "# \n",
    "#\n",
    "# \"100s-10000s\" notes revealed two of the three entries with this description\n",
    "# numbered tens of thousands, the other was unspecified.  I imputed the same value used\n",
    "# for \"10000s\" as a result.\n",
    "#\n",
    "# \"100s-1000\" both entries were described in notes as \"hundreds\" so that was the value imputed.\n",
    "#\n",
    "# \"dozens arrested \" for row 2047 says nothing about the number of protestors.  From the\n",
    "# wikipedia article covering this protest, I learned that \"Police said that about 33,000\n",
    "# participated in the protests; pro-government organizers said 175,000 demonstrated\" - the\n",
    "# following protest, 2 days later, \"Police estimated the number at 2.4 million and organizers\n",
    "# at three million, with hundreds of thousands to over a million demonstrators in São Paulo,\n",
    "# about 50,000 in Brasília and thousands in other cities\" - based on this I will impute a\n",
    "# value of 2 million, as this entry seems to cover both days of protest.\n",
    "#\n",
    "# The very similar but not identical entry \"dozens arrested\" refers to row 11176, a protest\n",
    "# in Iran.  Articles on this subject:\n",
    "#     - (https://theiranproject.com/blog/2016/02/12/cancellation-of-iran-oil-contracts-presentation-signals-infighting/, )\n",
    "#     - (https://www.nytimes.com/2016/02/01/world/middleeast/iran-sanctions-oil-investment.html)\n",
    "# suggest a protest of moderate size.  I am setting this one to a NaN to be filled later.\n",
    "\n",
    "\n",
    "df['participants'] = df['participants'].map(part_dic)\n",
    "\n",
    "# df['participants'].value_counts(normalize=True)"
   ]
  },
  {
   "cell_type": "code",
   "execution_count": 6,
   "metadata": {
    "ExecuteTime": {
     "end_time": "2021-02-19T18:24:14.426428Z",
     "start_time": "2021-02-19T18:24:14.412949Z"
    }
   },
   "outputs": [],
   "source": [
    "df['participants'].fillna(500, inplace=True)"
   ]
  },
  {
   "cell_type": "code",
   "execution_count": 7,
   "metadata": {
    "ExecuteTime": {
     "end_time": "2021-02-19T18:24:16.119959Z",
     "start_time": "2021-02-19T18:24:14.428424Z"
    }
   },
   "outputs": [
    {
     "name": "stderr",
     "output_type": "stream",
     "text": [
      "<ipython-input-7-84aa7f62ef44>:3: SettingWithCopyWarning: \n",
      "A value is trying to be set on a copy of a slice from a DataFrame\n",
      "\n",
      "See the caveats in the documentation: https://pandas.pydata.org/pandas-docs/stable/user_guide/indexing.html#returning-a-view-versus-a-copy\n",
      "  df['mean_age'][i] = ((df['age_0_14_percent'][i] / 100) * 7) + ((df['age_15_24_percent'][i] / 100) * 19) + ((df['age_25_54_percent'][i] / 100) * 39) + ((df['age_55_64_percent'][i] / 100) * 59)+ ((df['age_65_over_percent'][i] / 100) * 71)\n",
      "C:\\Users\\catal\\anaconda3\\lib\\site-packages\\pandas\\core\\indexing.py:670: SettingWithCopyWarning: \n",
      "A value is trying to be set on a copy of a slice from a DataFrame\n",
      "\n",
      "See the caveats in the documentation: https://pandas.pydata.org/pandas-docs/stable/user_guide/indexing.html#returning-a-view-versus-a-copy\n",
      "  iloc._setitem_with_indexer(indexer, value)\n"
     ]
    }
   ],
   "source": [
    "df['mean_age'] = 0\n",
    "for i in range(0, 15193):\n",
    "    df['mean_age'][i] = ((df['age_0_14_percent'][i] / 100) * 7) + ((df['age_15_24_percent'][i] / 100) * 19) + ((df['age_25_54_percent'][i] / 100) * 39) + ((df['age_55_64_percent'][i] / 100) * 59)+ ((df['age_65_over_percent'][i] / 100) * 71)"
   ]
  },
  {
   "cell_type": "code",
   "execution_count": 8,
   "metadata": {
    "ExecuteTime": {
     "end_time": "2021-02-19T18:24:16.134921Z",
     "start_time": "2021-02-19T18:24:16.121955Z"
    }
   },
   "outputs": [],
   "source": [
    "df['mean_age'].fillna(df['mean_age'].mean(), inplace=True)"
   ]
  },
  {
   "cell_type": "code",
   "execution_count": 9,
   "metadata": {
    "ExecuteTime": {
     "end_time": "2021-02-19T18:24:16.150914Z",
     "start_time": "2021-02-19T18:24:16.136916Z"
    }
   },
   "outputs": [
    {
     "data": {
      "text/plain": [
       "0    14393\n",
       "1      800\n",
       "Name: beatings, dtype: int64"
      ]
     },
     "execution_count": 9,
     "metadata": {},
     "output_type": "execute_result"
    }
   ],
   "source": [
    "df['beatings'].value_counts()"
   ]
  },
  {
   "cell_type": "code",
   "execution_count": 10,
   "metadata": {
    "ExecuteTime": {
     "end_time": "2021-02-19T18:24:16.165835Z",
     "start_time": "2021-02-19T18:24:16.151875Z"
    }
   },
   "outputs": [
    {
     "data": {
      "text/plain": [
       "0    14366\n",
       "1      827\n",
       "Name: killings, dtype: int64"
      ]
     },
     "execution_count": 10,
     "metadata": {},
     "output_type": "execute_result"
    }
   ],
   "source": [
    "df['killings'].value_counts()"
   ]
  },
  {
   "cell_type": "code",
   "execution_count": 11,
   "metadata": {
    "ExecuteTime": {
     "end_time": "2021-02-19T18:24:16.181794Z",
     "start_time": "2021-02-19T18:24:16.167832Z"
    }
   },
   "outputs": [
    {
     "data": {
      "text/plain": [
       "0    13048\n",
       "1     2145\n",
       "Name: arrests, dtype: int64"
      ]
     },
     "execution_count": 11,
     "metadata": {},
     "output_type": "execute_result"
    }
   ],
   "source": [
    "df['arrests'].value_counts()"
   ]
  },
  {
   "cell_type": "code",
   "execution_count": 12,
   "metadata": {
    "ExecuteTime": {
     "end_time": "2021-02-19T18:24:16.197785Z",
     "start_time": "2021-02-19T18:24:16.183791Z"
    }
   },
   "outputs": [
    {
     "data": {
      "text/plain": [
       "0    14259\n",
       "1      934\n",
       "Name: shootings, dtype: int64"
      ]
     },
     "execution_count": 12,
     "metadata": {},
     "output_type": "execute_result"
    }
   ],
   "source": [
    "df['shootings'].value_counts()"
   ]
  },
  {
   "cell_type": "code",
   "execution_count": 13,
   "metadata": {
    "ExecuteTime": {
     "end_time": "2021-02-19T18:24:16.213709Z",
     "start_time": "2021-02-19T18:24:16.199745Z"
    }
   },
   "outputs": [
    {
     "data": {
      "text/plain": [
       "0    13671\n",
       "1     1522\n",
       "Name: accomodation, dtype: int64"
      ]
     },
     "execution_count": 13,
     "metadata": {},
     "output_type": "execute_result"
    }
   ],
   "source": [
    "df['accomodation'].value_counts()"
   ]
  },
  {
   "cell_type": "code",
   "execution_count": 14,
   "metadata": {
    "ExecuteTime": {
     "end_time": "2021-02-19T18:24:16.229664Z",
     "start_time": "2021-02-19T18:24:16.215702Z"
    }
   },
   "outputs": [
    {
     "data": {
      "text/plain": [
       "1    8255\n",
       "0    6938\n",
       "Name: ignore, dtype: int64"
      ]
     },
     "execution_count": 14,
     "metadata": {},
     "output_type": "execute_result"
    }
   ],
   "source": [
    "df['ignore'].value_counts()"
   ]
  },
  {
   "cell_type": "code",
   "execution_count": 15,
   "metadata": {
    "ExecuteTime": {
     "end_time": "2021-02-19T18:24:16.244659Z",
     "start_time": "2021-02-19T18:24:16.231660Z"
    }
   },
   "outputs": [
    {
     "data": {
      "text/plain": [
       "0    10430\n",
       "1     4763\n",
       "Name: crowd dispersal, dtype: int64"
      ]
     },
     "execution_count": 15,
     "metadata": {},
     "output_type": "execute_result"
    }
   ],
   "source": [
    "df['crowd dispersal'].value_counts()"
   ]
  },
  {
   "cell_type": "code",
   "execution_count": 16,
   "metadata": {
    "ExecuteTime": {
     "end_time": "2021-02-19T18:24:16.260003Z",
     "start_time": "2021-02-19T18:24:16.246623Z"
    }
   },
   "outputs": [
    {
     "data": {
      "text/plain": [
       "ignore             8209\n",
       "crowd dispersal    3927\n",
       "arrests            1086\n",
       "accomodation        952\n",
       "shootings           423\n",
       "beatings            302\n",
       "killings            263\n",
       "0                    31\n",
       "Name: final, dtype: int64"
      ]
     },
     "execution_count": 16,
     "metadata": {},
     "output_type": "execute_result"
    }
   ],
   "source": [
    "df['final'].value_counts()"
   ]
  },
  {
   "cell_type": "code",
   "execution_count": 17,
   "metadata": {
    "ExecuteTime": {
     "end_time": "2021-02-19T18:24:16.274963Z",
     "start_time": "2021-02-19T18:24:16.261998Z"
    }
   },
   "outputs": [
    {
     "data": {
      "text/plain": [
       "1    10723\n",
       "0     4470\n",
       "Name: political behavior, process, dtype: int64"
      ]
     },
     "execution_count": 17,
     "metadata": {},
     "output_type": "execute_result"
    }
   ],
   "source": [
    "df['political behavior, process'].value_counts()"
   ]
  },
  {
   "cell_type": "code",
   "execution_count": 18,
   "metadata": {
    "ExecuteTime": {
     "end_time": "2021-02-19T18:24:16.289922Z",
     "start_time": "2021-02-19T18:24:16.275961Z"
    }
   },
   "outputs": [
    {
     "data": {
      "text/plain": [
       "0    12990\n",
       "1     2203\n",
       "Name: labor wage dispute, dtype: int64"
      ]
     },
     "execution_count": 18,
     "metadata": {},
     "output_type": "execute_result"
    }
   ],
   "source": [
    "df['labor wage dispute'].value_counts()"
   ]
  },
  {
   "cell_type": "code",
   "execution_count": 19,
   "metadata": {
    "ExecuteTime": {
     "end_time": "2021-02-19T18:24:16.305880Z",
     "start_time": "2021-02-19T18:24:16.296906Z"
    }
   },
   "outputs": [
    {
     "data": {
      "text/plain": [
       "0    13782\n",
       "1     1411\n",
       "Name: price increases, tax policy, dtype: int64"
      ]
     },
     "execution_count": 19,
     "metadata": {},
     "output_type": "execute_result"
    }
   ],
   "source": [
    "df['price increases, tax policy'].value_counts()"
   ]
  },
  {
   "cell_type": "code",
   "execution_count": 20,
   "metadata": {
    "ExecuteTime": {
     "end_time": "2021-02-19T18:24:16.471437Z",
     "start_time": "2021-02-19T18:24:16.463461Z"
    }
   },
   "outputs": [
    {
     "data": {
      "text/plain": [
       "0    13310\n",
       "1     1883\n",
       "Name: removal of politician, dtype: int64"
      ]
     },
     "execution_count": 20,
     "metadata": {},
     "output_type": "execute_result"
    }
   ],
   "source": [
    "df['removal of politician'].value_counts()"
   ]
  },
  {
   "cell_type": "code",
   "execution_count": 21,
   "metadata": {
    "ExecuteTime": {
     "end_time": "2021-02-19T18:24:16.639022Z",
     "start_time": "2021-02-19T18:24:16.628052Z"
    }
   },
   "outputs": [
    {
     "data": {
      "text/plain": [
       "0    14097\n",
       "1     1096\n",
       "Name: police brutality, dtype: int64"
      ]
     },
     "execution_count": 21,
     "metadata": {},
     "output_type": "execute_result"
    }
   ],
   "source": [
    "df['police brutality'].value_counts()"
   ]
  },
  {
   "cell_type": "code",
   "execution_count": 22,
   "metadata": {
    "ExecuteTime": {
     "end_time": "2021-02-19T18:24:16.794573Z",
     "start_time": "2021-02-19T18:24:16.786595Z"
    }
   },
   "outputs": [
    {
     "data": {
      "text/plain": [
       "0    14611\n",
       "1      582\n",
       "Name: land farm issue, dtype: int64"
      ]
     },
     "execution_count": 22,
     "metadata": {},
     "output_type": "execute_result"
    }
   ],
   "source": [
    "df['land farm issue'].value_counts()"
   ]
  },
  {
   "cell_type": "code",
   "execution_count": 23,
   "metadata": {
    "ExecuteTime": {
     "end_time": "2021-02-19T18:24:16.935197Z",
     "start_time": "2021-02-19T18:24:16.925224Z"
    }
   },
   "outputs": [
    {
     "data": {
      "text/plain": [
       "0    14511\n",
       "1      682\n",
       "Name: social restrictions, dtype: int64"
      ]
     },
     "execution_count": 23,
     "metadata": {},
     "output_type": "execute_result"
    }
   ],
   "source": [
    "df['social restrictions'].value_counts()"
   ]
  },
  {
   "cell_type": "code",
   "execution_count": 24,
   "metadata": {
    "ExecuteTime": {
     "end_time": "2021-02-19T18:24:17.102782Z",
     "start_time": "2021-02-19T18:24:17.077817Z"
    }
   },
   "outputs": [
    {
     "data": {
      "text/plain": [
       "1522"
      ]
     },
     "execution_count": 24,
     "metadata": {},
     "output_type": "execute_result"
    }
   ],
   "source": [
    "(df['accomodation'] == True).sum()"
   ]
  },
  {
   "cell_type": "code",
   "execution_count": 25,
   "metadata": {
    "ExecuteTime": {
     "end_time": "2021-02-19T18:24:19.646123Z",
     "start_time": "2021-02-19T18:24:18.065984Z"
    }
   },
   "outputs": [
    {
     "name": "stderr",
     "output_type": "stream",
     "text": [
      "C:\\Users\\catal\\anaconda3\\lib\\site-packages\\seaborn\\_decorators.py:36: FutureWarning: Pass the following variables as keyword args: x, y. From version 0.12, the only valid positional argument will be `data`, and passing other arguments without an explicit keyword will result in an error or misinterpretation.\n",
      "  warnings.warn(\n"
     ]
    },
    {
     "data": {
      "image/png": "[encoded data removed]",
      "text/plain": [
       "<Figure size 936x648 with 1 Axes>"
      ]
     },
     "metadata": {},
     "output_type": "display_data"
    }
   ],
   "source": [
    "fig, ax = plt.subplots(figsize=(13,9))\n",
    "\n",
    "\n",
    "sns.lineplot('year', 'participants', hue='accomodation',\n",
    "             markers=['o','o'],\n",
    "             dashes=[(1, 1), (5, 10)],\n",
    "             ax=ax,\n",
    "             data=df);"
   ]
  },
  {
   "cell_type": "code",
   "execution_count": 26,
   "metadata": {
    "ExecuteTime": {
     "end_time": "2021-02-19T18:24:19.662080Z",
     "start_time": "2021-02-19T18:24:19.648118Z"
    }
   },
   "outputs": [
    {
     "data": {
      "text/plain": [
       "Index(['country', 'year', 'region', 'protest', 'protestnumber', 'startday',\n",
       "       'startmonth', 'startyear', 'endday', 'endmonth', 'endyear',\n",
       "       'protesterviolence', 'location', 'participants', 'protesteridentity',\n",
       "       'sources', 'notes', 'final', 'ignore', 'crowd dispersal', 'arrests',\n",
       "       'accomodation', 'shootings', 'beatings', 'killings',\n",
       "       'political behavior, process', 'labor wage dispute',\n",
       "       'price increases, tax policy', 'removal of politician',\n",
       "       'police brutality', 'land farm issue', 'social restrictions', 'climate',\n",
       "       'natural_resources', 'population_distribution',\n",
       "       'net_migration_per_1000_population', 'age_0_14_percent',\n",
       "       'age_15_24_percent', 'age_25_54_percent', 'age_55_64_percent',\n",
       "       'age_65_over_percent', 'language', 'govt_type', 'legal_system',\n",
       "       'gdp_purchasing_power_global_rank', 'gdp_growth_global_rank',\n",
       "       'electricity_access_percent',\n",
       "       'electricity_generating_capacity_global_rank',\n",
       "       'internet_access_percent', 'cell_phone_per_100',\n",
       "       'military_spending_annual_percent_gdp', 'transnational_disputes',\n",
       "       'mean_age'],\n",
       "      dtype='object')"
      ]
     },
     "execution_count": 26,
     "metadata": {},
     "output_type": "execute_result"
    }
   ],
   "source": [
    "df.columns"
   ]
  },
  {
   "cell_type": "code",
   "execution_count": 27,
   "metadata": {
    "ExecuteTime": {
     "end_time": "2021-02-19T18:24:20.093475Z",
     "start_time": "2021-02-19T18:24:19.663077Z"
    }
   },
   "outputs": [
    {
     "name": "stderr",
     "output_type": "stream",
     "text": [
      "C:\\Users\\catal\\anaconda3\\lib\\site-packages\\seaborn\\_decorators.py:36: FutureWarning: Pass the following variables as keyword args: x, y. From version 0.12, the only valid positional argument will be `data`, and passing other arguments without an explicit keyword will result in an error or misinterpretation.\n",
      "  warnings.warn(\n"
     ]
    },
    {
     "data": {
      "image/png": "[encoded data removed]",
      "text/plain": [
       "<Figure size 936x648 with 1 Axes>"
      ]
     },
     "metadata": {},
     "output_type": "display_data"
    }
   ],
   "source": [
    "fig, ax = plt.subplots(figsize=(13,9))\n",
    "\n",
    "\n",
    "sns.lineplot('protesterviolence', 'participants', hue='accomodation',\n",
    "             markers=['o','o'],\n",
    "             dashes=[(1, 1), (5, 10)],\n",
    "             ax=ax,\n",
    "             data=df);"
   ]
  },
  {
   "cell_type": "code",
   "execution_count": 28,
   "metadata": {
    "ExecuteTime": {
     "end_time": "2021-02-19T18:24:20.815512Z",
     "start_time": "2021-02-19T18:24:20.465450Z"
    }
   },
   "outputs": [
    {
     "name": "stderr",
     "output_type": "stream",
     "text": [
      "C:\\Users\\catal\\anaconda3\\lib\\site-packages\\seaborn\\_decorators.py:36: FutureWarning: Pass the following variables as keyword args: x, y. From version 0.12, the only valid positional argument will be `data`, and passing other arguments without an explicit keyword will result in an error or misinterpretation.\n",
      "  warnings.warn(\n"
     ]
    },
    {
     "data": {
      "image/png": "[encoded data removed]",
      "text/plain": [
       "<Figure size 936x648 with 1 Axes>"
      ]
     },
     "metadata": {},
     "output_type": "display_data"
    }
   ],
   "source": [
    "fig, ax = plt.subplots(figsize=(13,9))\n",
    "\n",
    "\n",
    "sns.barplot('protesterviolence', 'participants', hue='accomodation',\n",
    "             ax=ax,\n",
    "             data=df);"
   ]
  },
  {
   "cell_type": "code",
   "execution_count": 29,
   "metadata": {
    "ExecuteTime": {
     "end_time": "2021-02-19T18:24:22.871150Z",
     "start_time": "2021-02-19T18:24:22.859182Z"
    }
   },
   "outputs": [],
   "source": [
    "successful = df['accomodation'] == 1\n",
    "year1 = df['year'] > 2002\n",
    "year2 = df['year'] < 2005\n",
    "mid_00s_successes = df.loc[successful & year1 & year2]"
   ]
  },
  {
   "cell_type": "code",
   "execution_count": 30,
   "metadata": {
    "ExecuteTime": {
     "end_time": "2021-02-19T18:24:24.187249Z",
     "start_time": "2021-02-19T18:24:24.175281Z"
    }
   },
   "outputs": [
    {
     "data": {
      "text/plain": [
       "92"
      ]
     },
     "execution_count": 30,
     "metadata": {},
     "output_type": "execute_result"
    }
   ],
   "source": [
    "mid_00s_successes['accomodation'].value_counts().sum()"
   ]
  },
  {
   "cell_type": "code",
   "execution_count": 31,
   "metadata": {
    "ExecuteTime": {
     "end_time": "2021-02-19T18:24:24.468505Z",
     "start_time": "2021-02-19T18:24:24.457534Z"
    }
   },
   "outputs": [
    {
     "data": {
      "text/plain": [
       "0    85\n",
       "1     7\n",
       "Name: police brutality, dtype: int64"
      ]
     },
     "execution_count": 31,
     "metadata": {},
     "output_type": "execute_result"
    }
   ],
   "source": [
    "mid_00s_successes['police brutality'].value_counts()"
   ]
  },
  {
   "cell_type": "code",
   "execution_count": 32,
   "metadata": {
    "ExecuteTime": {
     "end_time": "2021-02-19T18:24:25.070405Z",
     "start_time": "2021-02-19T18:24:25.059435Z"
    }
   },
   "outputs": [
    {
     "data": {
      "text/plain": [
       "1    49\n",
       "0    43\n",
       "Name: political behavior, process, dtype: int64"
      ]
     },
     "execution_count": 32,
     "metadata": {},
     "output_type": "execute_result"
    }
   ],
   "source": [
    "mid_00s_successes['political behavior, process'].value_counts()"
   ]
  },
  {
   "cell_type": "code",
   "execution_count": 34,
   "metadata": {
    "ExecuteTime": {
     "end_time": "2021-02-19T18:27:47.044225Z",
     "start_time": "2021-02-19T18:27:46.788811Z"
    }
   },
   "outputs": [
    {
     "data": {
      "text/plain": [
       "<AxesSubplot:title={'center':'Mid-Aughts Protest Successes by Country'}>"
      ]
     },
     "execution_count": 34,
     "metadata": {},
     "output_type": "execute_result"
    },
    {
     "data": {
      "image/png": "[encoded data removed]",
      "text/plain": [
       "<Figure size 792x360 with 1 Axes>"
      ]
     },
     "metadata": {},
     "output_type": "display_data"
    }
   ],
   "source": [
    "mid_00s_successes['country'].value_counts().head(20).plot(kind='bar', figsize=(11,5), title=\"Mid-Aughts Protest Successes by Country\")"
   ]
  },
  {
   "cell_type": "code",
   "execution_count": 36,
   "metadata": {
    "ExecuteTime": {
     "end_time": "2021-02-19T18:29:08.581666Z",
     "start_time": "2021-02-19T18:29:08.571694Z"
    }
   },
   "outputs": [
    {
     "data": {
      "text/plain": [
       "'the cheongwadae announcement comes after the national assembly failed to approve a long delayed bill on the fta with chile in the face of strong resistance from scores of lawmakers from rural constituencies. days earlier, a group of 20 lawmakers occupied the office of house speaker park kwan yong and blocked a planned vote on the fta bill, while about 1,500 farmers from across the country staged a violent demonstration in front of the national assembly building in yeouido, central seoul, to call for the bill s nullification.'"
      ]
     },
     "execution_count": 36,
     "metadata": {},
     "output_type": "execute_result"
    }
   ],
   "source": [
    "korea_protests = mid_00s_successes.loc[(mid_00s_successes['country'] == 'South Korea')]\n",
    "korea_notes = korea_protests['notes']\n",
    "korea_notes.iloc[3]"
   ]
  },
  {
   "cell_type": "code",
   "execution_count": 38,
   "metadata": {
    "ExecuteTime": {
     "end_time": "2021-02-19T18:29:55.862679Z",
     "start_time": "2021-02-19T18:29:55.851709Z"
    }
   },
   "outputs": [
    {
     "data": {
      "text/plain": [
       "'taiwan s china television company ctv at 1700 gmt on 21 march reports live from the protest in front of the presidential office in taipei. it shows a large crowd of supporters of opposition presidential candidate lien soong who are still refusing to leave the scene even though the permitted period for the gathering ended more than three hours earlier.'"
      ]
     },
     "execution_count": 38,
     "metadata": {},
     "output_type": "execute_result"
    }
   ],
   "source": [
    "taiwan_protests = mid_00s_successes.loc[(mid_00s_successes['country'] == 'Taiwan')]\n",
    "taiwan_notes = taiwan_protests['notes']\n",
    "taiwan_notes.iloc[0]"
   ]
  },
  {
   "cell_type": "code",
   "execution_count": 44,
   "metadata": {
    "ExecuteTime": {
     "end_time": "2021-02-19T18:32:00.749673Z",
     "start_time": "2021-02-19T18:32:00.739700Z"
    }
   },
   "outputs": [
    {
     "data": {
      "text/plain": [
       "'the police at karibib had to calm a group of about 80 residents who took part in a peaceful demonstration to hand over a petition to the mayor yesterday. the group, known as the karibib community delegation, which is chaired by sara brunzel, demanded answers from the town council on a host of issues. the main concerns raised by residents are access to and service at the new health centre, pre payment electricity meters, refuse removal and outstanding money to namwater and nampower. they have also raised a number of issues to be investigated by auditors concerning the alleged abuse of council vehicles by municipal staff, allocation of projects on tender to municipal employees, insurance of vehicles and homes of former councillors, housing allowances to employees in municipal houses, loans to staff members and councillors and overtime. the mayor said he would not be able to give much feedback to the community tonight, as the auditors had not yet completed their task.'"
      ]
     },
     "execution_count": 44,
     "metadata": {},
     "output_type": "execute_result"
    }
   ],
   "source": [
    "namib_protests = mid_00s_successes.loc[(mid_00s_successes['country'] == 'Namibia')]\n",
    "namib_notes = namib_protests['notes']\n",
    "# namib_protests['political behavior, process']\n",
    "namib_notes.iloc[3]"
   ]
  },
  {
   "cell_type": "code",
   "execution_count": 52,
   "metadata": {
    "ExecuteTime": {
     "end_time": "2021-02-19T18:34:53.317779Z",
     "start_time": "2021-02-19T18:34:53.308804Z"
    }
   },
   "outputs": [
    {
     "data": {
      "text/plain": [
       "'??members of south tipperary county council are to meet in emergency session on the eve of the local elections in a bid to force the county manager to provide two additional access roads from cashel s new by pass. the news coincided with long traffic tailbacks on the main dublin cork road in the town yesterday as 200 local people protested at the omission of the two slip roads by undertaking a three mile march on the main n8 route. ??'"
      ]
     },
     "execution_count": 52,
     "metadata": {},
     "output_type": "execute_result"
    }
   ],
   "source": [
    "ireland_protests = mid_00s_successes.loc[(mid_00s_successes['country'] == 'Ireland')]\n",
    "ireland_notes = ireland_protests['notes']\n",
    "# ireland_protests['political behavior, process']\n",
    "ireland_notes.iloc[2]"
   ]
  },
  {
   "cell_type": "code",
   "execution_count": 58,
   "metadata": {
    "ExecuteTime": {
     "end_time": "2021-02-19T18:40:17.244632Z",
     "start_time": "2021-02-19T18:40:17.234658Z"
    }
   },
   "outputs": [
    {
     "data": {
      "text/plain": [
       "'egat'"
      ]
     },
     "execution_count": 58,
     "metadata": {},
     "output_type": "execute_result"
    }
   ],
   "source": [
    "thai_protests = df.loc[(df['country'] == 'Thailand') & (df['accomodation'] == 1) & ((df['year'] > 2002) | (df['year'] < 2005))]\n",
    "thai_notes = thai_protests['notes']\n",
    "thai_notes.iloc[4]"
   ]
  },
  {
   "cell_type": "code",
   "execution_count": 37,
   "metadata": {
    "ExecuteTime": {
     "end_time": "2021-02-19T06:07:30.927052Z",
     "start_time": "2021-02-19T06:07:30.912090Z"
    }
   },
   "outputs": [],
   "source": [
    "def extract_tokens(max_i):\n",
    "    i = 0\n",
    "    note = df['notes'][i]\n",
    "    tokenized_note = sent_tokenize(note.lower)\n",
    "    while i <= max_i:\n",
    "        print(tokenized_note)\n",
    "        i += 1"
   ]
  },
  {
   "cell_type": "code",
   "execution_count": 38,
   "metadata": {
    "ExecuteTime": {
     "end_time": "2021-02-19T06:07:30.942010Z",
     "start_time": "2021-02-19T06:07:30.929045Z"
    }
   },
   "outputs": [],
   "source": [
    "# extract_tokens(50)"
   ]
  },
  {
   "cell_type": "code",
   "execution_count": 39,
   "metadata": {
    "ExecuteTime": {
     "end_time": "2021-02-19T06:07:34.904922Z",
     "start_time": "2021-02-19T06:07:30.945004Z"
    }
   },
   "outputs": [
    {
     "name": "stderr",
     "output_type": "stream",
     "text": [
      "Some layers from the model checkpoint at distilbert-base-uncased-finetuned-sst-2-english were not used when initializing TFDistilBertModel: ['dropout_19', 'pre_classifier', 'classifier']\n",
      "- This IS expected if you are initializing TFDistilBertModel from the checkpoint of a model trained on another task or with another architecture (e.g. initializing a BertForSequenceClassification model from a BertForPreTraining model).\n",
      "- This IS NOT expected if you are initializing TFDistilBertModel from the checkpoint of a model that you expect to be exactly identical (initializing a BertForSequenceClassification model from a BertForSequenceClassification model).\n",
      "All the layers of TFDistilBertModel were initialized from the model checkpoint at distilbert-base-uncased-finetuned-sst-2-english.\n",
      "If your task is similar to the task the model of the checkpoint was trained on, you can already use TFDistilBertModel for predictions without further training.\n",
      "Some layers from the model checkpoint at distilbert-base-uncased-finetuned-sst-2-english were not used when initializing TFDistilBertForSequenceClassification: ['dropout_19']\n",
      "- This IS expected if you are initializing TFDistilBertForSequenceClassification from the checkpoint of a model trained on another task or with another architecture (e.g. initializing a BertForSequenceClassification model from a BertForPreTraining model).\n",
      "- This IS NOT expected if you are initializing TFDistilBertForSequenceClassification from the checkpoint of a model that you expect to be exactly identical (initializing a BertForSequenceClassification model from a BertForSequenceClassification model).\n",
      "Some layers of TFDistilBertForSequenceClassification were not initialized from the model checkpoint at distilbert-base-uncased-finetuned-sst-2-english and are newly initialized: ['dropout_38']\n",
      "You should probably TRAIN this model on a down-stream task to be able to use it for predictions and inference.\n"
     ]
    }
   ],
   "source": [
    "sent = pipeline('sentiment-analysis')"
   ]
  },
  {
   "cell_type": "code",
   "execution_count": 40,
   "metadata": {
    "ExecuteTime": {
     "end_time": "2021-02-19T06:07:35.120638Z",
     "start_time": "2021-02-19T06:07:34.906915Z"
    }
   },
   "outputs": [
    {
     "data": {
      "text/plain": [
       "[{'label': 'NEGATIVE', 'score': 0.99860680103302}]"
      ]
     },
     "execution_count": 40,
     "metadata": {},
     "output_type": "execute_result"
    }
   ],
   "source": [
    "sent(df['notes'][0])"
   ]
  },
  {
   "cell_type": "code",
   "execution_count": 41,
   "metadata": {
    "ExecuteTime": {
     "end_time": "2021-02-19T06:07:35.276220Z",
     "start_time": "2021-02-19T06:07:35.122632Z"
    }
   },
   "outputs": [
    {
     "data": {
      "text/plain": [
       "-0.9782278537750244"
      ]
     },
     "execution_count": 41,
     "metadata": {},
     "output_type": "execute_result"
    }
   ],
   "source": [
    "def sent_scorer(df, i):\n",
    "    score = 0\n",
    "    output = sent(df['notes'][i])\n",
    "    if output[0]['label'] == 'POSITIVE':\n",
    "        score = output[0]['score']\n",
    "    else:\n",
    "        score = (output[0]['score'] * -1)\n",
    "    return score\n",
    "sent_scorer(df, 5)"
   ]
  },
  {
   "cell_type": "code",
   "execution_count": 56,
   "metadata": {
    "ExecuteTime": {
     "end_time": "2021-02-19T06:41:10.297257Z",
     "start_time": "2021-02-19T06:41:10.288285Z"
    }
   },
   "outputs": [],
   "source": [
    "sent_scores = []"
   ]
  },
  {
   "cell_type": "code",
   "execution_count": 88,
   "metadata": {
    "ExecuteTime": {
     "end_time": "2021-02-19T07:11:47.582565Z",
     "start_time": "2021-02-19T07:11:47.572592Z"
    }
   },
   "outputs": [],
   "source": [
    "problemchildren = []\n",
    "problemchildren.append(df['notes'].iloc[872])"
   ]
  },
  {
   "cell_type": "code",
   "execution_count": 89,
   "metadata": {
    "ExecuteTime": {
     "end_time": "2021-02-19T07:11:51.701483Z",
     "start_time": "2021-02-19T07:11:51.691509Z"
    }
   },
   "outputs": [
    {
     "data": {
      "text/plain": [
       "['the hundreds of hot dog buns, bananas and containers of instant soup stacked up at the polytechnic university basketball court suggest that the young people hunkered down here are not planning to capitulate. the students and young professionals who occupied the campus last week in a nationwide protest against the government, demanding the ouster of president daniel ortega, have enough donated medical supplies to stock a field hospital. young men with t shirts covering their faces carry homemade mortar launchers as they patrol the grounds. a box of molotov cocktails sits in the corner. this is not a war; this a struggle we young people are doing, said freddy mart nez, one of the few people here who revealed his face and name. we are not left or right. we are nicaragua. the nicaraguan youth did something few people in this country thought possible. incited by an unpopular change in the social security system that would not immediately affect them, they staged a spontaneous uprising that has loosened mr. ortega s sweeping grip on power. the protesters at the polytechnic university, many of whom are not even enrolled here, are convinced they can get a new electoral council chosen, which would lead to early presidential elections. they also insist that top police leaders be replaced, and that the killers of the protesters be brought to justice, among other demands. after days of refusing, the students have agreed to negotiate with the government. in the meantime, the young people have dug trenches around the university here in the capital, managua. signs of wear are starting to show on the protesters, as days of sleep deprivation, the constant sound of mortar fire and the fear of a police crackdown strain their frayed nerves. many students have already abandoned the site. photo: young people carrying makeshift weapons outside nicaragua s polytechnic university on wednesday. three men have been killed amid a government crackdown on student protesters holed up in universities in managua, the nicaraguan capital. the associated press confirmed the mobilization of riot police around the polytechnical university and national university. the protests began in april as students demonstrated against a social security reform. many are now demanding that president daniel ortega and his wife rosario murillo leave office. before the additional deaths thursday, human rights groups estimated 63 people had been killed. violence returned to protests against nicaraguan president daniel ortega s government on monday when riot police confronted protesters and students seized a university. students demanding greater democracy and ortega s resignation took over the engineering university in managua, the capital. government supporters quickly gathered to end the takeover, but anti government protesters rallied to support the students. the offices of the pro government radio station radio ya, whose offices are located near the university, were partially set fire during the demonstration. police were sent to contain the protests and there were reports of people injured. protests also broke out in the city of masaya, where the prosecutors offices were set afire. in there was the vast, jungly campus of the national autonomous university of nicaragua unan , which by friday afternoon had become a battleground. far from the initial fighting was the catholic church, a supposedly safe place for triage, and beleaguered and wounded students were arriving from the front lines by pickup truck, by motorbike and on foot. we had to evacuate, jonas cruz, 18, said. they are invading the barricades. they are already inside. these students, and much of nicaragua, have been in revolt against president daniel ortega s government for the past three months, enraged by how he has consolidated near total power over his four terms as president, undermined democratic institutions and allowed his security apparatus to employ deadly force against protesters. more than 300 people have been killed since the conflict began in april, the vast majority civilians. starting friday afternoon, a new crisis emerged. pro government militias set out to crush the student rebellion at the university, one of the last strongholds of open resistance in the capital. during a 15 hour siege, some 200 university students and others were pinned down by gunfire inside this small catholic church compound. two students were killed and at least 10 were injured before top catholic clergy were able to negotiate their release on saturday morning and escort the surviving students across police lines. ortega s government has ultimately wrested back control of this campus as well as other rebellious cities across nicaragua but the cost to his government could be steep. there is a growing international condemnation of ortega s heavy handed tactics to break the protests. business leaders and other former allies have called for early elections or for him to step down. university students across the country led the protest effort and took over a number of campuses. but in july the government unleashed heavily armed civilian forces that worked with police to clear the barricades that had been erected on strategic highways and throughout some neighborhoods.']"
      ]
     },
     "execution_count": 89,
     "metadata": {},
     "output_type": "execute_result"
    }
   ],
   "source": [
    "problemchildren"
   ]
  },
  {
   "cell_type": "code",
   "execution_count": 86,
   "metadata": {
    "ExecuteTime": {
     "end_time": "2021-02-19T07:11:00.174945Z",
     "start_time": "2021-02-19T07:11:00.136042Z"
    }
   },
   "outputs": [
    {
     "ename": "InvalidArgumentError",
     "evalue": "Incompatible shapes: [512,768] vs. [1,625,768] [Op:BroadcastTo]",
     "output_type": "error",
     "traceback": [
      "\u001b[1;31m---------------------------------------------------------------------------\u001b[0m",
      "\u001b[1;31mInvalidArgumentError\u001b[0m                      Traceback (most recent call last)",
      "\u001b[1;32m<ipython-input-86-7cd8be8f9425>\u001b[0m in \u001b[0;36m<module>\u001b[1;34m\u001b[0m\n\u001b[0;32m      1\u001b[0m \u001b[1;32mfor\u001b[0m \u001b[0mi\u001b[0m \u001b[1;32min\u001b[0m \u001b[0mrange\u001b[0m\u001b[1;33m(\u001b[0m\u001b[1;36m876\u001b[0m\u001b[1;33m,\u001b[0m \u001b[1;36m877\u001b[0m\u001b[1;33m)\u001b[0m\u001b[1;33m:\u001b[0m\u001b[1;33m\u001b[0m\u001b[1;33m\u001b[0m\u001b[0m\n\u001b[1;32m----> 2\u001b[1;33m     \u001b[0msent_scorer\u001b[0m\u001b[1;33m(\u001b[0m\u001b[0mdf\u001b[0m\u001b[1;33m,\u001b[0m \u001b[0mi\u001b[0m\u001b[1;33m)\u001b[0m\u001b[1;33m\u001b[0m\u001b[1;33m\u001b[0m\u001b[0m\n\u001b[0m",
      "\u001b[1;32m<ipython-input-41-8d70c85bf224>\u001b[0m in \u001b[0;36msent_scorer\u001b[1;34m(df, i)\u001b[0m\n\u001b[0;32m      1\u001b[0m \u001b[1;32mdef\u001b[0m \u001b[0msent_scorer\u001b[0m\u001b[1;33m(\u001b[0m\u001b[0mdf\u001b[0m\u001b[1;33m,\u001b[0m \u001b[0mi\u001b[0m\u001b[1;33m)\u001b[0m\u001b[1;33m:\u001b[0m\u001b[1;33m\u001b[0m\u001b[1;33m\u001b[0m\u001b[0m\n\u001b[0;32m      2\u001b[0m     \u001b[0mscore\u001b[0m \u001b[1;33m=\u001b[0m \u001b[1;36m0\u001b[0m\u001b[1;33m\u001b[0m\u001b[1;33m\u001b[0m\u001b[0m\n\u001b[1;32m----> 3\u001b[1;33m     \u001b[0moutput\u001b[0m \u001b[1;33m=\u001b[0m \u001b[0msent\u001b[0m\u001b[1;33m(\u001b[0m\u001b[0mdf\u001b[0m\u001b[1;33m[\u001b[0m\u001b[1;34m'notes'\u001b[0m\u001b[1;33m]\u001b[0m\u001b[1;33m[\u001b[0m\u001b[0mi\u001b[0m\u001b[1;33m]\u001b[0m\u001b[1;33m)\u001b[0m\u001b[1;33m\u001b[0m\u001b[1;33m\u001b[0m\u001b[0m\n\u001b[0m\u001b[0;32m      4\u001b[0m     \u001b[1;32mif\u001b[0m \u001b[0moutput\u001b[0m\u001b[1;33m[\u001b[0m\u001b[1;36m0\u001b[0m\u001b[1;33m]\u001b[0m\u001b[1;33m[\u001b[0m\u001b[1;34m'label'\u001b[0m\u001b[1;33m]\u001b[0m \u001b[1;33m==\u001b[0m \u001b[1;34m'POSITIVE'\u001b[0m\u001b[1;33m:\u001b[0m\u001b[1;33m\u001b[0m\u001b[1;33m\u001b[0m\u001b[0m\n\u001b[0;32m      5\u001b[0m         \u001b[0mscore\u001b[0m \u001b[1;33m=\u001b[0m \u001b[0moutput\u001b[0m\u001b[1;33m[\u001b[0m\u001b[1;36m0\u001b[0m\u001b[1;33m]\u001b[0m\u001b[1;33m[\u001b[0m\u001b[1;34m'score'\u001b[0m\u001b[1;33m]\u001b[0m\u001b[1;33m\u001b[0m\u001b[1;33m\u001b[0m\u001b[0m\n",
      "\u001b[1;32m~\\anaconda3\\lib\\site-packages\\transformers\\pipelines\\text_classification.py\u001b[0m in \u001b[0;36m__call__\u001b[1;34m(self, *args, **kwargs)\u001b[0m\n\u001b[0;32m     63\u001b[0m             \u001b[0mIf\u001b[0m\u001b[0;31m \u001b[0m\u001b[0;31m`\u001b[0m\u001b[0;31m`\u001b[0m\u001b[0mself\u001b[0m\u001b[1;33m.\u001b[0m\u001b[0mreturn_all_scores\u001b[0m\u001b[1;33m=\u001b[0m\u001b[1;32mTrue\u001b[0m\u001b[0;31m`\u001b[0m\u001b[0;31m`\u001b[0m\u001b[1;33m,\u001b[0m \u001b[0mone\u001b[0m \u001b[0msuch\u001b[0m \u001b[0mdictionary\u001b[0m \u001b[1;32mis\u001b[0m \u001b[0mreturned\u001b[0m \u001b[0mper\u001b[0m \u001b[0mlabel\u001b[0m\u001b[1;33m.\u001b[0m\u001b[1;33m\u001b[0m\u001b[1;33m\u001b[0m\u001b[0m\n\u001b[0;32m     64\u001b[0m         \"\"\"\n\u001b[1;32m---> 65\u001b[1;33m         \u001b[0moutputs\u001b[0m \u001b[1;33m=\u001b[0m \u001b[0msuper\u001b[0m\u001b[1;33m(\u001b[0m\u001b[1;33m)\u001b[0m\u001b[1;33m.\u001b[0m\u001b[0m__call__\u001b[0m\u001b[1;33m(\u001b[0m\u001b[1;33m*\u001b[0m\u001b[0margs\u001b[0m\u001b[1;33m,\u001b[0m \u001b[1;33m**\u001b[0m\u001b[0mkwargs\u001b[0m\u001b[1;33m)\u001b[0m\u001b[1;33m\u001b[0m\u001b[1;33m\u001b[0m\u001b[0m\n\u001b[0m\u001b[0;32m     66\u001b[0m \u001b[1;33m\u001b[0m\u001b[0m\n\u001b[0;32m     67\u001b[0m         \u001b[1;32mif\u001b[0m \u001b[0mself\u001b[0m\u001b[1;33m.\u001b[0m\u001b[0mmodel\u001b[0m\u001b[1;33m.\u001b[0m\u001b[0mconfig\u001b[0m\u001b[1;33m.\u001b[0m\u001b[0mnum_labels\u001b[0m \u001b[1;33m==\u001b[0m \u001b[1;36m1\u001b[0m\u001b[1;33m:\u001b[0m\u001b[1;33m\u001b[0m\u001b[1;33m\u001b[0m\u001b[0m\n",
      "\u001b[1;32m~\\anaconda3\\lib\\site-packages\\transformers\\pipelines\\base.py\u001b[0m in \u001b[0;36m__call__\u001b[1;34m(self, *args, **kwargs)\u001b[0m\n\u001b[0;32m    597\u001b[0m     \u001b[1;32mdef\u001b[0m \u001b[0m__call__\u001b[0m\u001b[1;33m(\u001b[0m\u001b[0mself\u001b[0m\u001b[1;33m,\u001b[0m \u001b[1;33m*\u001b[0m\u001b[0margs\u001b[0m\u001b[1;33m,\u001b[0m \u001b[1;33m**\u001b[0m\u001b[0mkwargs\u001b[0m\u001b[1;33m)\u001b[0m\u001b[1;33m:\u001b[0m\u001b[1;33m\u001b[0m\u001b[1;33m\u001b[0m\u001b[0m\n\u001b[0;32m    598\u001b[0m         \u001b[0minputs\u001b[0m \u001b[1;33m=\u001b[0m \u001b[0mself\u001b[0m\u001b[1;33m.\u001b[0m\u001b[0m_parse_and_tokenize\u001b[0m\u001b[1;33m(\u001b[0m\u001b[1;33m*\u001b[0m\u001b[0margs\u001b[0m\u001b[1;33m,\u001b[0m \u001b[1;33m**\u001b[0m\u001b[0mkwargs\u001b[0m\u001b[1;33m)\u001b[0m\u001b[1;33m\u001b[0m\u001b[1;33m\u001b[0m\u001b[0m\n\u001b[1;32m--> 599\u001b[1;33m         \u001b[1;32mreturn\u001b[0m \u001b[0mself\u001b[0m\u001b[1;33m.\u001b[0m\u001b[0m_forward\u001b[0m\u001b[1;33m(\u001b[0m\u001b[0minputs\u001b[0m\u001b[1;33m)\u001b[0m\u001b[1;33m\u001b[0m\u001b[1;33m\u001b[0m\u001b[0m\n\u001b[0m\u001b[0;32m    600\u001b[0m \u001b[1;33m\u001b[0m\u001b[0m\n\u001b[0;32m    601\u001b[0m     \u001b[1;32mdef\u001b[0m \u001b[0m_forward\u001b[0m\u001b[1;33m(\u001b[0m\u001b[0mself\u001b[0m\u001b[1;33m,\u001b[0m \u001b[0minputs\u001b[0m\u001b[1;33m,\u001b[0m \u001b[0mreturn_tensors\u001b[0m\u001b[1;33m=\u001b[0m\u001b[1;32mFalse\u001b[0m\u001b[1;33m)\u001b[0m\u001b[1;33m:\u001b[0m\u001b[1;33m\u001b[0m\u001b[1;33m\u001b[0m\u001b[0m\n",
      "\u001b[1;32m~\\anaconda3\\lib\\site-packages\\transformers\\pipelines\\base.py\u001b[0m in \u001b[0;36m_forward\u001b[1;34m(self, inputs, return_tensors)\u001b[0m\n\u001b[0;32m    614\u001b[0m             \u001b[1;32mif\u001b[0m \u001b[0mself\u001b[0m\u001b[1;33m.\u001b[0m\u001b[0mframework\u001b[0m \u001b[1;33m==\u001b[0m \u001b[1;34m\"tf\"\u001b[0m\u001b[1;33m:\u001b[0m\u001b[1;33m\u001b[0m\u001b[1;33m\u001b[0m\u001b[0m\n\u001b[0;32m    615\u001b[0m                 \u001b[1;31m# TODO trace model\u001b[0m\u001b[1;33m\u001b[0m\u001b[1;33m\u001b[0m\u001b[1;33m\u001b[0m\u001b[0m\n\u001b[1;32m--> 616\u001b[1;33m                 \u001b[0mpredictions\u001b[0m \u001b[1;33m=\u001b[0m \u001b[0mself\u001b[0m\u001b[1;33m.\u001b[0m\u001b[0mmodel\u001b[0m\u001b[1;33m(\u001b[0m\u001b[0minputs\u001b[0m\u001b[1;33m.\u001b[0m\u001b[0mdata\u001b[0m\u001b[1;33m,\u001b[0m \u001b[0mtraining\u001b[0m\u001b[1;33m=\u001b[0m\u001b[1;32mFalse\u001b[0m\u001b[1;33m)\u001b[0m\u001b[1;33m[\u001b[0m\u001b[1;36m0\u001b[0m\u001b[1;33m]\u001b[0m\u001b[1;33m\u001b[0m\u001b[1;33m\u001b[0m\u001b[0m\n\u001b[0m\u001b[0;32m    617\u001b[0m             \u001b[1;32melse\u001b[0m\u001b[1;33m:\u001b[0m\u001b[1;33m\u001b[0m\u001b[1;33m\u001b[0m\u001b[0m\n\u001b[0;32m    618\u001b[0m                 \u001b[1;32mwith\u001b[0m \u001b[0mtorch\u001b[0m\u001b[1;33m.\u001b[0m\u001b[0mno_grad\u001b[0m\u001b[1;33m(\u001b[0m\u001b[1;33m)\u001b[0m\u001b[1;33m:\u001b[0m\u001b[1;33m\u001b[0m\u001b[1;33m\u001b[0m\u001b[0m\n",
      "\u001b[1;32m~\\anaconda3\\lib\\site-packages\\tensorflow\\python\\keras\\engine\\base_layer.py\u001b[0m in \u001b[0;36m__call__\u001b[1;34m(self, *args, **kwargs)\u001b[0m\n\u001b[0;32m   1010\u001b[0m         with autocast_variable.enable_auto_cast_variables(\n\u001b[0;32m   1011\u001b[0m             self._compute_dtype_object):\n\u001b[1;32m-> 1012\u001b[1;33m           \u001b[0moutputs\u001b[0m \u001b[1;33m=\u001b[0m \u001b[0mcall_fn\u001b[0m\u001b[1;33m(\u001b[0m\u001b[0minputs\u001b[0m\u001b[1;33m,\u001b[0m \u001b[1;33m*\u001b[0m\u001b[0margs\u001b[0m\u001b[1;33m,\u001b[0m \u001b[1;33m**\u001b[0m\u001b[0mkwargs\u001b[0m\u001b[1;33m)\u001b[0m\u001b[1;33m\u001b[0m\u001b[1;33m\u001b[0m\u001b[0m\n\u001b[0m\u001b[0;32m   1013\u001b[0m \u001b[1;33m\u001b[0m\u001b[0m\n\u001b[0;32m   1014\u001b[0m         \u001b[1;32mif\u001b[0m \u001b[0mself\u001b[0m\u001b[1;33m.\u001b[0m\u001b[0m_activity_regularizer\u001b[0m\u001b[1;33m:\u001b[0m\u001b[1;33m\u001b[0m\u001b[1;33m\u001b[0m\u001b[0m\n",
      "\u001b[1;32m~\\anaconda3\\lib\\site-packages\\transformers\\models\\distilbert\\modeling_tf_distilbert.py\u001b[0m in \u001b[0;36mcall\u001b[1;34m(self, input_ids, attention_mask, head_mask, inputs_embeds, output_attentions, output_hidden_states, return_dict, labels, training, **kwargs)\u001b[0m\n\u001b[0;32m    869\u001b[0m             \u001b[0mkwargs_call\u001b[0m\u001b[1;33m=\u001b[0m\u001b[0mkwargs\u001b[0m\u001b[1;33m,\u001b[0m\u001b[1;33m\u001b[0m\u001b[1;33m\u001b[0m\u001b[0m\n\u001b[0;32m    870\u001b[0m         )\n\u001b[1;32m--> 871\u001b[1;33m         distilbert_output = self.distilbert(\n\u001b[0m\u001b[0;32m    872\u001b[0m             \u001b[0minput_ids\u001b[0m\u001b[1;33m=\u001b[0m\u001b[0minputs\u001b[0m\u001b[1;33m[\u001b[0m\u001b[1;34m\"input_ids\"\u001b[0m\u001b[1;33m]\u001b[0m\u001b[1;33m,\u001b[0m\u001b[1;33m\u001b[0m\u001b[1;33m\u001b[0m\u001b[0m\n\u001b[0;32m    873\u001b[0m             \u001b[0mattention_mask\u001b[0m\u001b[1;33m=\u001b[0m\u001b[0minputs\u001b[0m\u001b[1;33m[\u001b[0m\u001b[1;34m\"attention_mask\"\u001b[0m\u001b[1;33m]\u001b[0m\u001b[1;33m,\u001b[0m\u001b[1;33m\u001b[0m\u001b[1;33m\u001b[0m\u001b[0m\n",
      "\u001b[1;32m~\\anaconda3\\lib\\site-packages\\tensorflow\\python\\keras\\engine\\base_layer.py\u001b[0m in \u001b[0;36m__call__\u001b[1;34m(self, *args, **kwargs)\u001b[0m\n\u001b[0;32m   1010\u001b[0m         with autocast_variable.enable_auto_cast_variables(\n\u001b[0;32m   1011\u001b[0m             self._compute_dtype_object):\n\u001b[1;32m-> 1012\u001b[1;33m           \u001b[0moutputs\u001b[0m \u001b[1;33m=\u001b[0m \u001b[0mcall_fn\u001b[0m\u001b[1;33m(\u001b[0m\u001b[0minputs\u001b[0m\u001b[1;33m,\u001b[0m \u001b[1;33m*\u001b[0m\u001b[0margs\u001b[0m\u001b[1;33m,\u001b[0m \u001b[1;33m**\u001b[0m\u001b[0mkwargs\u001b[0m\u001b[1;33m)\u001b[0m\u001b[1;33m\u001b[0m\u001b[1;33m\u001b[0m\u001b[0m\n\u001b[0m\u001b[0;32m   1013\u001b[0m \u001b[1;33m\u001b[0m\u001b[0m\n\u001b[0;32m   1014\u001b[0m         \u001b[1;32mif\u001b[0m \u001b[0mself\u001b[0m\u001b[1;33m.\u001b[0m\u001b[0m_activity_regularizer\u001b[0m\u001b[1;33m:\u001b[0m\u001b[1;33m\u001b[0m\u001b[1;33m\u001b[0m\u001b[0m\n",
      "\u001b[1;32m~\\anaconda3\\lib\\site-packages\\transformers\\models\\distilbert\\modeling_tf_distilbert.py\u001b[0m in \u001b[0;36mcall\u001b[1;34m(self, input_ids, attention_mask, head_mask, inputs_embeds, output_attentions, output_hidden_states, return_dict, training, **kwargs)\u001b[0m\n\u001b[0;32m    482\u001b[0m             \u001b[0minputs\u001b[0m\u001b[1;33m[\u001b[0m\u001b[1;34m\"head_mask\"\u001b[0m\u001b[1;33m]\u001b[0m \u001b[1;33m=\u001b[0m \u001b[1;33m[\u001b[0m\u001b[1;32mNone\u001b[0m\u001b[1;33m]\u001b[0m \u001b[1;33m*\u001b[0m \u001b[0mself\u001b[0m\u001b[1;33m.\u001b[0m\u001b[0mnum_hidden_layers\u001b[0m\u001b[1;33m\u001b[0m\u001b[1;33m\u001b[0m\u001b[0m\n\u001b[0;32m    483\u001b[0m \u001b[1;33m\u001b[0m\u001b[0m\n\u001b[1;32m--> 484\u001b[1;33m         embedding_output = self.embeddings(\n\u001b[0m\u001b[0;32m    485\u001b[0m             \u001b[0minputs\u001b[0m\u001b[1;33m[\u001b[0m\u001b[1;34m\"input_ids\"\u001b[0m\u001b[1;33m]\u001b[0m\u001b[1;33m,\u001b[0m \u001b[0minputs_embeds\u001b[0m\u001b[1;33m=\u001b[0m\u001b[0minputs\u001b[0m\u001b[1;33m[\u001b[0m\u001b[1;34m\"inputs_embeds\"\u001b[0m\u001b[1;33m]\u001b[0m\u001b[1;33m\u001b[0m\u001b[1;33m\u001b[0m\u001b[0m\n\u001b[0;32m    486\u001b[0m         )  # (bs, seq_length, dim)\n",
      "\u001b[1;32m~\\anaconda3\\lib\\site-packages\\tensorflow\\python\\keras\\engine\\base_layer.py\u001b[0m in \u001b[0;36m__call__\u001b[1;34m(self, *args, **kwargs)\u001b[0m\n\u001b[0;32m   1010\u001b[0m         with autocast_variable.enable_auto_cast_variables(\n\u001b[0;32m   1011\u001b[0m             self._compute_dtype_object):\n\u001b[1;32m-> 1012\u001b[1;33m           \u001b[0moutputs\u001b[0m \u001b[1;33m=\u001b[0m \u001b[0mcall_fn\u001b[0m\u001b[1;33m(\u001b[0m\u001b[0minputs\u001b[0m\u001b[1;33m,\u001b[0m \u001b[1;33m*\u001b[0m\u001b[0margs\u001b[0m\u001b[1;33m,\u001b[0m \u001b[1;33m**\u001b[0m\u001b[0mkwargs\u001b[0m\u001b[1;33m)\u001b[0m\u001b[1;33m\u001b[0m\u001b[1;33m\u001b[0m\u001b[0m\n\u001b[0m\u001b[0;32m   1013\u001b[0m \u001b[1;33m\u001b[0m\u001b[0m\n\u001b[0;32m   1014\u001b[0m         \u001b[1;32mif\u001b[0m \u001b[0mself\u001b[0m\u001b[1;33m.\u001b[0m\u001b[0m_activity_regularizer\u001b[0m\u001b[1;33m:\u001b[0m\u001b[1;33m\u001b[0m\u001b[1;33m\u001b[0m\u001b[0m\n",
      "\u001b[1;32m~\\anaconda3\\lib\\site-packages\\transformers\\models\\distilbert\\modeling_tf_distilbert.py\u001b[0m in \u001b[0;36mcall\u001b[1;34m(self, input_ids, position_ids, inputs_embeds, training)\u001b[0m\n\u001b[0;32m    182\u001b[0m \u001b[1;33m\u001b[0m\u001b[0m\n\u001b[0;32m    183\u001b[0m         \u001b[1;32mif\u001b[0m \u001b[0mposition_ids\u001b[0m \u001b[1;32mis\u001b[0m \u001b[1;32mNone\u001b[0m\u001b[1;33m:\u001b[0m\u001b[1;33m\u001b[0m\u001b[1;33m\u001b[0m\u001b[0m\n\u001b[1;32m--> 184\u001b[1;33m             \u001b[0mposition_embeds\u001b[0m \u001b[1;33m=\u001b[0m \u001b[0mself\u001b[0m\u001b[1;33m.\u001b[0m\u001b[0mposition_embeddings\u001b[0m\u001b[1;33m(\u001b[0m\u001b[0mposition_ids\u001b[0m\u001b[1;33m=\u001b[0m\u001b[0minputs_embeds\u001b[0m\u001b[1;33m)\u001b[0m\u001b[1;33m\u001b[0m\u001b[1;33m\u001b[0m\u001b[0m\n\u001b[0m\u001b[0;32m    185\u001b[0m         \u001b[1;32melse\u001b[0m\u001b[1;33m:\u001b[0m\u001b[1;33m\u001b[0m\u001b[1;33m\u001b[0m\u001b[0m\n\u001b[0;32m    186\u001b[0m             \u001b[0mposition_embeds\u001b[0m \u001b[1;33m=\u001b[0m \u001b[0mself\u001b[0m\u001b[1;33m.\u001b[0m\u001b[0mposition_embeddings\u001b[0m\u001b[1;33m(\u001b[0m\u001b[0mposition_ids\u001b[0m\u001b[1;33m=\u001b[0m\u001b[0mposition_ids\u001b[0m\u001b[1;33m)\u001b[0m\u001b[1;33m\u001b[0m\u001b[1;33m\u001b[0m\u001b[0m\n",
      "\u001b[1;32m~\\anaconda3\\lib\\site-packages\\tensorflow\\python\\keras\\engine\\base_layer.py\u001b[0m in \u001b[0;36m__call__\u001b[1;34m(self, *args, **kwargs)\u001b[0m\n\u001b[0;32m   1010\u001b[0m         with autocast_variable.enable_auto_cast_variables(\n\u001b[0;32m   1011\u001b[0m             self._compute_dtype_object):\n\u001b[1;32m-> 1012\u001b[1;33m           \u001b[0moutputs\u001b[0m \u001b[1;33m=\u001b[0m \u001b[0mcall_fn\u001b[0m\u001b[1;33m(\u001b[0m\u001b[0minputs\u001b[0m\u001b[1;33m,\u001b[0m \u001b[1;33m*\u001b[0m\u001b[0margs\u001b[0m\u001b[1;33m,\u001b[0m \u001b[1;33m**\u001b[0m\u001b[0mkwargs\u001b[0m\u001b[1;33m)\u001b[0m\u001b[1;33m\u001b[0m\u001b[1;33m\u001b[0m\u001b[0m\n\u001b[0m\u001b[0;32m   1013\u001b[0m \u001b[1;33m\u001b[0m\u001b[0m\n\u001b[0;32m   1014\u001b[0m         \u001b[1;32mif\u001b[0m \u001b[0mself\u001b[0m\u001b[1;33m.\u001b[0m\u001b[0m_activity_regularizer\u001b[0m\u001b[1;33m:\u001b[0m\u001b[1;33m\u001b[0m\u001b[1;33m\u001b[0m\u001b[0m\n",
      "\u001b[1;32m~\\anaconda3\\lib\\site-packages\\transformers\\models\\distilbert\\modeling_tf_distilbert.py\u001b[0m in \u001b[0;36mcall\u001b[1;34m(self, position_ids)\u001b[0m\n\u001b[0;32m    141\u001b[0m         \u001b[0mposition_embeddings\u001b[0m \u001b[1;33m=\u001b[0m \u001b[0mself\u001b[0m\u001b[1;33m.\u001b[0m\u001b[0mposition_embeddings\u001b[0m\u001b[1;33m[\u001b[0m\u001b[1;33m:\u001b[0m \u001b[0minput_shape\u001b[0m\u001b[1;33m[\u001b[0m\u001b[1;36m1\u001b[0m\u001b[1;33m]\u001b[0m\u001b[1;33m,\u001b[0m \u001b[1;33m:\u001b[0m\u001b[1;33m]\u001b[0m\u001b[1;33m\u001b[0m\u001b[1;33m\u001b[0m\u001b[0m\n\u001b[0;32m    142\u001b[0m \u001b[1;33m\u001b[0m\u001b[0m\n\u001b[1;32m--> 143\u001b[1;33m         \u001b[1;32mreturn\u001b[0m \u001b[0mtf\u001b[0m\u001b[1;33m.\u001b[0m\u001b[0mbroadcast_to\u001b[0m\u001b[1;33m(\u001b[0m\u001b[0minput\u001b[0m\u001b[1;33m=\u001b[0m\u001b[0mposition_embeddings\u001b[0m\u001b[1;33m,\u001b[0m \u001b[0mshape\u001b[0m\u001b[1;33m=\u001b[0m\u001b[0minput_shape\u001b[0m\u001b[1;33m)\u001b[0m\u001b[1;33m\u001b[0m\u001b[1;33m\u001b[0m\u001b[0m\n\u001b[0m\u001b[0;32m    144\u001b[0m \u001b[1;33m\u001b[0m\u001b[0m\n\u001b[0;32m    145\u001b[0m \u001b[1;33m\u001b[0m\u001b[0m\n",
      "\u001b[1;32m~\\anaconda3\\lib\\site-packages\\tensorflow\\python\\ops\\gen_array_ops.py\u001b[0m in \u001b[0;36mbroadcast_to\u001b[1;34m(input, shape, name)\u001b[0m\n\u001b[0;32m    828\u001b[0m       \u001b[1;32mpass\u001b[0m\u001b[1;33m\u001b[0m\u001b[1;33m\u001b[0m\u001b[0m\n\u001b[0;32m    829\u001b[0m     \u001b[1;32mtry\u001b[0m\u001b[1;33m:\u001b[0m\u001b[1;33m\u001b[0m\u001b[1;33m\u001b[0m\u001b[0m\n\u001b[1;32m--> 830\u001b[1;33m       return broadcast_to_eager_fallback(\n\u001b[0m\u001b[0;32m    831\u001b[0m           input, shape, name=name, ctx=_ctx)\n\u001b[0;32m    832\u001b[0m     \u001b[1;32mexcept\u001b[0m \u001b[0m_core\u001b[0m\u001b[1;33m.\u001b[0m\u001b[0m_SymbolicException\u001b[0m\u001b[1;33m:\u001b[0m\u001b[1;33m\u001b[0m\u001b[1;33m\u001b[0m\u001b[0m\n",
      "\u001b[1;32m~\\anaconda3\\lib\\site-packages\\tensorflow\\python\\ops\\gen_array_ops.py\u001b[0m in \u001b[0;36mbroadcast_to_eager_fallback\u001b[1;34m(input, shape, name, ctx)\u001b[0m\n\u001b[0;32m    868\u001b[0m   \u001b[0m_inputs_flat\u001b[0m \u001b[1;33m=\u001b[0m \u001b[1;33m[\u001b[0m\u001b[0minput\u001b[0m\u001b[1;33m,\u001b[0m \u001b[0mshape\u001b[0m\u001b[1;33m]\u001b[0m\u001b[1;33m\u001b[0m\u001b[1;33m\u001b[0m\u001b[0m\n\u001b[0;32m    869\u001b[0m   \u001b[0m_attrs\u001b[0m \u001b[1;33m=\u001b[0m \u001b[1;33m(\u001b[0m\u001b[1;34m\"T\"\u001b[0m\u001b[1;33m,\u001b[0m \u001b[0m_attr_T\u001b[0m\u001b[1;33m,\u001b[0m \u001b[1;34m\"Tidx\"\u001b[0m\u001b[1;33m,\u001b[0m \u001b[0m_attr_Tidx\u001b[0m\u001b[1;33m)\u001b[0m\u001b[1;33m\u001b[0m\u001b[1;33m\u001b[0m\u001b[0m\n\u001b[1;32m--> 870\u001b[1;33m   _result = _execute.execute(b\"BroadcastTo\", 1, inputs=_inputs_flat,\n\u001b[0m\u001b[0;32m    871\u001b[0m                              attrs=_attrs, ctx=ctx, name=name)\n\u001b[0;32m    872\u001b[0m   \u001b[1;32mif\u001b[0m \u001b[0m_execute\u001b[0m\u001b[1;33m.\u001b[0m\u001b[0mmust_record_gradient\u001b[0m\u001b[1;33m(\u001b[0m\u001b[1;33m)\u001b[0m\u001b[1;33m:\u001b[0m\u001b[1;33m\u001b[0m\u001b[1;33m\u001b[0m\u001b[0m\n",
      "\u001b[1;32m~\\anaconda3\\lib\\site-packages\\tensorflow\\python\\eager\\execute.py\u001b[0m in \u001b[0;36mquick_execute\u001b[1;34m(op_name, num_outputs, inputs, attrs, ctx, name)\u001b[0m\n\u001b[0;32m     57\u001b[0m   \u001b[1;32mtry\u001b[0m\u001b[1;33m:\u001b[0m\u001b[1;33m\u001b[0m\u001b[1;33m\u001b[0m\u001b[0m\n\u001b[0;32m     58\u001b[0m     \u001b[0mctx\u001b[0m\u001b[1;33m.\u001b[0m\u001b[0mensure_initialized\u001b[0m\u001b[1;33m(\u001b[0m\u001b[1;33m)\u001b[0m\u001b[1;33m\u001b[0m\u001b[1;33m\u001b[0m\u001b[0m\n\u001b[1;32m---> 59\u001b[1;33m     tensors = pywrap_tfe.TFE_Py_Execute(ctx._handle, device_name, op_name,\n\u001b[0m\u001b[0;32m     60\u001b[0m                                         inputs, attrs, num_outputs)\n\u001b[0;32m     61\u001b[0m   \u001b[1;32mexcept\u001b[0m \u001b[0mcore\u001b[0m\u001b[1;33m.\u001b[0m\u001b[0m_NotOkStatusException\u001b[0m \u001b[1;32mas\u001b[0m \u001b[0me\u001b[0m\u001b[1;33m:\u001b[0m\u001b[1;33m\u001b[0m\u001b[1;33m\u001b[0m\u001b[0m\n",
      "\u001b[1;31mInvalidArgumentError\u001b[0m: Incompatible shapes: [512,768] vs. [1,625,768] [Op:BroadcastTo]"
     ]
    }
   ],
   "source": [
    "for i in range(876, 877):\n",
    "    sent_scorer(df, i)"
   ]
  },
  {
   "cell_type": "code",
   "execution_count": 55,
   "metadata": {
    "ExecuteTime": {
     "end_time": "2021-02-19T06:41:04.424956Z",
     "start_time": "2021-02-19T06:41:04.261393Z"
    }
   },
   "outputs": [],
   "source": [
    "for i in range(0, 15193):\n",
    "    sent_scores.append(sent_scorer(df, i))"
   ]
  },
  {
   "cell_type": "code",
   "execution_count": 52,
   "metadata": {
    "ExecuteTime": {
     "end_time": "2021-02-19T06:40:04.260339Z",
     "start_time": "2021-02-19T06:40:04.249396Z"
    }
   },
   "outputs": [
    {
     "data": {
      "text/plain": [
       "15193"
      ]
     },
     "execution_count": 52,
     "metadata": {},
     "output_type": "execute_result"
    }
   ],
   "source": [
    "len(df)"
   ]
  },
  {
   "cell_type": "code",
   "execution_count": null,
   "metadata": {},
   "outputs": [],
   "source": []
  }
 ],
 "metadata": {
  "kernelspec": {
   "display_name": "Python 3",
   "language": "python",
   "name": "python3"
  },
  "language_info": {
   "codemirror_mode": {
    "name": "ipython",
    "version": 3
   },
   "file_extension": ".py",
   "mimetype": "text/x-python",
   "name": "python",
   "nbconvert_exporter": "python",
   "pygments_lexer": "ipython3",
   "version": "3.8.5"
  },
  "toc": {
   "base_numbering": 1,
   "nav_menu": {},
   "number_sections": true,
   "sideBar": true,
   "skip_h1_title": false,
   "title_cell": "Table of Contents",
   "title_sidebar": "Contents",
   "toc_cell": false,
   "toc_position": {},
   "toc_section_display": true,
   "toc_window_display": false
  }
 },
 "nbformat": 4,
 "nbformat_minor": 4
}
