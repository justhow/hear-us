{
 "cells": [
  {
   "cell_type": "markdown",
   "metadata": {},
   "source": [
    "# Project 5 - Hear Us: Toward a More Just World"
   ]
  },
  {
   "cell_type": "markdown",
   "metadata": {},
   "source": [
    "## Table of Contents"
   ]
  },
  {
   "cell_type": "markdown",
   "metadata": {},
   "source": [
    "- [Table of Contents](#Table-of-Contents)\n",
    "- [Problem Statement](#Problem-Statement)\n",
    "- [Imports](#Imports)\n",
    "- [Munging](#Munging)\n",
    "- [Functions](#Functions)\n",
    "- [EDA](#EDA)\n",
    "- [Modeling](#Modeling)\n",
    "- [Model Results](#Model-Results)\n",
    "- [Conclusions and Recommendations](#Conclusions-and-Recommendations)"
   ]
  },
  {
   "cell_type": "markdown",
   "metadata": {},
   "source": [
    "## Problem Statement\n",
    "\n",
    "With an average of over 600 noteworthy protests occurring globally per year, and just 10% succeeding in achieving a positive government response toward their aims, international human rights organizations face a dismal kind of triage.  Where can we devote resources to greatest effect, and where will they be wasted?  How can we turn a failure into a success?\n",
    "\n",
    "We seek to leverage extensive data, compiled by the CIA, on the demographics of hundreds of nations and the thousands of mass movements that have arisen over the past two decades and change, in building a highly-interpretable predictive model of protest success.  The insights gained from machine learning will inform Amnesty International's budgeting of both efforts and funds to new movements as they unfold.\n",
    "\n",
    "Furthermore, state-sanctioned violence is an all-too common response to popular movements.  Independently of our predictions of success, we will indentify indicators of which protests are most vulnerable to violence at the hands of state actors.  By predicting this in advance, we enable Amnesty to direct media attention _before_ violence erupts -- often the most effective way to prevent it."
   ]
  },
  {
   "cell_type": "markdown",
   "metadata": {},
   "source": [
    "## Imports"
   ]
  },
  {
   "cell_type": "code",
   "execution_count": 1,
   "metadata": {
    "ExecuteTime": {
     "end_time": "2021-02-20T02:52:28.814525Z",
     "start_time": "2021-02-20T02:52:22.696847Z"
    },
    "run_control": {
     "marked": true
    }
   },
   "outputs": [
    {
     "data": {
      "text/plain": [
       "<Figure size 720x720 with 0 Axes>"
      ]
     },
     "execution_count": 1,
     "metadata": {},
     "output_type": "execute_result"
    },
    {
     "data": {
      "text/plain": [
       "<Figure size 720x720 with 0 Axes>"
      ]
     },
     "metadata": {},
     "output_type": "display_data"
    }
   ],
   "source": [
    "import pandas as pd, numpy as np, matplotlib.pyplot as plt, seaborn as sns, textwrap, gensim.downloader as api\n",
    "\n",
    "from sklearn.model_selection import train_test_split, GridSearchCV\n",
    "from sklearn.linear_model import LogisticRegression, Lasso, LassoCV\n",
    "from sklearn.preprocessing import StandardScaler, PolynomialFeatures\n",
    "from sklearn.metrics import confusion_matrix, classification_report, silhouette_score\n",
    "from sklearn.decomposition import PCA\n",
    "from sklearn.feature_selection import VarianceThreshold\n",
    "from sklearn.ensemble import RandomForestClassifier, GradientBoostingClassifier, AdaBoostClassifier, VotingClassifier\n",
    "from sklearn.tree import DecisionTreeClassifier\n",
    "from sklearn.cluster import KMeans, DBSCAN\n",
    "\n",
    "from collections import Counter\n",
    "from gensim.models.word2vec import Word2Vec\n",
    "from transformers import pipeline\n",
    "from imblearn.over_sampling import SMOTE\n",
    "from imblearn.pipeline import Pipeline\n",
    "\n",
    "from tensorflow.keras.models import Sequential\n",
    "from tensorflow.keras.layers import Dense, Dropout, GRU\n",
    "from tensorflow.keras.optimizers import Adam\n",
    "from tensorflow.keras.preprocessing.sequence import TimeseriesGenerator\n",
    "from tensorflow.keras.callbacks import EarlyStopping\n",
    "from keras import metrics\n",
    "\n",
    "from nltk.tokenize import sent_tokenize, word_tokenize, RegexpTokenizer\n",
    "from nltk.stem import WordNetLemmatizer\n",
    "from nltk.stem.porter import PorterStemmer\n",
    "from nltk.corpus import stopwords\n",
    "from nltk.sentiment.vader import SentimentIntensityAnalyzer\n",
    "\n",
    "import re\n",
    "\n",
    "plt.style.use('dark_background')\n",
    "plt.figure(figsize=(10,10))"
   ]
  },
  {
   "cell_type": "code",
   "execution_count": 2,
   "metadata": {
    "ExecuteTime": {
     "end_time": "2021-02-20T02:52:29.812839Z",
     "start_time": "2021-02-20T02:52:28.820478Z"
    },
    "run_control": {
     "marked": true
    }
   },
   "outputs": [],
   "source": [
    "africa = pd.read_csv('./data/africa.csv')\n",
    "asia = pd.read_csv('./data/asia.csv')\n",
    "cen_am = pd.read_csv('./data/central_america.csv')\n",
    "europe = pd.read_csv('./data/europe.csv')\n",
    "mena = pd.read_csv('./data/mena.csv')\n",
    "nor_am = pd.read_csv('./data/north_america.csv')\n",
    "oceania = pd.read_csv('./data/oceania.csv')\n",
    "sou_am = pd.read_csv('./data/south_america.csv')\n",
    "world = pd.read_csv('./data/global.csv')\n",
    "df = pd.read_csv('./data/global_cia_combined.csv')\n",
    "\n",
    "# df_orig = pd.read_csv('../data/mmALL_073120_csv.csv')"
   ]
  },
  {
   "cell_type": "markdown",
   "metadata": {},
   "source": [
    "## Munging"
   ]
  },
  {
   "cell_type": "markdown",
   "metadata": {},
   "source": [
    "Extensive cleanup was needed on the Participants column.  This was one of the most time-intensive portions of our data prep, but it was deemed necessary to make such an important feature usable.\n",
    "\n",
    "The work paid off, as it not only gave us our first logreg to actually beat the null model, but it hit an impressive 93.8% from adding this feature alone."
   ]
  },
  {
   "cell_type": "code",
   "execution_count": 3,
   "metadata": {
    "ExecuteTime": {
     "end_time": "2021-02-20T02:52:29.889619Z",
     "start_time": "2021-02-20T02:52:29.815818Z"
    },
    "run_control": {
     "marked": true
    }
   },
   "outputs": [],
   "source": [
    "# J's cleanup of participants column\n",
    "\n",
    "# extensive manual imputation, but I think it all holds up to common sense\n",
    "# and I applied it consistently.  I welcome scrutiny for any mistakes.\n",
    "\n",
    "part_dic = {\"100s\": 500, \"1000s\": 5000, \"50\": 50, \"50+\": 75, \"100\": 100,\n",
    "            \"1000\": 1000, \"10000\": 10000, \"200\": 200, \"2000\": 2000,\n",
    "            \"thousands\": 5000, \"300\": 300, \"500\": 500, \"5000\": 5000,\n",
    "            \"10000s\": 50000, \"hundreds\": 500, \"3000\": 3000,\n",
    "            \"tens of thousands\": 50000, \"20000\": 20000, \"150\": 150,\n",
    "            \"4000\": 4000, \"400\": 400, \"100000\": 100000, \"30000\": 30000,\n",
    "            \"15000\": 15000, \"50000\": 50000, \"dozens\": 48, \"1500\": 1500,\n",
    "            \"> 50\": 75, \"1000+\": 1500, \"6000\": 6000, \">100\": 150,\n",
    "            \"7000\": 7000, \"Thousands\": 3000, \"8000\": 8000, \"60\": 60,\n",
    "            \"700\": 700, \"250\": 250, \">1000\": 1500, \"600\": 600,\n",
    "            \"Thousands\": 3000, \"25000\": 25000, \"40000\": 40000,\n",
    "            \"Tens of thousands\": 30000, \"800\": 800, \"200000\": 200000,\n",
    "            \"100000s\": 300000, \"70\": 70, \"2500\": 2500, \"10000+\": 15000,\n",
    "            \"several thousand\": 4000, \"several hundred\": 400,\n",
    "            \"hundreds of thousands\": 300000, \"60000\": 60000, \">10000\": 10000,\n",
    "            \"1000000\": 1000000, \"80\": 80, \"80000\": 80000, \"12000\": 12000,\n",
    "            \"Hundreds\": 300, \"150000\": 150000, \"5000+\": 5000, \"70000\": 70000,\n",
    "            \"300000\": 300000, \"2000+\": 2000, \">5000\": 6000, \"500+\": 500,\n",
    "            \"35000\": 35000, \">300\": 350, \">200\": 250, \"200+\": 200,\n",
    "            \"500000\": 500000, \">2000\": 2500, \"250000\": 250000, \"350\": 350,\n",
    "            \">3000\": 3500, \"10s\": 50, \"400000\": 400000, \"100000+\": 100000,\n",
    "            \"14000\": 14000, \">500\": 600, \"120\": 120, \"1300\": 1300, \"3500\": 3500,\n",
    "            \"1200\": 1200, \"20000+\": 20000, \"> 10000\": 10000, \"3000+\": 3000,\n",
    "            \"45000\": 45000, \"75\": 75, \">30000\": 30000, \"13000\": 13000,\n",
    "            \">150\": 150, \"120000\": 120000, \"300+\": 300, \"18000\": 18000,\n",
    "            \">100000\": 150000, \"100s-1000s\": 500, \"600+\": 650, \"> 100000\": 150000,\n",
    "            \">50000\": 60000, \"800000\": 800000, \"16000\": 16000, \"350000\": 350000,\n",
    "            \"900\": 900, \">20000\": 25000, \"130\": 130, \">400\": 450, \"9000\": 9000,\n",
    "            \">4000\": 4500, \"110000\": 110000, \">15000\": 17500,\n",
    "            \"400+\": 400, \"32000\": 32000, \"About 100\": 100, \"several hundreds\": 400,\n",
    "            \"90000\": 90000, \"6000+\": 6000, \"1500+\": 1500, \"4500\": 4500, \"11000\": 11000,\n",
    "            \"4000+\": 4000, \"700000\": 700000, \"170\": 170, \"700+\": 700, \"> 100\": 150,\n",
    "            \"600000\": 600000, \"150+\": 150, \"1000000s\": 3000000, \"55000\": 55000,\n",
    "            \"750000\": 750000, \"> 1000\": 1000, \"1100\": 1100, \"450\": 450,\n",
    "            \"22000\": 22000, \"30000+\": 30000, \"200-300\": 250,\n",
    "            \"hundreds of thousands\": 300000, \"180\": 180, \"scores\": 60, \">250\": 300,\n",
    "            \"Several thousand\": 4000, \"6500\": 6500, \"130000\": 130000, \"1500-2000\": 1750,\n",
    "            \"55\": 55, \"> 3000\": 3500, \">2500\": 2750, \"90\": 90, \"60+\": 70,\n",
    "            \"> 200\": 250, \"17000\": 17000, \"240000\": 240000, \"280000\": 280000,\n",
    "            \"27000\": 27000, \"1400\": 1400, \"24000\": 24000, \">7000\": 7500, \"340\": 340,\n",
    "            \"28000\": 28000, \"270\": 270, \">1,000\": 1500, \">700\": 750, \"several dozen\": 48,\n",
    "            \"450000\": 450000, \"140\": 140, \"1700\": 1700, \"a few thousand\": 3000,\n",
    "            \"1200000\": 1200000, \"Dozens\": 36, \">300000\": 350000, \"> 5000\": 6000,\n",
    "            \"66000\": 66000, \"<1000\": 1500, \">500000\": 600000, \"About 200\": 200,\n",
    "            \"5500\": 5500, \"> 500\": 550, \"more than 200\": 250, \">1000000\": 1500000,\n",
    "            \"9000+\": 9000, \"7500\": 7500, \"135000\": 135000, \"a few dozen\": 36,\n",
    "            \"> 300000\": 350000, \"100s-10000s\": 50000, \"millions\": 5000000,\n",
    "            \"> 20000\": 25000, \"<2000\": 1500, \"13000+\": 13000, \"61\": 61,\n",
    "            \"Hundreds of thousands\": 300000, \"75000\": 75000, \"A few hundred\": 300,\n",
    "            \"750\": 750, \"hundreds\": 500, \"a group\": 50, \"100s-1000\": 500,\n",
    "            \"100s+\": 500, \">170\": 200, \"3500-5000\": 4000, \">5,000\": 5500,\n",
    "            \"About 3,000\": 3000, \"125\": 125, \"100,000\": 100000, \"36000\": 36000,\n",
    "            \">600\": 650, \"2000000\": 2000000, \"Millions\": 5000000, \"33000\": 33000,\n",
    "            \"<10000\": 9000, \"3600\": 3600, \"74\": 74, \">150000\": 160000, \"260\": 260,\n",
    "            \"100S\": 500, \"800+\": 800, \"hundreds\": 500, \"More than 100 people\": 200,\n",
    "            \"10,000\": 10000, \"900000\": 900000, \"About 100 people\": 100,\n",
    "            \"About 200 people\": 200, \"21000\": 21000, \">2000000\": 2500000,\n",
    "            \"3000000\": 3000000, \"> 400\": 450, \">40000\": 45000, \"50 people\": 50,\n",
    "            \">350\": 375, \"1000s-10000s\": 50000, \"19000\": 19000, \"60-70\": 65,\n",
    "            \"Hundreds of people\": 500, \"25000+\": 25000, \"15000+\": 15000,\n",
    "            \"64+\": 64, \"few dozen\": 36, \"50000-70000\": 60000, \"> 30000\": 35000,\n",
    "            \">115\": 120, \"400-500\": 450, \"About 1000\": 1000, \"more than 50000\": 55000,\n",
    "            \"> 2000\": 2500, \">8000\": 8500, \"52000\": 52000, \"200,000\": 200000,\n",
    "            \"160\": 160, \"<100\": 90, \"107\": 107, \"70+\": 70, \"61000\": 61000,\n",
    "            \">1100\": 1200, \">80\": 90, \"Tens of thousands of people\": 50000,\n",
    "            \"Thousands of people\": 5000, \"Crowds\": 50, \"102\": 102, \">3100\": 3200,\n",
    "            \"7000+\": 7000, \"1000s-10000\": 5000, \"72000\": 72000, \"more than 1000\": 1500,\n",
    "            \"About 500\": 500, \">35000\": 37500, \"<5000\": 4500, \"<200\": 150, \"115\": 115,\n",
    "            \">60\": 65, \">6000\": 6500, \"50000+\": 50000, \"66\": 66, \"200000+\": 200000,\n",
    "            \"100s-10000\": 5000, \"2050\": 2050, \"125000\": 125000, \"65\": 65,\n",
    "            \">1500\": 1750, \">400000\": 450000, \"several dozens\": 48, \"2500+\": 2500,\n",
    "            \"1000S\": 5000, \"500000+\": 500000, \"330\": 330, \"About 2,000 people\": 2000,\n",
    "            \"84000\": 84000, \"57000\": 57000, \"Some 50 members\": 50, \"> 50000\": 50000,\n",
    "            \"465000\": 465000, \"20000-40000\": 30000, \"10000s\": 50000, \"17000+\": 17000,\n",
    "            \">1600\": 1700, \"About 50\": 50, \"dozens arrested \": 2000000,\n",
    "            \"More than seven million people\": 7500000, \"207\": 207, \"7000-15000\": 15000,\n",
    "            \"634\": 634, \"40\": 40, \"<70000\": 70000, \"13800\": 13800, \"93000\": 93000,\n",
    "            \"At least 100\": 100, \"At least 10,000 people\": 10000,\n",
    "            \"Between 11000 and 45000\": 30000, \">3,000\": 3500, \"2,000 to 4,000 people\": 3000,\n",
    "            \"> 3500\": 3500, \"about 8000\": 8000, \"50-99\": 75, \"More than 1,000 teachers\": 1500,\n",
    "            \"4000-12000\": 8000, \">50-1000\": 500, \"370\": 370, \"5600\": 5600, \"> 70\": 80,\n",
    "            \"100000s-3000000\": 250000, \"50_\": 50, \"<15000\": 14000, \"About 10000\": 10000,\n",
    "            \"126000\": 126000, \"57 former estate workers\": 57, \"650000\": 650000, \"About 120\": 120,\n",
    "            \"240\": 240, \"680\": 680, \"86\": 86, \"2400+\": 2400, \"3300\": 3300,\n",
    "            \"Nearly 700,000\": 650000, \">440\": 450, \"51\": 51, \"25000-200000\": 200000,\n",
    "            \">80000\": 85000, \"About 30,000\": 30000, \"about 100\": 100,\n",
    "            \"hundreds of thousands to 1.4 million\": 900000, \"Over 200 local protesters\": 200,\n",
    "            \"14500\": 14500, \"> 9000\": 9500, \">56\": 57, \"195\": 195, \"300-400\": 350,\n",
    "            \"7000-9000\": 8000, \"137000\": 137000, \"up to two million\": 2000000,\n",
    "            \"Over 3,000\": 3500, \"241\": 241, \"24000+\": 24000,\n",
    "            \"March organiser and legal-sector lawmaker Dennis Kwok, said more than 2,000 people joined the protest. Police put the turnout at 1,700.\": 1800,\n",
    "            \">15,000\": 16000, \"128\": 128, \"340000\": 340000, \"5600+\": 5600,\n",
    "            \"couple thousands\": 2000, \"840\": 840, \"Nearly 500\": 450, \"613\": 613,\n",
    "            \"a few hundreds\": 300, \"About 6,000 people\": 6000, \"a few hundred\": 300,\n",
    "            \"2450\": 2450, \"155\": 155, \"51000+\": 51000, \"About 12,000 protesters\": 12000,\n",
    "            \"29000\": 29000, \"500-700\": 600, \"at least 500\": 500, \">9000\": 9500,\n",
    "            \"<375000\": 380000, \"52\": 52, \"35000 - 70000\": 52500, \"138\": 138,\n",
    "            \"ABOUT 130 members\": 130, \"128000\": 128000, \"<1000000\": 1200000,\n",
    "            \">2900\": 3000, \"about 300\": 300, \"68000\": 68000, \"350+\": 350, \"About 300\": 300,\n",
    "            \"5000-10000\": 7500, \"1 million\": 1000000, \">70000\": 75000,\n",
    "            \"Thousands of Indians, including Bollywood actors\": 5000,\n",
    "            \"More than 10,000 citizens\": 15000, \"50s\": 100, \"3000-5000\": 4000, \"50-100\": 75,\n",
    "            \"Around 200 protesters\": 200, \"at least 160000\": 160000, \"540\": 540,\n",
    "            \"In northern Chiang Mai province, 200 kamnans and village heads; in Phetchaburi, about 400 kamnans and village heads\": 600,\n",
    "            \"At least 10,000\": 10000, \"56000+\": 56000, \"15,000\": 15000, \">18000\": 19000,\n",
    "            \"Some 250 residents\": 250, \"4200\": 4200, \"btw. 20000 & 30000\": 25000,\n",
    "            \"100s-500\": 250, \"few thousand\": 3000, \"Estimated number of protesters at 10,000\" : 10000,\n",
    "            \"2200+\" : 2200, \"More than 500,000 people\" : 600000, \"150-300\" : 225, \"1000-10000\" : 6000,\n",
    "            \"187000\" : 187000, \"138000\" : 138000, \"63000\" : 63000, \"161\" : 161, \"920\" : 920,\n",
    "            \"13,000 people\" : 13000, \"56000\" : 56000, \"132+\" : 132, \"69000\" : 69000, \"51+\" : 52,\n",
    "            \"busloads\" : 100, \"Up to 300 people\": 250, \"71\" : 71, \"106\" : 106, \"3000-4000\" : 3500,\n",
    "            \"65000\" : 65000, \"about 3000\" : 3000, \"a few hundred\" : 300, \"About 100 taxis\" : 100, \n",
    "            \"500-1000\" : 750, \"520+\" : 520, \"SOME 3,000 people\" : 3000, \"181\" : 181, \n",
    "            \"100-1500+\" : 1000, \"700 - >1000\" : 850, \"Estimated 6,000 drivers\" : 6000,\n",
    "            \"615000\" : 615000, \"About 50 activists\" : 50, \"3000 to 5000\" : 4000, \"<500\" : 550,\n",
    "            \"300-1000s\" : 1000, \"Some 5,000 members\" : 5000, \"407791\" : 407791, \">340\" : 350,\n",
    "            \"298\" : 298, \"> 70000\" : 75000, \"124000\" : 124000, \"Some 100 residents\" : 100, \n",
    "            \">200000\" : 250000, \"20000s\" : 60000, \"About 300 people\" : 300, \"Nearly 70 parents\" : 70,\n",
    "            \"1500-10000\" : 6000, \"112\" : 112, \"Some 100 demonstrators\" : 100, \"< 100000\" : 90000,\n",
    "            \"About 80\" : 80, \"More than 10,000 protesters\" : 15000, \"73\" : 73, \"800-900\" : 850,\n",
    "            \"3000-6000\" : 4500, \"170000\" : 170000, \">224\" : 225, \"<20000\" : 25000, \"88\" : 88,\n",
    "            \"141\" : 141, \"34000\" : 34000, \"600-700\" : 650, \"1600\" : 1600, \"More than 1 000\" : 1500,\n",
    "            \"200-3000\" : 1600, \"6000-8000\" : 7000, \"2,000 to 3,000\" : 2500, \n",
    "            \"Several thousand protesters\" : 4000, \"567+\" : 567, \">250-300\" : 300, \">370\" : 380,\n",
    "            \"200-400\" : 300, \"150-200\" : 175, \"20000-30000\" : 25000, \"Over 100\" : 150, \n",
    "            \"10300\" : 10300, \"About 300 protesters\" : 300, \">16000\" : 16500, \"2700\" : 2700,\n",
    "            \"50000-80000\" : 65000, \"> 700\" : 750, \"Hundreds of Venezuelans\" : 500, \n",
    "            \"> 150000\" : 160000, \"5000-50000\" : 30000, \"193\" : 193, \"About 100 villagers\" : 100,\n",
    "            \"119500\" : 119500, \"About 4000\" : 4000, \"350-400\" : 375, \"> 800\" : 850, \"223000\" : 223000,\n",
    "            \"8000-9000\" : 8500, \"Some 500 people\" : 500, \">459\" : 460,  \n",
    "            \"As many as 25,000 protesters\" : 25000, \">3,000\" : 3500, \"<300\" : 350, \"234\" : 234,\n",
    "            \"more than 25000\" : 26000, \"23000+\" : 23000, \"> 40000\" : 45000, \"2400\" : 2400, \n",
    "            \"HUNDREDS OF thousands of Venezuelans\" : 500000, \"> 500000\" : 600000, \"4800\" : 4800, \n",
    "            \"> 400000\" : 450000, \"28500\" : 28500, \"87\" : 87, \"118000\" : 118000, \"290000\" : 290000,\n",
    "            \"3900\" : 3900, \"465\" : 465, \"53000\" : 53000, \"between 35,000 and 50,000\" : 42500, \n",
    "            \"6600\" : 6600, \"1300-2000\" : 1650, \"510000\" : 510000, \">800\" : 850, \n",
    "            \"About 5,000 people\" : 5000, \"950\" : 950, \"23000\" : 23000, \"149\" : 149, \"500-600\" : 550,\n",
    "            \">5100\" : 5200, \"320000\" : 320000, \"3700\" : 3700, \"1100000\" : 1100000,\n",
    "            \"100000-200000\" : 150000, \"300000+\" : 300000, \"Thousands of miners\" : 5000,\n",
    "            \"About 7,000\" : 7000, \"58000+\" : 58000, \"500 people\" : 500, \"about 2000\" : 2000, \n",
    "            \"14059\" : 14059, \"About a hundred protesters\" : 100, \"1500000\" : 1500000, \"90+\" : 90,\n",
    "            \"500+\" : 500, \"Up to 100,000\" : 100000, \"12000+\" : 12000,  \"more than 2000\" : 2500,\n",
    "            \"280\" : 280, \"> 200000\" : 250000, \"400-600+\" : 500, \"8500\" : 8500, \"2000 to 3000\" : 2500, \n",
    "            \"130+\" : 130, \"over a million\" : 1000000, \"<50\" : 40, \"180000\" : 180000,\n",
    "            \"Hundreds of youths\" : 500, \"29\" : 29, \"<6700\" : 6500, \"a few thousand\" : 3000,\n",
    "            \">37000\" : 35000, \">213\" : 225, \"825000\" : 825000, \"<200000\" : 180000, \"260-500\" : 380,\n",
    "            \"12500\" : 12500, \">1200\" : 1250, \"500-1200\" : 850, \"54\" : 54, \"17200\" : 17200, \n",
    "            \"> 1500\" : 1600, \"2600\" : 2600, \"> 50 < 100\" : 75, \"Several hundred\" : 400, \"311\" : 311, \n",
    "            \"80-100\" : 90, \"About 500 people\" : 500, \"7000000\" : 7000000, \"1250\" : 1250, \n",
    "            \"44000\" : 44000, \"168000\" : 168000, \"> 15000\" : 16000, \"Estimated to be 15,500\" : 15500,\n",
    "            \"430000+\" : 430000, \"50-60\" : 55, \"650\" : 650,  \"80+\" : 80, \"79\" : 79, \n",
    "            \"1100-10000s\" : 6500, \"More than 4,000 people\" : 4500, \"300s\" : 1000, \"around 50\" : 50,\n",
    "            \"1800+\" : 1800, \"> 1300\" : 1350, \"22800\" : 22800, \"Hundreds of college students\" : 500,\n",
    "            \"A general strike that paralysed Venezuela\" : 5000000, \"50000-100000\" : 75000,\n",
    "            \"300-350\" : 325, \"230 families\" : 1000, \"1000s-23000\" : 18000, \"40000-80000\" : 60000, \n",
    "            \"very low thousands\" : 2000, \"Several hundred demonstrators\" : 400,  \"> 450\" : 475, \n",
    "            \"484000\" : 484000, \"27500\" : 27500, \"27500\" : 27500, \"< 1500\" : 1600, \"84\" : 84,\n",
    "            \">2600\" : 2650, \">55\" : 56, \"41000\" : 41000, \"1600+\" : 1600, \"1000s-40000\" : 25000,\n",
    "            \"500,000\" : 500000, \"25100+\" : 25100, \"several 1000s\" : 4000, \"325000\" : 325000,\n",
    "            \"scores (>50)\" : 60, \"625000\" : 625000, \"more than 500\" : 550, \">50-100s\" : 300,\n",
    "            \"50000-120000\" : 85000, \"76\" : 76, \"300-500\" : 400, \"About 2,000\" : 2000,\n",
    "            \">130\" : 135, \"2000-3000\" : 2500, \"5300\" : 5300, \"5,000,000\" : 5000000, \n",
    "            \"The Civil Human Rights Front said 110,000 people; The Hong Kong police said about 20,000\" : 110000,\n",
    "            \"600-3000\" : 1800, \"> 50\" : 60, \"20700+\" : 20700, \"140+\" : 140, \n",
    "            \"More than 300 people\" : 350, \"270000\" : 270000, \"between 100000 & 300000\" : 200000,\n",
    "            \"<400000\" : 450000, \"About 150 protesters\" : 150, \"1150\" : 1150, \"200-2000+\" : 1500,\n",
    "            \"75000-170000\" : 130000, \"157\" : 157, \"Around 5,000\" : 5000, \">32200\" : 32250, \n",
    "            \"5750\" : 5750, \"About 500 demonstrators\" : 500, \"3800\" : 3800, \"559\" : 559, \n",
    "            \"More than 30,000\" : 35000, \"> 60000\" : 65000, \"185\" : 185, \"2000-200000\" : 105000 , \n",
    "            \"Almost 350,000\" : 340000, \"200000-400000\" : 300000, \">351\" : 352, \"nearly 10000\" : 9000,\n",
    "            \"More than 200 campaigners\" : 250, \"Hundreds of workers\" : 500, \"90000+\" : 90000, \n",
    "            \"3000-4500\" : 3750, \"1800\" : 1800, \"1,800 participants\" : 1800, \"102000\" : 102000,\n",
    "            \"1300000\" : 1300000, \"20000-60000\" : 40000, \"140000\" : 140000, \"65,000 people\" : 65000,\n",
    "            \"58000\" : 58000, \"250+\" : 250, \"Nearly 500 supporters\" : 475, \"3200+\" : 3200, \n",
    "            \"500-2000\" : 1250, \"3765\" : 3765, \"70000+\" : 70000, \"A few hundred people\" : 300,\n",
    "            \"Hundreds of residents\" : 500, \"525000\" : 525000, \"<900\" : 850, \"> 42000\" : 42500,\n",
    "            \"6000-7000\" : 6500, \"570000\" : 570000, \"About 4,000 people\" : 4000, \"51000\" : 51000,\n",
    "            \"2850\" : 2850, \"30000-40000\" : 35000, \"210\" : 210, \"63\" : 63, \">3500\" : 3600, \n",
    "            \"several hundred thousands\" : 400000, \"> 35000\" : 36000, \"several thousand\" : 4000,\n",
    "            \"2300\" : 2300, \"250000-350000\" : 300000, \"Almost 200\" : 190, \"3500+\" : 3500, \n",
    "            \"Hundreds of villagers\" : 500, \"18500\" : 18500, \"100,000s\" : 500000, \"6000 to 8000\" : 7000,\n",
    "            \">60900\" : 60950, \"About 400\" : 400, \"1365+\" : 1365, \"5800\" : 5800, \"355\" : 355, \n",
    "            \"about 150\": 150, \"250-300\" : 275, \"1,000,000\" : 1000000, \"500000-700000\" : 600000,\n",
    "            \"Over 2,000 construction workers\" : 2500, \"4700+\" : 4700, \"> 1000000\" : 1500000, \n",
    "            \"4360\" : 4360, \"between 7500-25000\" : 17500, \"3000-10000\" : 6500, \"more than 100\" : 150,\n",
    "            \"2200\" : 2200, \"82000\" : 82000, \"10600\" : 10600, \"560000\" : 560000, \">280\" : 285, \n",
    "            \"609\" : 609, \"335\" : 335, \"388\" : 388, \"> 80000\" : 85000, \"About 50 protesters\" : 50,\n",
    "            \"Around 300 local people\" : 300, \"> 23000\" : 23500, \"Hundreds of student protesters\" : 500,\n",
    "            \"22500\" : 22500, \"260000\" : 260000, \"89\" : 89, \"17500\" : 17500, \">70\" : 65, \"1900\" : 1900,\n",
    "            \"The organisers said more than 3,000 people; police said the turnout was 830 at its peak\" : 2000,\n",
    "            \"1300+\" : 1300, \"850\" : 850, \">222\" : 223, \"64\" : 64, \"> 25000\" : 25500, \n",
    "            \"1,000,000s\" : 5000000, \"300\" : 300}\n",
    "\n",
    "\n",
    "## CLEANING NOTES ##\n",
    "#\n",
    "# any string representing an integer was transferred as-is\n",
    "# \"About\" interpreted as \"exactly\"\n",
    "# any integer followed by a + was interpreted as that integer\n",
    "# any indication of a range was interpreted as the median point of that range\n",
    "# \"Up to\" rounded to a reasonable \"one step down\" value from the provided number\n",
    "# \"couple\" interpreted as 2, \"few\" as 3, \"several\" as 4\n",
    "# \"hundreds\", \"thousands\", and \"millions\" interpreted as 5, \n",
    "#\n",
    "# \">\" rounded up to halfway to the next significant digit contextual to the given value\n",
    "# \"<\" rounded down likewise\n",
    "#\n",
    "# \n",
    "#\n",
    "# \"100s-10000s\" notes revealed two of the three entries with this description\n",
    "# numbered tens of thousands, the other was unspecified.  I imputed the same value used\n",
    "# for \"10000s\" as a result.\n",
    "#\n",
    "# \"100s-1000\" both entries were described in notes as \"hundreds\" so that was the value imputed.\n",
    "#\n",
    "# \"dozens arrested \" for row 2047 says nothing about the number of protestors.  From the\n",
    "# wikipedia article covering this protest, I learned that \"Police said that about 33,000\n",
    "# participated in the protests; pro-government organizers said 175,000 demonstrated\" - the\n",
    "# following protest, 2 days later, \"Police estimated the number at 2.4 million and organizers\n",
    "# at three million, with hundreds of thousands to over a million demonstrators in São Paulo,\n",
    "# about 50,000 in Brasília and thousands in other cities\" - based on this I will impute a\n",
    "# value of 2 million, as this entry seems to cover both days of protest.\n",
    "#\n",
    "# The very similar but not identical entry \"dozens arrested\" refers to row 11176, a protest\n",
    "# in Iran.  Articles on this subject:\n",
    "#     - (https://theiranproject.com/blog/2016/02/12/cancellation-of-iran-oil-contracts-presentation-signals-infighting/, )\n",
    "#     - (https://www.nytimes.com/2016/02/01/world/middleeast/iran-sanctions-oil-investment.html)\n",
    "# suggest a protest of moderate size.  I am setting this one to a NaN to be filled later.\n",
    "\n",
    "\n",
    "df['participants'] = df['participants'].map(part_dic)\n",
    "\n",
    "# df['participants'].value_counts(normalize=True)"
   ]
  },
  {
   "cell_type": "code",
   "execution_count": 4,
   "metadata": {
    "ExecuteTime": {
     "end_time": "2021-02-20T02:52:29.905576Z",
     "start_time": "2021-02-20T02:52:29.891637Z"
    },
    "run_control": {
     "marked": true
    }
   },
   "outputs": [],
   "source": [
    "# had issues with .mean() and .median() so J filled the approximate number manually to the remaining 12 nulls\n",
    "df['participants'].fillna(500, inplace=True)"
   ]
  },
  {
   "cell_type": "markdown",
   "metadata": {},
   "source": [
    "We engineered a 'mean_age' column for each protest, based on the age slices of age ranges as a percent of total population from the CIA factbook.  These are approximate, but allow us to condense 5 fairly meaningless features into a single, moderately useful one."
   ]
  },
  {
   "cell_type": "code",
   "execution_count": 5,
   "metadata": {
    "ExecuteTime": {
     "end_time": "2021-02-20T02:52:34.406695Z",
     "start_time": "2021-02-20T02:52:29.908572Z"
    },
    "run_control": {
     "marked": true
    }
   },
   "outputs": [
    {
     "name": "stderr",
     "output_type": "stream",
     "text": [
      "<ipython-input-5-7d6781b2c2fb>:6: SettingWithCopyWarning: \n",
      "A value is trying to be set on a copy of a slice from a DataFrame\n",
      "\n",
      "See the caveats in the documentation: https://pandas.pydata.org/pandas-docs/stable/user_guide/indexing.html#returning-a-view-versus-a-copy\n",
      "  df['mean_age'][i] = ((df['age_0_14_percent'][i] / 100) * 7) + ((df['age_15_24_percent'][i] / 100) * 19) + ((df['age_25_54_percent'][i] / 100) * 39) + ((df['age_55_64_percent'][i] / 100) * 59)+ ((df['age_65_over_percent'][i] / 100) * 71)\n",
      "C:\\Users\\catal\\anaconda3\\lib\\site-packages\\pandas\\core\\indexing.py:670: SettingWithCopyWarning: \n",
      "A value is trying to be set on a copy of a slice from a DataFrame\n",
      "\n",
      "See the caveats in the documentation: https://pandas.pydata.org/pandas-docs/stable/user_guide/indexing.html#returning-a-view-versus-a-copy\n",
      "  iloc._setitem_with_indexer(indexer, value)\n",
      "<ipython-input-5-7d6781b2c2fb>:10: SettingWithCopyWarning: \n",
      "A value is trying to be set on a copy of a slice from a DataFrame\n",
      "\n",
      "See the caveats in the documentation: https://pandas.pydata.org/pandas-docs/stable/user_guide/indexing.html#returning-a-view-versus-a-copy\n",
      "  world['mean_age'][i] = ((world['age_0_14_percent'][i] / 100) * 7) + ((world['age_15_24_percent'][i] / 100) * 19) + ((world['age_25_54_percent'][i] / 100) * 39) + ((world['age_55_64_percent'][i] / 100) * 59)+ ((world['age_65_over_percent'][i] / 100) * 71)\n"
     ]
    }
   ],
   "source": [
    "# J adding 'mean_age' column to df\n",
    "# made our LogReg work beautifully!\n",
    "\n",
    "df['mean_age'] = 0\n",
    "for i in range(0, 15193):\n",
    "    df['mean_age'][i] = ((df['age_0_14_percent'][i] / 100) * 7) + ((df['age_15_24_percent'][i] / 100) * 19) + ((df['age_25_54_percent'][i] / 100) * 39) + ((df['age_55_64_percent'][i] / 100) * 59)+ ((df['age_65_over_percent'][i] / 100) * 71)\n",
    "\n",
    "world['mean_age'] = 0\n",
    "for i in range(0, 15193):\n",
    "    world['mean_age'][i] = ((world['age_0_14_percent'][i] / 100) * 7) + ((world['age_15_24_percent'][i] / 100) * 19) + ((world['age_25_54_percent'][i] / 100) * 39) + ((world['age_55_64_percent'][i] / 100) * 59)+ ((world['age_65_over_percent'][i] / 100) * 71)"
   ]
  },
  {
   "cell_type": "code",
   "execution_count": 6,
   "metadata": {
    "ExecuteTime": {
     "end_time": "2021-02-20T02:52:34.422653Z",
     "start_time": "2021-02-20T02:52:34.410655Z"
    },
    "run_control": {
     "marked": true
    }
   },
   "outputs": [],
   "source": [
    "# fill remaining nulls in mean age\n",
    "\n",
    "df['mean_age'].fillna(df['mean_age'].mean(), inplace=True)"
   ]
  },
  {
   "cell_type": "markdown",
   "metadata": {},
   "source": [
    "The data set has every country excluding the USA, so we will break it down by geographic region with a one-hot encoding.  This should give us a nice intuitive feature without the overkill of adding every single country."
   ]
  },
  {
   "cell_type": "markdown",
   "metadata": {},
   "source": [
    "Rather than treating each country as a feature and producing hundreds of dummy columns, we subdivided the data into broader regions, based on typical geopolitical norms -- i.e. continents (Oceania, North and South America, Asia) and socio-cultural/economic regions (Middle-East/North Africa, Europe)."
   ]
  },
  {
   "cell_type": "code",
   "execution_count": 7,
   "metadata": {
    "ExecuteTime": {
     "end_time": "2021-02-20T02:52:34.454537Z",
     "start_time": "2021-02-20T02:52:34.424616Z"
    },
    "run_control": {
     "marked": true
    }
   },
   "outputs": [],
   "source": [
    "# David's region OHE\n",
    "df['region'].unique()\n",
    "df = pd.get_dummies(data = df, columns = ['region'], drop_first=True)"
   ]
  },
  {
   "cell_type": "markdown",
   "metadata": {},
   "source": [
    "There are a great many protestor identities included in our dataset. In order to categorize them neatly, we will use stemming to one-hot encoded this feature."
   ]
  },
  {
   "cell_type": "code",
   "execution_count": 8,
   "metadata": {
    "ExecuteTime": {
     "end_time": "2021-02-20T02:52:34.485503Z",
     "start_time": "2021-02-20T02:52:34.456534Z"
    },
    "run_control": {
     "marked": true
    }
   },
   "outputs": [
    {
     "data": {
      "text/plain": [
       "protesters                                                         0.105267\n",
       "students                                                           0.043855\n",
       "workers                                                            0.018581\n",
       "unspecified                                                        0.015302\n",
       "farmers                                                            0.014960\n",
       "residents                                                          0.011681\n",
       "opposition supporters                                              0.011135\n",
       "university students                                                0.009837\n",
       "demonstrators                                                      0.009359\n",
       "opposition                                                         0.009085\n",
       "women                                                              0.007856\n",
       "teachers                                                           0.006694\n",
       "ladies in white                                                    0.006148\n",
       "people                                                             0.005670\n",
       "activists                                                          0.004577\n",
       "youths                                                             0.003962\n",
       "taxi drivers                                                       0.003894\n",
       "journalists                                                        0.003689\n",
       "pegida patriotic europeans against the islamization of the west    0.003484\n",
       "soldiers                                                           0.003484\n",
       "protestors                                                         0.003279\n",
       "stuttgart 21                                                       0.003279\n",
       "prisoners                                                          0.003211\n",
       "labor unions                                                       0.003074\n",
       "pro democracy activists; civil human rights front                  0.003074\n",
       "Name: protesteridentity, dtype: float64"
      ]
     },
     "execution_count": 8,
     "metadata": {},
     "output_type": "execute_result"
    }
   ],
   "source": [
    "# David's protestor identity OHE\n",
    "df['protesteridentity'].value_counts(normalize=True).head(25)"
   ]
  },
  {
   "cell_type": "code",
   "execution_count": 9,
   "metadata": {
    "ExecuteTime": {
     "end_time": "2021-02-20T02:52:34.501431Z",
     "start_time": "2021-02-20T02:52:34.487449Z"
    },
    "run_control": {
     "marked": true
    }
   },
   "outputs": [
    {
     "data": {
      "text/plain": [
       "0                                              unspecified\n",
       "1                                              unspecified\n",
       "2                               separatist parti quebecois\n",
       "3                                           mohawk indians\n",
       "4                                          local residents\n",
       "                               ...                        \n",
       "15188                                       asylum seekers\n",
       "15189                                  university students\n",
       "15190    protesters opposed to renewing the licence of ...\n",
       "15191    protesters opposed to counting irregularities ...\n",
       "15192                                               locals\n",
       "Name: protesteridentity, Length: 15193, dtype: object"
      ]
     },
     "execution_count": 9,
     "metadata": {},
     "output_type": "execute_result"
    }
   ],
   "source": [
    "# fill the nulls\n",
    "df['protesteridentity'].fillna('None')"
   ]
  },
  {
   "cell_type": "code",
   "execution_count": 10,
   "metadata": {
    "ExecuteTime": {
     "end_time": "2021-02-20T02:52:35.071404Z",
     "start_time": "2021-02-20T02:52:34.504403Z"
    },
    "run_control": {
     "marked": true
    }
   },
   "outputs": [],
   "source": [
    "# stem and create dictionary for mapping values\n",
    "p_stemmer = PorterStemmer()\n",
    "stem_list = [p_stemmer.stem(i) for i in df['protesteridentity'].astype(str)]\n",
    "protester_id = [i for i in df['protesteridentity']]\n",
    "protester_id_dict = dict(zip(protester_id, stem_list))"
   ]
  },
  {
   "cell_type": "code",
   "execution_count": 11,
   "metadata": {
    "ExecuteTime": {
     "end_time": "2021-02-20T02:52:35.086356Z",
     "start_time": "2021-02-20T02:52:35.074413Z"
    },
    "run_control": {
     "marked": true
    }
   },
   "outputs": [],
   "source": [
    "# map them\n",
    "df['protesteridentity_stem'] = df['protesteridentity'].map(protester_id_dict)"
   ]
  },
  {
   "cell_type": "code",
   "execution_count": 12,
   "metadata": {
    "ExecuteTime": {
     "end_time": "2021-02-20T02:52:35.117372Z",
     "start_time": "2021-02-20T02:52:35.089351Z"
    },
    "run_control": {
     "marked": true
    }
   },
   "outputs": [],
   "source": [
    "# top identity categories\n",
    "protest_stem_dict = {'protest' : 'protest',              \n",
    "'student' : 'student',              \n",
    "'nan' : 'unspecifi',                  \n",
    "'worker' : 'worker',               \n",
    "'unspecifi' : 'unspecifi',            \n",
    "'farmer' : 'farmer',               \n",
    "'resid' : 'resid',                \n",
    "'opposition support' : 'opposit',   \n",
    "'university stud' : 'student',       \n",
    "'demonstr' : 'protest',              \n",
    "'opposit' : 'opposit',               \n",
    "'women' : 'women',                 \n",
    "'teacher' : 'teacher',               \n",
    "'ladies in whit' : 'ladies_in_whit',     \n",
    "'youth' : 'student',\n",
    "'peopl' : 'peopl',                                                                                    \n",
    "'activist' : 'activist',                                                                                 \n",
    "'taxi driv' : 'taxi_driv',                                                                                \n",
    "'journalist' : 'journalist',                                                                               \n",
    "'pegida patriotic europeans against the islamization of the west' : 'pegida',                          \n",
    "'soldier' : 'soldier',                                                                                  \n",
    "'protestor' : 'protest',                                                                                \n",
    "'stuttgart 21' : 'stuttgart_21',                                                                             \n",
    "'prison' : 'prison',                                                                                  \n",
    "'labor union' : 'labor_union',                                                                              \n",
    "'pro democracy activists; civil human rights front' : 'pro_democraci',                                        \n",
    "'villag' : 'villag',                                                                                   \n",
    "'fishermen' : 'fishermen',                                                                                \n",
    "'pegida' : 'pegida',                                                                                   \n",
    "'muslim' : 'muslim',                                                                                   \n",
    "'local' : 'local',                                                                                    \n",
    "'miner' : 'miner',                                                                                    \n",
    "'indian' : 'indian',                                                                                   \n",
    "'pro democracy activists; hirak' : 'pro_democraci',                                                            \n",
    "'anti government protest' : 'anti_govt',                                                                  \n",
    "'peruvian' : 'peruvian',                                                                                 \n",
    "'ethnic albanian' : 'ethnic albanian',                                                                        \n",
    "'opposition supporters demanding the resignation of president hery rajaonarimampianina' : 'opposit',    \n",
    "'kurd' : 'kurd',                                                                                     \n",
    "'local resid' : 'resid',                                                                             \n",
    "'awami leagu' : 'awami leagu',                                                                             \n",
    "'chaves oppon'  : 'opposit',                                                                              \n",
    "'bangladesh nationalist parti' : 'nationalist_parti',                                                             \n",
    "'civil serv' : 'civil serv',                                                                              \n",
    "'anti corruption protest' : 'anti_curruption',                                                                  \n",
    "'pension' : 'pension',                                                                                  \n",
    "'opposition parti' : 'opposit',                                                                        \n",
    "'pro democraci' : 'pro democraci',                                                                            \n",
    "'trader' : 'trader',                                                                                   \n",
    "'anti government demonstr' : 'anti_govt',                                                                 \n",
    "}"
   ]
  },
  {
   "cell_type": "code",
   "execution_count": 13,
   "metadata": {
    "ExecuteTime": {
     "end_time": "2021-02-20T02:52:35.133364Z",
     "start_time": "2021-02-20T02:52:35.119366Z"
    },
    "run_control": {
     "marked": true
    }
   },
   "outputs": [],
   "source": [
    "# map values to column\n",
    "df['protesteridentity_stem'] = df['protesteridentity_stem'].map(protest_stem_dict)"
   ]
  },
  {
   "cell_type": "code",
   "execution_count": 14,
   "metadata": {
    "ExecuteTime": {
     "end_time": "2021-02-20T02:52:35.149289Z",
     "start_time": "2021-02-20T02:52:35.136355Z"
    },
    "run_control": {
     "marked": true
    }
   },
   "outputs": [],
   "source": [
    "# fill \"Other\" for nulls\n",
    "df['protesteridentity_stem'].fillna('Other', inplace = True)"
   ]
  },
  {
   "cell_type": "markdown",
   "metadata": {},
   "source": [
    "There are also 29 different Government Types we can one-hot encode and use as a feature."
   ]
  },
  {
   "cell_type": "code",
   "execution_count": 15,
   "metadata": {
    "ExecuteTime": {
     "end_time": "2021-02-20T02:52:35.165246Z",
     "start_time": "2021-02-20T02:52:35.152279Z"
    },
    "run_control": {
     "marked": true
    }
   },
   "outputs": [],
   "source": [
    "# David's Gov. Type OHE\n",
    "\n",
    "# fill nulls with none\n",
    "df['govt_type'].fillna('None', inplace=True)"
   ]
  },
  {
   "cell_type": "code",
   "execution_count": 16,
   "metadata": {
    "ExecuteTime": {
     "end_time": "2021-02-20T02:52:35.180205Z",
     "start_time": "2021-02-20T02:52:35.168238Z"
    },
    "run_control": {
     "marked": true
    }
   },
   "outputs": [],
   "source": [
    "# dict to simplify and clean strings\n",
    "govt_dict = {'presidential republic' : 'presidential_republic',                                                                                                                                                                                                                                                                                                                                                                                                                                                                                                                                                                                                                                                                                                                             \n",
    "'parliamentary republic' : 'parliamentary_republic',                                                                                                                                                                                                                                                                                                                                                                                                                                                                                                                                                                                                                                                                                                                \n",
    "'semi-presidential republic' : 'semi-presidential_republic',                                                                                                                                                                                                                                                                                                                                                                                                                                                                                                                                                                                                                                                                                                               \n",
    "'federal parliamentary republic' : 'federal_parliamentary_republic',                                                                                                                                                                                                                                                                                                                                                                                                                                                                                                                                                                                                                                                                                                     \n",
    "'federal presidential republic' : 'federal_presidential_republic',                                                                                                                                                                                                                                                                                                                                                                                                                                                                                                                                                                                                                                                                                              \n",
    "'parliamentary constitutional monarchy; a Commonwealth realm' : 'commonwealth_realm',                                                                                                                                                                                                                                                                                                                                                                                                                                                                                                                                                                                                                                                                                                  \n",
    "'parliamentary constitutional monarchy' : 'parliamentary_constitutional_monarchy',                                                                                                                                                                                                                                                                                                                                                                                                                                                                                                                                                                                                                                                                                                                      \n",
    "'communist party-led state' : 'communist_state',                                                                                                                                                                                                                                                                                                                                                                                                                                                                                                                                                                                                                                                                                                                                       \n",
    "'constitutional monarchy' : 'constitutional_monarchy',                                                                                                                                                                                                                                                                                                                                                                                                                                                                                                                                                                                                                                                                                                                     \n",
    "'semi-presidential federation' : 'semi-presidential_federation',                                                                                                                                                                                                                                                                                                                                                                                                                                                                                                                                                                                                                                                                                                                      \n",
    "'in transition' : 'in_transition',                                                                                                                                                                                                                                                                                                                                                                                                                                                                                                                                                                                                                                                                                                 \n",
    "'federal parliamentary constitutional monarchy\\nnote: all Peninsular Malaysian states have hereditary rulers (commonly referred to as sultans) except Melaka (Malacca) and Pulau Pinang (Penang); those two states along with Sabah and Sarawak in East Malaysia have governors appointed by government; powers of state governments are limited by the federal constitution; under terms of federation, Sabah and Sarawak retain certain constitutional prerogatives (e.g., right to maintain their own immigration controls)' : 'federal_parliamentary_constitutional_monarchy',                                                                                                                                                                                                                                  \n",
    "'Republic of Cyprus - presidential republic; \"Turkish Republic of Northern Cyprus\" (self-declared) - parliamentary republic with enhanced presidency\\nnote: a separation of the two main ethnic communities inhabiting the island began following the outbreak of communal strife in 1963; this separation was further solidified when a Greek military-junta-supported coup attempt prompted the Turkish military intervention in July 1974 that gave the Turkish Cypriots de facto control in the north; Greek Cypriots control the only internationally recognized government on the island; on 15 November 1983, then Turkish Cypriot \"President\" Rauf DENKTAS declared independence and the formation of the \"TRNC,” which is recognized only by Turkey' : 'presidential_republic',   \n",
    "'theocratic republic' : 'theocratic_republic',                                                                                                                                                                                                                                                                                                                                                                                                                                                                                                                                                                                                                                                                                                                                             \n",
    "'communist state' : 'communist_state',                                                                                                                                                                                                                                                                                                                                                                                                                                                                                                                                                                                                                                                                                                                                                 \n",
    "'parliamentary democracy; note - constitutional changes adopted in December 2015 transformed the government to a parliamentary system' : 'parliamentary_democracy',                                                                                                                                                                                                                                                                                                                                                                                                                                                                                                                                                                                                                            \n",
    "'presidential republic in name, although in fact a dictatorship' : 'dictatorship',                                                                                                                                                                                                                                                                                                                                                                                                                                                                                                                                                                                                                                                                                                \n",
    "'federal parliamentary democracy (Parliament of Canada) under a constitutional monarchy; a Commonwealth realm; federal and state authorities and responsibilities regulated in constitution' : 'commonwealth_realm',                                                                                                                                                                                                                                                                                                                                                                                                                                                                                                                                                                       \n",
    "'absolute monarchy' : 'absolute_monarchy',                                                                                                                                                                                                                                                                                                                                                                                                                                                                                                                                                                                                                                                                                                                                             \n",
    "'federal parliamentary democracy under a constitutional monarchy' : 'federal_parliamentary_democracy_under_constitutional_monarchy',                                                                                                                                                                                                                                                                                                                                                                                                                                                                                                                                                                                                                                                                                               \n",
    "'constitutional monarchy (emirate)' : 'emirate',                                                                                                                                                                                                                                                                                                                                                                                                                                                                                                                                                                                                                                                                                                                           \n",
    "'presidential Islamic republic' : 'presidential_islamic_republic',                                                                                                                                                                                                                                                                                                                                                                                                                                                                                                                                                                                                                                                                                                                                   \n",
    "'parliamentary democracy under a constitutional monarchy; a Commonwealth realm' : 'commonwealth_realm',                                                                                                                                                                                                                                                                                                                                                                                                                                                                                                                                                                                                                                                                                   \n",
    "'presidential republic; highly authoritarian' : 'authoritarian_presidential_republic',                                                                                                                                                                                                                                                                                                                                                                                                                                                                                                                                                                                                                                                                                                                     \n",
    "'parliamentary democracy (Parliament) under a constitutional monarchy; a Commonwealth realm' : 'commonwealth_realm',                                                                                                                                                                                                                                                                                                                                                                                                                                                                                                                                                                                                                                                                       \n",
    "'presidential republic; highly authoritarian regime' : 'authoritarian_presidential_republic',                                                                                                                                                                                                                                                                                                                                                                                                                                                                                                                                                                                                                                                                                                         \n",
    "'parliamentary constitutional monarchy; part of the Kingdom of the Netherlands': 'parliamentary_constitutional_monarchy',                                                                                                                                                                                                                                                                                                                                                                                                                                                                                                                                                                                                                                                                                  \n",
    "'federal republic (formally a confederation)' : 'federal_republic',                                                                                                                                                                                                                                                                                                                                                                                                                                                                                                                                                                                                                                                                                                                       \n",
    "'presidential republic; authoritaria' : 'authoritarian_presidential_republic'    \n",
    "}"
   ]
  },
  {
   "cell_type": "code",
   "execution_count": 17,
   "metadata": {
    "ExecuteTime": {
     "end_time": "2021-02-20T02:52:35.212120Z",
     "start_time": "2021-02-20T02:52:35.183195Z"
    },
    "run_control": {
     "marked": true
    }
   },
   "outputs": [
    {
     "data": {
      "text/plain": [
       "presidential_republic                                            0.330730\n",
       "parliamentary_republic                                           0.190292\n",
       "semi-presidential_republic                                       0.121022\n",
       "federal_parliamentary_republic                                   0.085839\n",
       "federal_presidential_republic                                    0.068321\n",
       "commonwealth_realm                                               0.050876\n",
       "parliamentary_constitutional_monarchy                            0.032336\n",
       "communist_state                                                  0.031898\n",
       "constitutional_monarchy                                          0.022044\n",
       "semi-presidential_federation                                     0.014891\n",
       "in_transition                                                    0.013139\n",
       "theocratic_republic                                              0.008978\n",
       "parliamentary_democracy                                          0.007591\n",
       "dictatorship                                                     0.005182\n",
       "authoritarian_presidential_republic                              0.003796\n",
       "absolute_monarchy                                                0.003504\n",
       "federal_parliamentary_democracy_under_constitutional_monarchy    0.003066\n",
       "emirate                                                          0.002993\n",
       "presidential_islamic_republic                                    0.002847\n",
       "federal_republic                                                 0.000657\n",
       "Name: govt_type, dtype: float64"
      ]
     },
     "execution_count": 17,
     "metadata": {},
     "output_type": "execute_result"
    }
   ],
   "source": [
    "#https://stackoverflow.com/questions/20250771/remap-values-in-pandas-column-with-a-dict\n",
    "df['govt_type'].map(govt_dict).value_counts(normalize=True)"
   ]
  },
  {
   "cell_type": "code",
   "execution_count": 18,
   "metadata": {
    "ExecuteTime": {
     "end_time": "2021-02-20T02:52:35.227079Z",
     "start_time": "2021-02-20T02:52:35.215113Z"
    },
    "run_control": {
     "marked": true
    }
   },
   "outputs": [],
   "source": [
    "df['govt_type'] = df['govt_type'].map(govt_dict)"
   ]
  },
  {
   "cell_type": "code",
   "execution_count": 19,
   "metadata": {
    "ExecuteTime": {
     "end_time": "2021-02-20T02:52:35.287918Z",
     "start_time": "2021-02-20T02:52:35.230070Z"
    },
    "run_control": {
     "marked": true
    }
   },
   "outputs": [],
   "source": [
    "# get dummies from the OHE columns\n",
    "df = pd.get_dummies(data = df, columns = ['govt_type', 'protesteridentity_stem'], drop_first=True)"
   ]
  },
  {
   "cell_type": "code",
   "execution_count": 20,
   "metadata": {
    "ExecuteTime": {
     "end_time": "2021-02-20T02:52:35.303636Z",
     "start_time": "2021-02-20T02:52:35.290907Z"
    },
    "run_control": {
     "marked": true
    }
   },
   "outputs": [],
   "source": [
    "# David's filling of miscellaneous nulls\n",
    "df['gdp_purchasing_power_global_rank'].fillna(df['gdp_purchasing_power_global_rank'].median(), inplace=True)\n",
    "df['gdp_growth_global_rank'].fillna(df['gdp_growth_global_rank'].median(), inplace=True)\n",
    "df['electricity_access_percent'].fillna(df['electricity_access_percent'].median(), inplace=True)\n",
    "df['internet_access_percent'].fillna(df['internet_access_percent'].median(), inplace=True)\n",
    "df['cell_phone_per_100'].fillna(df['cell_phone_per_100'].median(), inplace=True)"
   ]
  },
  {
   "cell_type": "code",
   "execution_count": 21,
   "metadata": {
    "ExecuteTime": {
     "end_time": "2021-02-20T02:52:37.067008Z",
     "start_time": "2021-02-20T02:52:35.315604Z"
    },
    "run_control": {
     "marked": true
    }
   },
   "outputs": [],
   "source": [
    "df.to_csv('./data/combined_munged.csv')"
   ]
  },
  {
   "cell_type": "markdown",
   "metadata": {},
   "source": [
    "## Functions"
   ]
  },
  {
   "cell_type": "code",
   "execution_count": 22,
   "metadata": {
    "ExecuteTime": {
     "end_time": "2021-02-20T02:52:37.081967Z",
     "start_time": "2021-02-20T02:52:37.072993Z"
    },
    "run_control": {
     "marked": true
    }
   },
   "outputs": [],
   "source": [
    "# Noah's eval function\n",
    "\n",
    "def evaluation(y_actual, predicted):\n",
    "    cnf_matrix = confusion_matrix(y_actual, predicted)\n",
    "\n",
    "    sns.heatmap(pd.DataFrame(cnf_matrix), annot = True, cmap = 'Blues', fmt = 'd')\n",
    "    plt.ylabel('Actual Label')\n",
    "    plt.xlabel('Predicted Label')\n",
    "    \n",
    "    labels = ['Failure', 'Success']\n",
    "    print(classification_report(y_actual, predicted, target_names = labels))"
   ]
  },
  {
   "cell_type": "code",
   "execution_count": 23,
   "metadata": {
    "ExecuteTime": {
     "end_time": "2021-02-20T02:52:43.023011Z",
     "start_time": "2021-02-20T02:52:37.084960Z"
    },
    "run_control": {
     "marked": true
    }
   },
   "outputs": [
    {
     "name": "stderr",
     "output_type": "stream",
     "text": [
      "Some layers from the model checkpoint at distilbert-base-uncased-finetuned-sst-2-english were not used when initializing TFDistilBertModel: ['dropout_19', 'pre_classifier', 'classifier']\n",
      "- This IS expected if you are initializing TFDistilBertModel from the checkpoint of a model trained on another task or with another architecture (e.g. initializing a BertForSequenceClassification model from a BertForPreTraining model).\n",
      "- This IS NOT expected if you are initializing TFDistilBertModel from the checkpoint of a model that you expect to be exactly identical (initializing a BertForSequenceClassification model from a BertForSequenceClassification model).\n",
      "All the layers of TFDistilBertModel were initialized from the model checkpoint at distilbert-base-uncased-finetuned-sst-2-english.\n",
      "If your task is similar to the task the model of the checkpoint was trained on, you can already use TFDistilBertModel for predictions without further training.\n",
      "Some layers from the model checkpoint at distilbert-base-uncased-finetuned-sst-2-english were not used when initializing TFDistilBertForSequenceClassification: ['dropout_19']\n",
      "- This IS expected if you are initializing TFDistilBertForSequenceClassification from the checkpoint of a model trained on another task or with another architecture (e.g. initializing a BertForSequenceClassification model from a BertForPreTraining model).\n",
      "- This IS NOT expected if you are initializing TFDistilBertForSequenceClassification from the checkpoint of a model that you expect to be exactly identical (initializing a BertForSequenceClassification model from a BertForSequenceClassification model).\n",
      "Some layers of TFDistilBertForSequenceClassification were not initialized from the model checkpoint at distilbert-base-uncased-finetuned-sst-2-english and are newly initialized: ['dropout_38']\n",
      "You should probably TRAIN this model on a down-stream task to be able to use it for predictions and inference.\n"
     ]
    },
    {
     "data": {
      "text/plain": [
       "-0.9782278537750244"
      ]
     },
     "execution_count": 23,
     "metadata": {},
     "output_type": "execute_result"
    }
   ],
   "source": [
    "# J's BERT sentiment scorer\n",
    "sent = pipeline('sentiment-analysis')\n",
    "\n",
    "# thanks to Gwen Rathgeber for error-handling conditionals\n",
    "def sent_scorer(df, i):\n",
    "    try:\n",
    "        score = 0\n",
    "        output = sent(df['notes'][i])\n",
    "        if output[0]['label'] == 'POSITIVE':\n",
    "            score = output[0]['score']\n",
    "        else:\n",
    "            score = (output[0]['score'] * -1)\n",
    "        return score\n",
    "    except:\n",
    "        return None\n",
    "sent_scorer(df, 5)"
   ]
  },
  {
   "cell_type": "code",
   "execution_count": 24,
   "metadata": {
    "ExecuteTime": {
     "end_time": "2021-02-20T02:52:43.038969Z",
     "start_time": "2021-02-20T02:52:43.027002Z"
    },
    "run_control": {
     "marked": true
    }
   },
   "outputs": [],
   "source": [
    "# J's tokernizer (WIP)\n",
    "def extract_tokens(max_i):\n",
    "    i = 0\n",
    "    note = df['notes'][i]\n",
    "    tokenized_note = word_tokenize(note.lower)\n",
    "    while i <= max_i:\n",
    "        print(tokenized_note)\n",
    "        i += 1"
   ]
  },
  {
   "cell_type": "markdown",
   "metadata": {},
   "source": [
    "## EDA"
   ]
  },
  {
   "cell_type": "code",
   "execution_count": 25,
   "metadata": {
    "ExecuteTime": {
     "end_time": "2021-02-20T02:52:43.054929Z",
     "start_time": "2021-02-20T02:52:43.041964Z"
    },
    "run_control": {
     "marked": true
    }
   },
   "outputs": [],
   "source": [
    "# pie_labels = 'beatings', 'killings', 'arrests', 'shootings', 'ignore', 'accomodation', 'crowd dispersal'\n",
    "# pie_sizes = [df['beatings'].value_counts()[1], \n",
    "#          df['killings'].value_counts()[1],\n",
    "#          df['arrests'].value_counts()[1], \n",
    "#          df['shootings'].value_counts()[1], \n",
    "#          df['ignore'].value_counts()[1],\n",
    "#          df['accomodation'].value_counts()[1],\n",
    "#          df['crowd dispersal'].value_counts()[1]]\n",
    "# pie_colors = ['red', 'gold', 'blue', 'yellowgreen', 'lightcoral', 'purple', 'lightskyblue']\n",
    "# explode = (0, 0, 0, 0, 0, 0.1, 0)  # explode 1st slice\n",
    "\n",
    "# plt.figure(figsize=(9,9))\n",
    "\n",
    "# plt.title('Proportion of State Responses', pad=14)\n",
    "\n",
    "# plt.pie(pie_sizes, explode=explode, labels=pie_labels, colors=pie_colors,\n",
    "# autopct='%1.1f%%', shadow=True, startangle=140)\n",
    "\n",
    "\n",
    "# plt.axis('equal')\n",
    "# plt.show()"
   ]
  },
  {
   "cell_type": "markdown",
   "metadata": {},
   "source": [
    "The chart below shows the total number of state responses by type.  This is proportionate to total number of responses, not total number of protests.  Any given protest may have recieved anywhere between 1 and 7 state responses."
   ]
  },
  {
   "cell_type": "code",
   "execution_count": 26,
   "metadata": {
    "ExecuteTime": {
     "end_time": "2021-02-20T02:52:43.472809Z",
     "start_time": "2021-02-20T02:52:43.057918Z"
    },
    "run_control": {
     "marked": true
    }
   },
   "outputs": [
    {
     "data": {
      "text/plain": [
       "<AxesSubplot:title={'center':'Proportion of State Responses'}>"
      ]
     },
     "execution_count": 26,
     "metadata": {},
     "output_type": "execute_result"
    },
    {
     "data": {
      "image/png": "[encoded data removed]",
      "text/plain": [
       "<Figure size 864x576 with 1 Axes>"
      ]
     },
     "metadata": {},
     "output_type": "display_data"
    }
   ],
   "source": [
    "bar_labels = ['beatings', 'killings', 'arrests', 'shootings', 'ignore', 'accomodation', 'crowd dispersal']\n",
    "bar_sizes = [df['beatings'].value_counts()[1], \n",
    "         df['killings'].value_counts()[1],\n",
    "         df['arrests'].value_counts()[1], \n",
    "         df['shootings'].value_counts()[1], \n",
    "         df['ignore'].value_counts()[1],\n",
    "         df['accomodation'].value_counts()[1],\n",
    "         df['crowd dispersal'].value_counts()[1]]\n",
    "\n",
    "\n",
    "bar_colors = ['red', 'gold', 'blue', 'yellowgreen', 'lightcoral', 'purple', 'lightskyblue']\n",
    "\n",
    "plt.figure(figsize=(12,8))\n",
    "\n",
    "plt.title('Proportion of State Responses', pad=14)\n",
    "\n",
    "sns.barplot(x=bar_labels, y=bar_sizes, palette=sns.color_palette(['red', 'gold', 'blue', 'yellowgreen', 'lightcoral', 'purple', 'lightskyblue'])\n",
    ")"
   ]
  },
  {
   "cell_type": "markdown",
   "metadata": {},
   "source": [
    "The pie chart below shows final responses, by protest.  This chart is relative to the total number of protests, only recording one state response (the final, sequentially).\n",
    "\n",
    "Note that the most significant response (killings, accomodations) may not always be the final one."
   ]
  },
  {
   "cell_type": "code",
   "execution_count": 27,
   "metadata": {
    "ExecuteTime": {
     "end_time": "2021-02-20T02:52:43.924603Z",
     "start_time": "2021-02-20T02:52:43.475800Z"
    },
    "run_control": {
     "marked": true
    }
   },
   "outputs": [
    {
     "data": {
      "image/png": "[encoded data removed]",
      "text/plain": [
       "<Figure size 648x648 with 1 Axes>"
      ]
     },
     "metadata": {},
     "output_type": "display_data"
    }
   ],
   "source": [
    "fin_labels = ['ignore', 'crowd dispersal', 'arrests', 'accomodation',\n",
    "'shootings', 'beatings', 'killings']\n",
    "fin_vals = df['final'].value_counts()[0:7]\n",
    "\n",
    "pie_colors = ['red', 'gold', 'blue', 'yellowgreen', 'lightcoral', 'purple', 'lightskyblue']\n",
    "explode = (0, 0, 0, 0.1, 0, 0, 0)  # explode 1st slice\n",
    "\n",
    "plt.figure(figsize=(9,9))\n",
    "\n",
    "plt.title('Final State Responses as Porportion of All Protests')\n",
    "\n",
    "plt.pie(fin_vals, explode=explode, labels=fin_labels, colors=pie_colors,\n",
    "autopct='%1.1f%%', shadow=True, startangle=140)\n",
    "plt.axis('equal')\n",
    "plt.show()"
   ]
  },
  {
   "cell_type": "markdown",
   "metadata": {},
   "source": [
    "The plots below illustrate the effect of protestor violence in several ways.  First, we see that overall, protests with higher participation tend to less often be violent.  However, protestor violence and total participation both correlate to higher chance of success."
   ]
  },
  {
   "cell_type": "code",
   "execution_count": 28,
   "metadata": {
    "ExecuteTime": {
     "end_time": "2021-02-20T02:52:44.843154Z",
     "start_time": "2021-02-20T02:52:43.928590Z"
    },
    "run_control": {
     "marked": true
    }
   },
   "outputs": [
    {
     "name": "stderr",
     "output_type": "stream",
     "text": [
      "C:\\Users\\catal\\anaconda3\\lib\\site-packages\\seaborn\\_decorators.py:36: FutureWarning: Pass the following variables as keyword args: x, y. From version 0.12, the only valid positional argument will be `data`, and passing other arguments without an explicit keyword will result in an error or misinterpretation.\n",
      "  warnings.warn(\n"
     ]
    },
    {
     "data": {
      "image/png": "[encoded data removed]",
      "text/plain": [
       "<Figure size 936x648 with 1 Axes>"
      ]
     },
     "metadata": {},
     "output_type": "display_data"
    }
   ],
   "source": [
    "# J's plot, succcess by number of participants & violence\n",
    "\n",
    "fig, ax = plt.subplots(figsize=(13,9))\n",
    "\n",
    "sns.lineplot('protesterviolence', 'participants', hue='accomodation',\n",
    "             markers=['o','o'],\n",
    "             dashes=[(1, 1), (5, 10)],\n",
    "             ax=ax,\n",
    "             data=df);"
   ]
  },
  {
   "cell_type": "code",
   "execution_count": 29,
   "metadata": {
    "ExecuteTime": {
     "end_time": "2021-02-20T02:52:45.504635Z",
     "start_time": "2021-02-20T02:52:44.847144Z"
    },
    "run_control": {
     "marked": true
    }
   },
   "outputs": [
    {
     "name": "stderr",
     "output_type": "stream",
     "text": [
      "C:\\Users\\catal\\anaconda3\\lib\\site-packages\\seaborn\\_decorators.py:36: FutureWarning: Pass the following variables as keyword args: x, y. From version 0.12, the only valid positional argument will be `data`, and passing other arguments without an explicit keyword will result in an error or misinterpretation.\n",
      "  warnings.warn(\n"
     ]
    },
    {
     "data": {
      "image/png": "[encoded data removed]",
      "text/plain": [
       "<Figure size 936x648 with 1 Axes>"
      ]
     },
     "metadata": {},
     "output_type": "display_data"
    }
   ],
   "source": [
    "# same plot, different way\n",
    "fig, ax = plt.subplots(figsize=(13,9))\n",
    "\n",
    "plt.title(\"Effect of Participation Numbers on Protestor Violence, and Rate of Success\")\n",
    "\n",
    "sns.barplot('protesterviolence', 'participants', hue='accomodation',\n",
    "             ax=ax,\n",
    "             data=df);"
   ]
  },
  {
   "cell_type": "markdown",
   "metadata": {},
   "source": [
    "While total participation is one of, if not the main predictor of success, the truth of this maxim does not hold constant in all cases.  Below we plot protest size year by year, stratified to show success and failure.  You can see that while there is a corresponding uptick in successful protests in years where participation spikes high, the actual rate of success is not much higher than we see in other \"good\" years without a particular spike in participation."
   ]
  },
  {
   "cell_type": "code",
   "execution_count": 30,
   "metadata": {
    "ExecuteTime": {
     "end_time": "2021-02-20T02:52:47.771425Z",
     "start_time": "2021-02-20T02:52:45.506627Z"
    },
    "run_control": {
     "marked": true
    }
   },
   "outputs": [
    {
     "name": "stderr",
     "output_type": "stream",
     "text": [
      "C:\\Users\\catal\\anaconda3\\lib\\site-packages\\seaborn\\_decorators.py:36: FutureWarning: Pass the following variables as keyword args: x, y. From version 0.12, the only valid positional argument will be `data`, and passing other arguments without an explicit keyword will result in an error or misinterpretation.\n",
      "  warnings.warn(\n"
     ]
    },
    {
     "data": {
      "image/png": "[encoded data removed]",
      "text/plain": [
       "<Figure size 936x648 with 1 Axes>"
      ]
     },
     "metadata": {},
     "output_type": "display_data"
    }
   ],
   "source": [
    "# J's plot overview of no. protests by year, participant count, and success/not\n",
    "fig, ax = plt.subplots(figsize=(13,9))\n",
    "\n",
    "plt.title(\"Protester Quantity & Success Rate by Year (1990-2020)\")\n",
    "\n",
    "sns.lineplot('year', 'participants', hue='accomodation',\n",
    "             markers=['o','o'],\n",
    "             dashes=[(1, 1), (5, 10)],\n",
    "             ax=ax,\n",
    "             data=df);"
   ]
  },
  {
   "cell_type": "markdown",
   "metadata": {},
   "source": [
    "When you realize that the dramatic spikes in participation of the early 90s and late 20-teens aren't particular outliers in terms of overall protest success, a subtler detail of this graph becomes very interesting.  One of the notable things here is a brief period, approximately 2003-2004, where about 50% of all protests actually succeeded in their aims -- almost as many successes as the peak year (2017) with only about a quarter the average participation.  \n",
    "\n",
    "Let's see if we can learn more about that."
   ]
  },
  {
   "cell_type": "code",
   "execution_count": 31,
   "metadata": {
    "ExecuteTime": {
     "end_time": "2021-02-20T02:52:47.801347Z",
     "start_time": "2021-02-20T02:52:47.773421Z"
    },
    "run_control": {
     "marked": true
    }
   },
   "outputs": [],
   "source": [
    "# J's feature extraction on early-mid aughts success rate\n",
    "successful = df['accomodation'] == 1\n",
    "year1 = df['year'] > 2002\n",
    "year2 = df['year'] < 2005\n",
    "mid_00s_successes = df.loc[successful & year1 & year2]"
   ]
  },
  {
   "cell_type": "code",
   "execution_count": 32,
   "metadata": {
    "ExecuteTime": {
     "end_time": "2021-02-20T02:52:47.817304Z",
     "start_time": "2021-02-20T02:52:47.803340Z"
    },
    "run_control": {
     "marked": true
    }
   },
   "outputs": [
    {
     "data": {
      "text/plain": [
       "92"
      ]
     },
     "execution_count": 32,
     "metadata": {},
     "output_type": "execute_result"
    }
   ],
   "source": [
    "mid_00s_successes['accomodation'].value_counts().sum()"
   ]
  },
  {
   "cell_type": "markdown",
   "metadata": {},
   "source": [
    "These are the countries that saw the most successful protests from 2003-2004."
   ]
  },
  {
   "cell_type": "code",
   "execution_count": 33,
   "metadata": {
    "ExecuteTime": {
     "end_time": "2021-02-20T02:52:48.160848Z",
     "start_time": "2021-02-20T02:52:47.819298Z"
    },
    "run_control": {
     "marked": true
    },
    "scrolled": true
   },
   "outputs": [
    {
     "data": {
      "text/plain": [
       "<AxesSubplot:>"
      ]
     },
     "execution_count": 33,
     "metadata": {},
     "output_type": "execute_result"
    },
    {
     "data": {
      "image/png": "[encoded data removed]",
      "text/plain": [
       "<Figure size 792x360 with 1 Axes>"
      ]
     },
     "metadata": {},
     "output_type": "display_data"
    }
   ],
   "source": [
    "mid_00s_successes['country'].value_counts().head(20).plot(kind='bar', figsize=(11,5))"
   ]
  },
  {
   "cell_type": "code",
   "execution_count": 34,
   "metadata": {
    "ExecuteTime": {
     "end_time": "2021-02-20T02:52:48.175836Z",
     "start_time": "2021-02-20T02:52:48.162842Z"
    },
    "run_control": {
     "marked": true
    }
   },
   "outputs": [],
   "source": [
    "# # J's drilldown on specific issues in top-reforming countries 2003-2004\n",
    "# korea_protests = mid_00s_successes.loc[(mid_00s_successes['country'] == 'South Korea')]\n",
    "# korea_notes = korea_protests['notes']\n",
    "# korea_notes.iloc[3]\n",
    "\n",
    "# taiwan_protests = mid_00s_successes.loc[(mid_00s_successes['country'] == 'Taiwan')]\n",
    "# taiwan_notes = taiwan_protests['notes']\n",
    "# taiwan_notes.iloc[0]\n",
    "\n",
    "# namib_protests = mid_00s_successes.loc[(mid_00s_successes['country'] == 'Namibia')]\n",
    "# namib_notes = namib_protests['notes']\n",
    "# namib_notes.iloc[3]\n",
    "\n",
    "# ireland_protests = mid_00s_successes.loc[(mid_00s_successes['country'] == 'Ireland')]\n",
    "# ireland_notes = ireland_protests['notes']\n",
    "# ireland_notes.iloc[2]\n",
    "\n",
    "# thai_protests = df.loc[(df['country'] == 'Thailand') & (df['accomodation'] == 1) & ((df['year'] > 2002) | (df['year'] < 2005))]\n",
    "# thai_notes = thai_protests['notes']\n",
    "# thai_notes.iloc[4]"
   ]
  },
  {
   "cell_type": "markdown",
   "metadata": {},
   "source": [
    "- Korean farmers vs. free trade agreement with Chile.  Strong rural opposition.\n",
    "- Disputed election in Taiwan\n",
    "- Namibia, drought relief, AIDS, women’s demonstration against rape, abuse, rampant drug addiction.\n",
    "- Ireland - “tractorcade”.  Participants: 2,000 tractors."
   ]
  },
  {
   "cell_type": "markdown",
   "metadata": {},
   "source": [
    "## Modeling"
   ]
  },
  {
   "cell_type": "markdown",
   "metadata": {},
   "source": [
    "### Baseline"
   ]
  },
  {
   "cell_type": "markdown",
   "metadata": {},
   "source": [
    "It is important to remember that only roughly 10% of all protests achieve government action to meet their demands.  We have unbalanced classes here, and any model that gives us 89.98% accuracy (or less) is no more accurate than assuming all protests will fail."
   ]
  },
  {
   "cell_type": "code",
   "execution_count": 35,
   "metadata": {
    "ExecuteTime": {
     "end_time": "2021-02-20T02:52:48.191765Z",
     "start_time": "2021-02-20T02:52:48.177799Z"
    },
    "run_control": {
     "marked": true
    }
   },
   "outputs": [
    {
     "data": {
      "text/plain": [
       "0    0.899822\n",
       "1    0.100178\n",
       "Name: accomodation, dtype: float64"
      ]
     },
     "execution_count": 35,
     "metadata": {},
     "output_type": "execute_result"
    }
   ],
   "source": [
    "df['accomodation'].value_counts(normalize = True)"
   ]
  },
  {
   "cell_type": "markdown",
   "metadata": {},
   "source": [
    "### A Note on Class Balance"
   ]
  },
  {
   "cell_type": "markdown",
   "metadata": {},
   "source": [
    "We tried balancing the classes both by applying a class_weight = balanced parameter, and then using SMOTE.  The former actually hurt our model slightly, and the gains with SMOTE were barely noteworthy."
   ]
  },
  {
   "cell_type": "markdown",
   "metadata": {},
   "source": [
    "### Logistic Regression"
   ]
  },
  {
   "cell_type": "markdown",
   "metadata": {},
   "source": [
    "We selected a Logistic Regression model as our primary modeling technique, in the interest of extracting interpretable coefficients.  \n",
    "\n",
    "Achieving predictive power was secondary, and yet we achieved 93.9% test accuracy with the LogReg model.\n",
    "\n",
    "A few other techniques may have offered slight improvements, but given the marginal gains we elected to focus on feature extraction and engineering to improve the LogReg."
   ]
  },
  {
   "cell_type": "code",
   "execution_count": 36,
   "metadata": {
    "ExecuteTime": {
     "end_time": "2021-02-20T02:52:48.207750Z",
     "start_time": "2021-02-20T02:52:48.193757Z"
    },
    "run_control": {
     "marked": true
    }
   },
   "outputs": [],
   "source": [
    "# Noah's Logistic Regression"
   ]
  },
  {
   "cell_type": "code",
   "execution_count": 37,
   "metadata": {
    "ExecuteTime": {
     "end_time": "2021-02-20T02:52:48.223679Z",
     "start_time": "2021-02-20T02:52:48.209714Z"
    },
    "run_control": {
     "marked": true
    }
   },
   "outputs": [],
   "source": [
    "features = ['participants','protestnumber','protesterviolence','ignore','crowd dispersal',\n",
    "     'arrests','shootings','beatings','killings','political behavior, process',\n",
    "     'labor wage dispute','price increases, tax policy','removal of politician',\n",
    "     'police brutality','land farm issue','social restrictions',\n",
    "     'net_migration_per_1000_population','mean_age',\n",
    "     'gdp_purchasing_power_global_rank','gdp_growth_global_rank','electricity_access_percent',\n",
    "     'electricity_generating_capacity_global_rank','internet_access_percent','cell_phone_per_100',\n",
    "     'natural_resources','language','govt_type']"
   ]
  },
  {
   "cell_type": "code",
   "execution_count": 38,
   "metadata": {
    "ExecuteTime": {
     "end_time": "2021-02-20T02:52:48.239634Z",
     "start_time": "2021-02-20T02:52:48.225671Z"
    },
    "run_control": {
     "marked": true
    }
   },
   "outputs": [],
   "source": [
    "X = world[features]\n",
    "y = world['accommodation']"
   ]
  },
  {
   "cell_type": "code",
   "execution_count": 39,
   "metadata": {
    "ExecuteTime": {
     "end_time": "2021-02-20T02:52:48.711371Z",
     "start_time": "2021-02-20T02:52:48.241630Z"
    },
    "run_control": {
     "marked": true
    }
   },
   "outputs": [],
   "source": [
    "X = pd.get_dummies(X, drop_first = True)\n",
    "\n",
    "X.fillna(X.mean(), inplace = True)"
   ]
  },
  {
   "cell_type": "code",
   "execution_count": 40,
   "metadata": {
    "ExecuteTime": {
     "end_time": "2021-02-20T02:52:48.836016Z",
     "start_time": "2021-02-20T02:52:48.713342Z"
    },
    "run_control": {
     "marked": true
    }
   },
   "outputs": [],
   "source": [
    "X_train, X_test, y_train, y_test = train_test_split(X, y, random_state = 28)"
   ]
  },
  {
   "cell_type": "code",
   "execution_count": 41,
   "metadata": {
    "ExecuteTime": {
     "end_time": "2021-02-20T02:52:49.241964Z",
     "start_time": "2021-02-20T02:52:48.838010Z"
    },
    "run_control": {
     "marked": true
    }
   },
   "outputs": [],
   "source": [
    "ss = StandardScaler()\n",
    "Xs_train = ss.fit_transform(X_train)\n",
    "Xs_test = ss.transform(X_test)"
   ]
  },
  {
   "cell_type": "code",
   "execution_count": 42,
   "metadata": {
    "ExecuteTime": {
     "end_time": "2021-02-20T02:52:49.257890Z",
     "start_time": "2021-02-20T02:52:49.243924Z"
    },
    "run_control": {
     "marked": true
    }
   },
   "outputs": [],
   "source": [
    "logreg = LogisticRegression(solver = 'liblinear')"
   ]
  },
  {
   "cell_type": "code",
   "execution_count": 43,
   "metadata": {
    "ExecuteTime": {
     "end_time": "2021-02-20T02:52:58.430809Z",
     "start_time": "2021-02-20T02:52:49.259882Z"
    },
    "run_control": {
     "marked": true
    }
   },
   "outputs": [
    {
     "data": {
      "text/plain": [
       "LogisticRegression(solver='liblinear')"
      ]
     },
     "execution_count": 43,
     "metadata": {},
     "output_type": "execute_result"
    }
   ],
   "source": [
    "logreg.fit(Xs_train, y_train)"
   ]
  },
  {
   "cell_type": "code",
   "execution_count": 44,
   "metadata": {
    "ExecuteTime": {
     "end_time": "2021-02-20T02:52:58.477655Z",
     "start_time": "2021-02-20T02:52:58.433772Z"
    },
    "run_control": {
     "marked": true
    }
   },
   "outputs": [
    {
     "data": {
      "text/plain": [
       "(0.9497981393715991, 0.9323506185838378)"
      ]
     },
     "execution_count": 44,
     "metadata": {},
     "output_type": "execute_result"
    }
   ],
   "source": [
    "logreg.score(Xs_train, y_train), logreg.score(Xs_test, y_test)"
   ]
  },
  {
   "cell_type": "code",
   "execution_count": 45,
   "metadata": {
    "ExecuteTime": {
     "end_time": "2021-02-20T02:52:58.492650Z",
     "start_time": "2021-02-20T02:52:58.480647Z"
    },
    "run_control": {
     "marked": true
    }
   },
   "outputs": [],
   "source": [
    "preds = logreg.predict(Xs_test)"
   ]
  },
  {
   "cell_type": "code",
   "execution_count": 46,
   "metadata": {
    "ExecuteTime": {
     "end_time": "2021-02-20T02:52:58.740635Z",
     "start_time": "2021-02-20T02:52:58.495639Z"
    },
    "run_control": {
     "marked": true
    }
   },
   "outputs": [
    {
     "name": "stdout",
     "output_type": "stream",
     "text": [
      "              precision    recall  f1-score   support\n",
      "\n",
      "     Failure       0.94      0.99      0.96      3405\n",
      "     Success       0.79      0.47      0.59       394\n",
      "\n",
      "    accuracy                           0.93      3799\n",
      "   macro avg       0.87      0.73      0.78      3799\n",
      "weighted avg       0.93      0.93      0.92      3799\n",
      "\n"
     ]
    },
    {
     "data": {
      "image/png": "[encoded data removed]",
      "text/plain": [
       "<Figure size 432x288 with 2 Axes>"
      ]
     },
     "metadata": {},
     "output_type": "display_data"
    }
   ],
   "source": [
    "evaluation(y_test, preds)"
   ]
  },
  {
   "cell_type": "markdown",
   "metadata": {},
   "source": [
    "#### The Good:\n",
    "- ~94% Accuracy\n",
    "- 79% precision - not a lot of false positives.\n",
    "- This suits our aims - we'd rather be right when we believe a protest is going to succeed than over-predict success.\n",
    "\n",
    "#### The Bad:\n",
    "- 50/50 on correctly predicting true positives.\n",
    "- more false negatives than true positives.\n",
    "- our model's predictions are overly-conservative\n",
    "\n",
    "While it would be nice to have a more precise model, predictive power is not our sole goal here.  Since Amnesty International does not have unlimited resources, predicting roughly half of the movements that need our attention is quite serviceable."
   ]
  },
  {
   "cell_type": "markdown",
   "metadata": {},
   "source": [
    "### RNN\n",
    "\n",
    "We ran an RNN on the protest data testing the hypothesis that previous recent protests might affect the outcome of the current one. That doesn't appear to be the case given the model's results (although it is slightly better than the baseline.)"
   ]
  },
  {
   "cell_type": "code",
   "execution_count": 47,
   "metadata": {
    "ExecuteTime": {
     "end_time": "2021-02-20T02:52:58.755594Z",
     "start_time": "2021-02-20T02:52:58.742630Z"
    },
    "run_control": {
     "marked": true
    }
   },
   "outputs": [],
   "source": [
    "# David's RNN"
   ]
  },
  {
   "cell_type": "code",
   "execution_count": 48,
   "metadata": {
    "ExecuteTime": {
     "end_time": "2021-02-20T02:52:58.771553Z",
     "start_time": "2021-02-20T02:52:58.758588Z"
    },
    "run_control": {
     "marked": true
    }
   },
   "outputs": [],
   "source": [
    "df['year'] = pd.to_datetime(df['year'])"
   ]
  },
  {
   "cell_type": "code",
   "execution_count": 49,
   "metadata": {
    "ExecuteTime": {
     "end_time": "2021-02-20T02:52:58.803500Z",
     "start_time": "2021-02-20T02:52:58.774558Z"
    },
    "run_control": {
     "marked": true
    }
   },
   "outputs": [],
   "source": [
    "df.set_index('year', inplace=True)\n",
    "df.sort_index(inplace=True)"
   ]
  },
  {
   "cell_type": "code",
   "execution_count": 50,
   "metadata": {
    "ExecuteTime": {
     "end_time": "2021-02-20T02:52:58.819426Z",
     "start_time": "2021-02-20T02:52:58.805476Z"
    },
    "run_control": {
     "marked": true
    }
   },
   "outputs": [],
   "source": [
    "nn_X = df.drop(columns=['climate', 'natural_resources', 'population_distribution', 'net_migration_per_1000_population','language', 'legal_system',  'accomodation', 'country', 'location', 'participants', 'protesteridentity', 'sources', 'notes', 'final', 'electricity_generating_capacity_global_rank', 'transnational_disputes', 'military_spending_annual_percent_gdp'])\n",
    "nn_y = df['accomodation']"
   ]
  },
  {
   "cell_type": "code",
   "execution_count": 51,
   "metadata": {
    "ExecuteTime": {
     "end_time": "2021-02-20T02:52:58.851373Z",
     "start_time": "2021-02-20T02:52:58.821419Z"
    },
    "run_control": {
     "marked": true
    }
   },
   "outputs": [
    {
     "data": {
      "text/plain": [
       "(Timestamp('1970-01-01 00:00:00.000002014'),\n",
       " Timestamp('1970-01-01 00:00:00.000002014'))"
      ]
     },
     "execution_count": 51,
     "metadata": {},
     "output_type": "execute_result"
    }
   ],
   "source": [
    "nn_X_train, nn_X_test, nn_y_train, nn_y_test = train_test_split(nn_X, nn_y, shuffle=False, random_state=12)\n",
    "nn_X_train.index[-1], nn_X_test.index[0]"
   ]
  },
  {
   "cell_type": "code",
   "execution_count": 52,
   "metadata": {
    "ExecuteTime": {
     "end_time": "2021-02-20T02:52:58.915168Z",
     "start_time": "2021-02-20T02:52:58.854331Z"
    },
    "run_control": {
     "marked": true
    }
   },
   "outputs": [],
   "source": [
    "ss = StandardScaler()\n",
    "nn_X_train_sc = ss.fit_transform(nn_X_train)\n",
    "nn_X_test_sc = ss.transform(nn_X_test)"
   ]
  },
  {
   "cell_type": "code",
   "execution_count": 53,
   "metadata": {
    "ExecuteTime": {
     "end_time": "2021-02-20T02:52:58.930130Z",
     "start_time": "2021-02-20T02:52:58.917165Z"
    },
    "run_control": {
     "marked": true
    }
   },
   "outputs": [],
   "source": [
    "train_sequences = TimeseriesGenerator(nn_X_train_sc, nn_y_train, length=3, batch_size=64)\n",
    "test_sequences = TimeseriesGenerator(nn_X_test_sc, nn_y_test, length=3, batch_size=64)"
   ]
  },
  {
   "cell_type": "code",
   "execution_count": 54,
   "metadata": {
    "ExecuteTime": {
     "end_time": "2021-02-20T02:54:13.586352Z",
     "start_time": "2021-02-20T02:52:58.933122Z"
    },
    "run_control": {
     "marked": true
    }
   },
   "outputs": [],
   "source": [
    "input_shape = train_sequences[0][0][0].shape\n",
    "\n",
    "model1 = Sequential()\n",
    "model1.add(GRU(128, input_shape=input_shape, return_sequences=True)) # True if next layer is RNN\n",
    "model1.add(GRU(64, return_sequences=False))                         # False if next layer is Dense\n",
    "model1.add(Dense(32, activation='relu'))\n",
    "model1.add(Dense(8, activation='relu'))\n",
    "model1.add(Dense(1, activation='sigmoid'))\n",
    "\n",
    "model1.compile(optimizer = Adam(lr=0.0005), loss='binary_crossentropy', metrics=['acc', ])\n",
    "\n",
    "history = model1.fit(train_sequences, validation_data=test_sequences, batch_size=64, epochs=50, verbose=0)"
   ]
  },
  {
   "cell_type": "code",
   "execution_count": 55,
   "metadata": {
    "ExecuteTime": {
     "end_time": "2021-02-20T02:54:13.850645Z",
     "start_time": "2021-02-20T02:54:13.588347Z"
    },
    "run_control": {
     "marked": true
    }
   },
   "outputs": [
    {
     "data": {
      "image/png": "[encoded data removed]",
      "text/plain": [
       "<Figure size 432x288 with 1 Axes>"
      ]
     },
     "metadata": {},
     "output_type": "display_data"
    }
   ],
   "source": [
    "plt.plot(history.history['acc'], label='Train Accuracy')\n",
    "plt.plot(history.history['val_acc'], label='Test Accuracy')\n",
    "plt.title('RNN Training vs Testing Accuracy:\\nProtest Accomodations\\n', fontsize=18)\n",
    "plt.legend();"
   ]
  },
  {
   "cell_type": "code",
   "execution_count": 56,
   "metadata": {
    "ExecuteTime": {
     "end_time": "2021-02-20T02:54:33.366339Z",
     "start_time": "2021-02-20T02:54:13.852643Z"
    },
    "run_control": {
     "marked": true
    }
   },
   "outputs": [
    {
     "name": "stdout",
     "output_type": "stream",
     "text": [
      "Epoch 1/50\n",
      "178/178 [==============================] - 10s 20ms/step - loss: nan - acc: 0.8860 - val_loss: nan - val_acc: 0.9125\n",
      "Epoch 2/50\n",
      "178/178 [==============================] - 2s 11ms/step - loss: nan - acc: 0.8986 - val_loss: nan - val_acc: 0.9125\n",
      "Epoch 3/50\n",
      "178/178 [==============================] - 2s 11ms/step - loss: nan - acc: 0.8933 - val_loss: nan - val_acc: 0.9125\n",
      "Epoch 4/50\n",
      "178/178 [==============================] - 2s 11ms/step - loss: nan - acc: 0.8965 - val_loss: nan - val_acc: 0.9125\n",
      "Epoch 5/50\n",
      "178/178 [==============================] - 2s 11ms/step - loss: nan - acc: 0.8984 - val_loss: nan - val_acc: 0.9125\n"
     ]
    }
   ],
   "source": [
    "model2 = Sequential()\n",
    "model2.add(GRU(128, input_shape=input_shape, return_sequences=True)) # True if next layer is RNN\n",
    "model2.add(GRU(64, return_sequences=True))\n",
    "model2.add(GRU(32, return_sequences=False)) # False if next layer is Dense\n",
    "model2.add(Dense(32, activation='relu'))\n",
    "model2.add(Dense(16, activation='relu'))\n",
    "model2.add(Dense(8, activation='relu'))\n",
    "model2.add(Dense(1, activation='sigmoid'))\n",
    "\n",
    "model2.compile(optimizer='adam', loss='binary_crossentropy', metrics=['acc'])\n",
    "\n",
    "es = EarlyStopping(patience = 5)\n",
    "\n",
    "history2 = model2.fit(train_sequences, validation_data=test_sequences, epochs=50, batch_size=64, callbacks = [es], verbose=True)"
   ]
  },
  {
   "cell_type": "code",
   "execution_count": 57,
   "metadata": {
    "ExecuteTime": {
     "end_time": "2021-02-20T02:54:33.677526Z",
     "start_time": "2021-02-20T02:54:33.369352Z"
    },
    "run_control": {
     "marked": true
    }
   },
   "outputs": [
    {
     "data": {
      "image/png": "[encoded data removed]",
      "text/plain": [
       "<Figure size 432x288 with 1 Axes>"
      ]
     },
     "metadata": {},
     "output_type": "display_data"
    }
   ],
   "source": [
    "plt.plot(history2.history['acc'], label='Train Accuracy')\n",
    "plt.plot(history2.history['val_acc'], label='Test Accuracy')\n",
    "plt.title('RNN Training vs Testing Accuracy:\\nProtest Accomodations\\n', fontsize=18)\n",
    "plt.legend();"
   ]
  },
  {
   "cell_type": "markdown",
   "metadata": {},
   "source": [
    "### K-means Clustering"
   ]
  },
  {
   "cell_type": "markdown",
   "metadata": {},
   "source": [
    "In addition to predictive modeling, we hoped to extract additional insights from the data via unsupervised learning.  K-means clustering showed an interesting trend between overall participation in protests and the mean_age of a given country.  \n",
    "\n",
    "Broadly speaking, smaller and less successful protests are a feature of countries with a younger population, mainly the teens-twenties age range.  As the mean_age of the country increases, there tend to be fewer protests, *but* they tend to be larger and more successful.\n",
    "\n",
    "However, at the high end of the scale, the mean_age trends back toward the overall median, simply due to the larger sample size.  The largest protests are the ones that do not particularly correlate to age."
   ]
  },
  {
   "cell_type": "code",
   "execution_count": 58,
   "metadata": {
    "ExecuteTime": {
     "end_time": "2021-02-20T02:54:33.693482Z",
     "start_time": "2021-02-20T02:54:33.679520Z"
    },
    "run_control": {
     "marked": true
    }
   },
   "outputs": [],
   "source": [
    "# J's Kmeans clustering"
   ]
  },
  {
   "cell_type": "code",
   "execution_count": 59,
   "metadata": {
    "ExecuteTime": {
     "end_time": "2021-02-20T02:54:33.709440Z",
     "start_time": "2021-02-20T02:54:33.695480Z"
    },
    "run_control": {
     "marked": true
    }
   },
   "outputs": [],
   "source": [
    "X_kmeans = df.loc[:, ['mean_age', 'participants']]"
   ]
  },
  {
   "cell_type": "code",
   "execution_count": 60,
   "metadata": {
    "ExecuteTime": {
     "end_time": "2021-02-20T02:54:33.724402Z",
     "start_time": "2021-02-20T02:54:33.711435Z"
    },
    "run_control": {
     "marked": true
    }
   },
   "outputs": [],
   "source": [
    "ss = StandardScaler()\n",
    "Xs_kmeans = ss.fit_transform(X_kmeans)"
   ]
  },
  {
   "cell_type": "code",
   "execution_count": 61,
   "metadata": {
    "ExecuteTime": {
     "end_time": "2021-02-20T02:54:34.142282Z",
     "start_time": "2021-02-20T02:54:33.726394Z"
    },
    "run_control": {
     "marked": true
    }
   },
   "outputs": [
    {
     "data": {
      "text/plain": [
       "KMeans(n_clusters=6, n_init=25, random_state=42, tol=0.001)"
      ]
     },
     "execution_count": 61,
     "metadata": {},
     "output_type": "execute_result"
    }
   ],
   "source": [
    "kmeans = KMeans(6, random_state=42, n_init=25, tol=0.001)\n",
    "kmeans.fit(Xs_kmeans)"
   ]
  },
  {
   "cell_type": "code",
   "execution_count": 62,
   "metadata": {
    "ExecuteTime": {
     "end_time": "2021-02-20T02:54:34.157242Z",
     "start_time": "2021-02-20T02:54:34.144276Z"
    },
    "run_control": {
     "marked": true
    }
   },
   "outputs": [
    {
     "data": {
      "text/plain": [
       "array([[-1.30311064e+00, -9.44284024e-02],\n",
       "       [ 1.10358626e+00, -5.09227260e-02],\n",
       "       [ 5.40271841e-01,  1.44341154e+01],\n",
       "       [-2.62581111e-02,  3.02132589e+01],\n",
       "       [-1.71071532e-01, -6.14366393e-02],\n",
       "       [ 4.81457970e-01,  3.97708176e+00]])"
      ]
     },
     "execution_count": 62,
     "metadata": {},
     "output_type": "execute_result"
    }
   ],
   "source": [
    "kmeans.cluster_centers_"
   ]
  },
  {
   "cell_type": "code",
   "execution_count": 63,
   "metadata": {
    "ExecuteTime": {
     "end_time": "2021-02-20T02:54:34.187161Z",
     "start_time": "2021-02-20T02:54:34.159236Z"
    },
    "run_control": {
     "marked": true
    }
   },
   "outputs": [
    {
     "data": {
      "text/html": [
       "<div>\n",
       "<style scoped>\n",
       "    .dataframe tbody tr th:only-of-type {\n",
       "        vertical-align: middle;\n",
       "    }\n",
       "\n",
       "    .dataframe tbody tr th {\n",
       "        vertical-align: top;\n",
       "    }\n",
       "\n",
       "    .dataframe thead th {\n",
       "        text-align: right;\n",
       "    }\n",
       "</style>\n",
       "<table border=\"1\" class=\"dataframe\">\n",
       "  <thead>\n",
       "    <tr style=\"text-align: right;\">\n",
       "      <th></th>\n",
       "      <th>mean_age</th>\n",
       "      <th>participants</th>\n",
       "    </tr>\n",
       "  </thead>\n",
       "  <tbody>\n",
       "    <tr>\n",
       "      <th>0</th>\n",
       "      <td>24.610261</td>\n",
       "      <td>5.430930e+03</td>\n",
       "    </tr>\n",
       "    <tr>\n",
       "      <th>1</th>\n",
       "      <td>39.457562</td>\n",
       "      <td>1.324643e+04</td>\n",
       "    </tr>\n",
       "    <tr>\n",
       "      <th>2</th>\n",
       "      <td>35.982385</td>\n",
       "      <td>2.615385e+06</td>\n",
       "    </tr>\n",
       "    <tr>\n",
       "      <th>3</th>\n",
       "      <td>32.487370</td>\n",
       "      <td>5.450000e+06</td>\n",
       "    </tr>\n",
       "    <tr>\n",
       "      <th>4</th>\n",
       "      <td>31.593993</td>\n",
       "      <td>1.135767e+04</td>\n",
       "    </tr>\n",
       "    <tr>\n",
       "      <th>5</th>\n",
       "      <td>35.619552</td>\n",
       "      <td>7.368499e+05</td>\n",
       "    </tr>\n",
       "  </tbody>\n",
       "</table>\n",
       "</div>"
      ],
      "text/plain": [
       "    mean_age  participants\n",
       "0  24.610261  5.430930e+03\n",
       "1  39.457562  1.324643e+04\n",
       "2  35.982385  2.615385e+06\n",
       "3  32.487370  5.450000e+06\n",
       "4  31.593993  1.135767e+04\n",
       "5  35.619552  7.368499e+05"
      ]
     },
     "execution_count": 63,
     "metadata": {},
     "output_type": "execute_result"
    }
   ],
   "source": [
    "centroids = pd.DataFrame(\n",
    "    ss.inverse_transform(kmeans.cluster_centers_),\n",
    "    columns= ['mean_age', 'participants']\n",
    ")\n",
    "centroids"
   ]
  },
  {
   "cell_type": "code",
   "execution_count": 64,
   "metadata": {
    "ExecuteTime": {
     "end_time": "2021-02-20T02:54:34.203119Z",
     "start_time": "2021-02-20T02:54:34.189156Z"
    },
    "run_control": {
     "marked": true
    }
   },
   "outputs": [],
   "source": [
    "df['cluster'] = kmeans.labels_"
   ]
  },
  {
   "cell_type": "code",
   "execution_count": 65,
   "metadata": {
    "ExecuteTime": {
     "end_time": "2021-02-20T02:54:35.500466Z",
     "start_time": "2021-02-20T02:54:34.205114Z"
    },
    "run_control": {
     "marked": true
    }
   },
   "outputs": [
    {
     "data": {
      "text/plain": [
       "''"
      ]
     },
     "execution_count": 65,
     "metadata": {},
     "output_type": "execute_result"
    },
    {
     "data": {
      "text/plain": [
       "<Figure size 648x648 with 0 Axes>"
      ]
     },
     "metadata": {},
     "output_type": "display_data"
    },
    {
     "data": {
      "image/png": "[encoded data removed]",
      "text/plain": [
       "<Figure size 720x576 with 1 Axes>"
      ]
     },
     "metadata": {},
     "output_type": "display_data"
    }
   ],
   "source": [
    "plt.figure(figsize=(9,9));\n",
    "\n",
    "## Plot scatter by cluster / color, and centroids\n",
    "colors = [\"red\", \"green\", \"blue\", \"yellow\", \"orange\", \"purple\"]\n",
    "df['color'] = df['cluster'].map(lambda p: colors[p])\n",
    "\n",
    "ax = df.plot(\n",
    "    kind=\"scatter\", \n",
    "    x=\"mean_age\", y=\"participants\",\n",
    "    figsize=(10,8),\n",
    "    c = df['color'], \n",
    "    alpha=0.2,\n",
    "    logy = True\n",
    ")\n",
    "\n",
    "centroids.plot(\n",
    "    kind=\"scatter\", \n",
    "    x=\"mean_age\", y=\"participants\", \n",
    "    marker=\"*\", c=[\"r\", \"g\", \"b\", \"yellow\", \"orange\", \"purple\"], s=550,\n",
    "    ax=ax,\n",
    ")\n",
    "\n",
    "plt.xticks(range(20, 50, 5))\n",
    ";"
   ]
  },
  {
   "cell_type": "markdown",
   "metadata": {},
   "source": [
    "### Sentiment Analysis"
   ]
  },
  {
   "cell_type": "code",
   "execution_count": 66,
   "metadata": {
    "ExecuteTime": {
     "end_time": "2021-02-20T02:54:35.516391Z",
     "start_time": "2021-02-20T02:54:35.508412Z"
    },
    "run_control": {
     "marked": true
    }
   },
   "outputs": [],
   "source": [
    "sent_scores = []"
   ]
  },
  {
   "cell_type": "code",
   "execution_count": 67,
   "metadata": {
    "ExecuteTime": {
     "end_time": "2021-02-20T03:41:30.445815Z",
     "start_time": "2021-02-20T02:54:35.519383Z"
    },
    "run_control": {
     "marked": true
    }
   },
   "outputs": [
    {
     "name": "stderr",
     "output_type": "stream",
     "text": [
      "Token indices sequence length is longer than the specified maximum sequence length for this model (765 > 512). Running this sequence through the model will result in indexing errors\n"
     ]
    }
   ],
   "source": [
    "# takes 35+ minutes to run, execute at your own risk\n",
    "for i in range(len(df)):\n",
    "    sent_scores.append(sent_scorer(df, i))"
   ]
  },
  {
   "cell_type": "code",
   "execution_count": 68,
   "metadata": {
    "ExecuteTime": {
     "end_time": "2021-02-20T03:41:30.461772Z",
     "start_time": "2021-02-20T03:41:30.448807Z"
    },
    "run_control": {
     "marked": true
    }
   },
   "outputs": [],
   "source": [
    "df['sent_score'] = sent_scores"
   ]
  },
  {
   "cell_type": "code",
   "execution_count": 78,
   "metadata": {
    "ExecuteTime": {
     "end_time": "2021-02-20T03:51:43.833386Z",
     "start_time": "2021-02-20T03:47:01.235245Z"
    },
    "run_control": {
     "marked": true
    }
   },
   "outputs": [
    {
     "data": {
      "text/plain": [
       "<AxesSubplot:title={'center':'Proportion of State Responses'}, xlabel='participants'>"
      ]
     },
     "execution_count": 78,
     "metadata": {},
     "output_type": "execute_result"
    },
    {
     "data": {
      "image/png": "[encoded data removed]",
      "text/plain": [
       "<Figure size 864x576 with 1 Axes>"
      ]
     },
     "metadata": {},
     "output_type": "display_data"
    }
   ],
   "source": [
    "# not working\n",
    "#\n",
    "# # Sentiment Scores by Region\n",
    "# region_labels = ['Asia', 'Central America', 'Europe', 'MENA', 'N. America', 'Oceania', 'S. America']\n",
    "# regions = [df['region_Asia'].value_counts()[1], \n",
    "#          df['region_Central America'].value_counts()[1],\n",
    "#          df['region_Europe'].value_counts()[1], \n",
    "#          df['region_MENA'].value_counts()[1], \n",
    "#          df['region_North America'].value_counts()[1],\n",
    "#          df['region_Oceania'].value_counts()[1],\n",
    "#          df['region_South America'].value_counts()[1]]\n",
    "\n",
    "# plt.figure(figsize=(12,8))\n",
    "\n",
    "# plt.title('Proportion of State Responses', pad=14)\n",
    "\n",
    "# sns.barplot(x=df['participants'], y=sent_scores, palette=sns.color_palette(['red', 'gold', 'blue', 'yellowgreen', 'lightcoral', 'purple', 'lightskyblue'])\n",
    "# )"
   ]
  },
  {
   "cell_type": "markdown",
   "metadata": {},
   "source": [
    "### Word2Vec"
   ]
  },
  {
   "cell_type": "code",
   "execution_count": null,
   "metadata": {
    "run_control": {
     "marked": true
    }
   },
   "outputs": [],
   "source": [
    "# To Be Continued..."
   ]
  },
  {
   "cell_type": "markdown",
   "metadata": {},
   "source": [
    "## Modeling Results"
   ]
  },
  {
   "cell_type": "code",
   "execution_count": null,
   "metadata": {
    "ExecuteTime": {
     "end_time": "2021-02-20T03:41:30.493688Z",
     "start_time": "2021-02-20T02:52:23.083Z"
    },
    "run_control": {
     "marked": true
    }
   },
   "outputs": [],
   "source": [
    "# initial and regional top and bottom 15 analysis done by Noah"
   ]
  },
  {
   "cell_type": "code",
   "execution_count": null,
   "metadata": {
    "ExecuteTime": {
     "end_time": "2021-02-20T03:41:30.495682Z",
     "start_time": "2021-02-20T02:52:23.087Z"
    },
    "run_control": {
     "marked": true
    }
   },
   "outputs": [],
   "source": [
    "feature_names = pd.DataFrame(X_train.columns, columns = ['Feature'])\n",
    "log_coef = pd.DataFrame(np.transpose(logreg.coef_), columns = ['Coefficient'])\n",
    "coef_df = pd.concat([feature_names, log_coef], axis = 1)\n",
    "\n",
    "coef_df['absolute_coef'] = abs(coef_df['Coefficient'])\n",
    "\n",
    "coef_df.set_index('Feature')\n",
    "\n",
    "coef_df['exp_coefficient'] = np.exp(coef_df['Coefficient'])"
   ]
  },
  {
   "cell_type": "code",
   "execution_count": null,
   "metadata": {
    "ExecuteTime": {
     "end_time": "2021-02-20T03:41:30.496679Z",
     "start_time": "2021-02-20T02:52:23.091Z"
    },
    "run_control": {
     "marked": true
    }
   },
   "outputs": [],
   "source": [
    "top_15 = coef_df.sort_values(by = 'exp_coefficient', ascending = False)[:15]"
   ]
  },
  {
   "cell_type": "code",
   "execution_count": null,
   "metadata": {
    "ExecuteTime": {
     "end_time": "2021-02-20T03:41:30.497677Z",
     "start_time": "2021-02-20T02:52:23.095Z"
    },
    "run_control": {
     "marked": true
    }
   },
   "outputs": [],
   "source": [
    "regions = [africa, asia, cen_am, europe, mena, nor_am, oceania, sou_am, world]"
   ]
  },
  {
   "cell_type": "code",
   "execution_count": null,
   "metadata": {
    "ExecuteTime": {
     "end_time": "2021-02-20T03:41:30.499672Z",
     "start_time": "2021-02-20T02:52:23.099Z"
    },
    "run_control": {
     "marked": true
    }
   },
   "outputs": [],
   "source": [
    "for i in range(len(regions)):\n",
    "    regions[i]['participants'] = regions[i]['participants'].map(part_dic)"
   ]
  },
  {
   "cell_type": "code",
   "execution_count": null,
   "metadata": {
    "ExecuteTime": {
     "end_time": "2021-02-20T03:41:30.500670Z",
     "start_time": "2021-02-20T02:52:23.104Z"
    },
    "run_control": {
     "marked": true
    }
   },
   "outputs": [],
   "source": [
    "sns.set(rc = {'figure.figsize':(10,10)})\n",
    "sns.barplot(x = top_15['exp_coefficient'],\n",
    "           y = top_15['Feature'],\n",
    "           palette = 'crest')\n",
    "plt.title('top 15 most beneficial protest features (worldwide)');"
   ]
  },
  {
   "cell_type": "code",
   "execution_count": null,
   "metadata": {
    "ExecuteTime": {
     "end_time": "2021-02-20T03:41:30.501672Z",
     "start_time": "2021-02-20T02:52:23.108Z"
    },
    "run_control": {
     "marked": true
    }
   },
   "outputs": [],
   "source": [
    "bottom_15 = coef_df.sort_values(by = 'exp_coefficient', ascending = True)[:15]"
   ]
  },
  {
   "cell_type": "code",
   "execution_count": null,
   "metadata": {
    "ExecuteTime": {
     "end_time": "2021-02-20T03:41:30.503661Z",
     "start_time": "2021-02-20T02:52:23.112Z"
    },
    "run_control": {
     "marked": true
    }
   },
   "outputs": [],
   "source": [
    "sns.set(rc = {'figure.figsize':(10,10)})\n",
    "sns.barplot(x = bottom_15['exp_coefficient'],\n",
    "           y = bottom_15['Feature'],\n",
    "           palette = 'rocket')\n",
    "plt.title('top 15 most detrimental protest features (worldwide)');"
   ]
  },
  {
   "cell_type": "code",
   "execution_count": null,
   "metadata": {
    "ExecuteTime": {
     "end_time": "2021-02-20T03:41:30.504658Z",
     "start_time": "2021-02-20T02:52:23.116Z"
    },
    "run_control": {
     "marked": true
    }
   },
   "outputs": [],
   "source": [
    "# I have no clue why but I could not get this to work in a for loop.\n",
    "\n",
    "africa['mean_age'] = 0\n",
    "for i in range(0, africa.shape[0]):\n",
    "    africa['mean_age'][i] = ((africa['age_0_14_percent'][i] / 100) * 7) + ((africa['age_15_24_percent'][i] / 100) * 19) + ((africa['age_25_54_percent'][i] / 100) * 39) + ((africa['age_55_64_percent'][i] / 100) * 59)+ ((africa['age_65_over_percent'][i] / 100) * 71);\n",
    "\n",
    "asia['mean_age'] = 0\n",
    "for i in range(0, asia.shape[0]):\n",
    "    asia['mean_age'][i] = ((asia['age_0_14_percent'][i] / 100) * 7) + ((asia['age_15_24_percent'][i] / 100) * 19) + ((asia['age_25_54_percent'][i] / 100) * 39) + ((asia['age_55_64_percent'][i] / 100) * 59)+ ((asia['age_65_over_percent'][i] / 100) * 71);\n",
    "\n",
    "cen_am['mean_age'] = 0\n",
    "for i in range(0, cen_am.shape[0]):\n",
    "    cen_am['mean_age'][i] = ((cen_am['age_0_14_percent'][i] / 100) * 7) + ((cen_am['age_15_24_percent'][i] / 100) * 19) + ((cen_am['age_25_54_percent'][i] / 100) * 39) + ((cen_am['age_55_64_percent'][i] / 100) * 59)+ ((cen_am['age_65_over_percent'][i] / 100) * 71);\n",
    "\n",
    "europe['mean_age'] = 0\n",
    "for i in range(0, europe.shape[0]):\n",
    "    europe['mean_age'][i] = ((europe['age_0_14_percent'][i] / 100) * 7) + ((europe['age_15_24_percent'][i] / 100) * 19) + ((europe['age_25_54_percent'][i] / 100) * 39) + ((europe['age_55_64_percent'][i] / 100) * 59)+ ((europe['age_65_over_percent'][i] / 100) * 71);\n",
    "\n",
    "mena['mean_age'] = 0\n",
    "for i in range(0, mena.shape[0]):\n",
    "    mena['mean_age'][i] = ((mena['age_0_14_percent'][i] / 100) * 7) + ((mena['age_15_24_percent'][i] / 100) * 19) + ((mena['age_25_54_percent'][i] / 100) * 39) + ((mena['age_55_64_percent'][i] / 100) * 59)+ ((mena['age_65_over_percent'][i] / 100) * 71);\n",
    "\n",
    "nor_am['mean_age'] = 0\n",
    "for i in range(0, nor_am.shape[0]):\n",
    "    nor_am['mean_age'][i] = ((nor_am['age_0_14_percent'][i] / 100) * 7) + ((nor_am['age_15_24_percent'][i] / 100) * 19) + ((nor_am['age_25_54_percent'][i] / 100) * 39) + ((nor_am['age_55_64_percent'][i] / 100) * 59)+ ((nor_am['age_65_over_percent'][i] / 100) * 71);\n",
    "\n",
    "oceania['mean_age'] = 0\n",
    "for i in range(0, oceania.shape[0]):\n",
    "    oceania['mean_age'][i] = ((oceania['age_0_14_percent'][i] / 100) * 7) + ((oceania['age_15_24_percent'][i] / 100) * 19) + ((oceania['age_25_54_percent'][i] / 100) * 39) + ((oceania['age_55_64_percent'][i] / 100) * 59)+ ((oceania['age_65_over_percent'][i] / 100) * 71);\n",
    "\n",
    "sou_am['mean_age'] = 0\n",
    "for i in range(0, sou_am.shape[0]):\n",
    "    sou_am['mean_age'][i] = ((sou_am['age_0_14_percent'][i] / 100) * 7) + ((sou_am['age_15_24_percent'][i] / 100) * 19) + ((sou_am['age_25_54_percent'][i] / 100) * 39) + ((sou_am['age_55_64_percent'][i] / 100) * 59)+ ((sou_am['age_65_over_percent'][i] / 100) * 71);"
   ]
  },
  {
   "cell_type": "markdown",
   "metadata": {},
   "source": [
    "### Region: Africa"
   ]
  },
  {
   "cell_type": "code",
   "execution_count": null,
   "metadata": {
    "ExecuteTime": {
     "end_time": "2021-02-20T03:41:30.506653Z",
     "start_time": "2021-02-20T02:52:23.121Z"
    },
    "run_control": {
     "marked": true
    }
   },
   "outputs": [],
   "source": [
    "X = africa[features]\n",
    "y = africa['accommodation']\n",
    "\n",
    "X = pd.get_dummies(X, drop_first = True)\n",
    "X.fillna(X.mean(), inplace = True)\n",
    "\n",
    "X_train, X_test, y_train, y_test = train_test_split(X, y, random_state = 28, stratify = y)\n",
    "\n",
    "ss = StandardScaler()\n",
    "Xs_train = ss.fit_transform(X_train)\n",
    "Xs_test = ss.transform(X_test)\n",
    "\n",
    "logreg = LogisticRegression(solver = 'liblinear')\n",
    "logreg.fit(Xs_train, y_train)\n",
    "print(f'Africa: {logreg.score(Xs_train, y_train), logreg.score(Xs_test, y_test)}')\n",
    "\n",
    "feature_names = pd.DataFrame(X_train.columns, columns = ['Feature'])\n",
    "log_coef = pd.DataFrame(np.transpose(logreg.coef_), columns = ['Coefficient'])\n",
    "coef_df = pd.concat([feature_names, log_coef], axis = 1)\n",
    "\n",
    "coef_df['absolute_coef'] = abs(coef_df['Coefficient'])\n",
    "\n",
    "coef_df.set_index('Feature')\n",
    "\n",
    "coef_df['exp_coefficient'] = np.exp(coef_df['Coefficient'])\n",
    "\n",
    "top_15 = coef_df.sort_values(by = 'exp_coefficient', ascending = False)[:15]\n",
    "bottom_15 = coef_df.sort_values(by = 'exp_coefficient', ascending = True)[:15]\n",
    "\n",
    "sns.set(rc = {'figure.figsize':(10,10)})\n",
    "sns.barplot(x = top_15['exp_coefficient'],\n",
    "           y = top_15['Feature'],\n",
    "           palette = 'crest')\n",
    "plt.title('top 15 most beneficial protest features (africa)');"
   ]
  },
  {
   "cell_type": "code",
   "execution_count": null,
   "metadata": {
    "ExecuteTime": {
     "end_time": "2021-02-20T03:41:30.507652Z",
     "start_time": "2021-02-20T02:52:23.125Z"
    },
    "run_control": {
     "marked": true
    }
   },
   "outputs": [],
   "source": [
    "sns.set(rc = {'figure.figsize':(10,10)})\n",
    "sns.barplot(x = bottom_15['exp_coefficient'],\n",
    "           y = bottom_15['Feature'],\n",
    "           palette = 'rocket')\n",
    "plt.title('top 15 most detrimental protest features (Africa)');"
   ]
  },
  {
   "cell_type": "markdown",
   "metadata": {},
   "source": [
    "### Region: Asia"
   ]
  },
  {
   "cell_type": "code",
   "execution_count": null,
   "metadata": {
    "ExecuteTime": {
     "end_time": "2021-02-20T03:41:30.509646Z",
     "start_time": "2021-02-20T02:52:23.130Z"
    },
    "run_control": {
     "marked": true
    }
   },
   "outputs": [],
   "source": [
    "def too_long(string):\n",
    "    if len(string) >= 45:\n",
    "        return string[:45]"
   ]
  },
  {
   "cell_type": "code",
   "execution_count": null,
   "metadata": {
    "ExecuteTime": {
     "end_time": "2021-02-20T03:41:30.510642Z",
     "start_time": "2021-02-20T02:52:23.135Z"
    },
    "run_control": {
     "marked": true
    }
   },
   "outputs": [],
   "source": [
    "asia['govt_type'].value_counts()"
   ]
  },
  {
   "cell_type": "code",
   "execution_count": null,
   "metadata": {
    "ExecuteTime": {
     "end_time": "2021-02-20T03:41:30.511639Z",
     "start_time": "2021-02-20T02:52:23.140Z"
    },
    "run_control": {
     "marked": true
    }
   },
   "outputs": [],
   "source": [
    "string = 'federal parliamentary constitutional monarchy\\nnote: all Peninsular Malaysian states have hereditary rulers (commonly referred to as sultans) except Melaka (Malacca) and Pulau Pinang (Penang); those two states along with Sabah and Sarawak in East Malaysia have governors appointed by government; powers of state governments are limited by the federal constitution; under terms of federation, Sabah and Sarawak retain certain constitutional prerogatives (e.g., right to maintain their own immigration controls) 148 parliamentary constitutional monarchy' "
   ]
  },
  {
   "cell_type": "code",
   "execution_count": null,
   "metadata": {
    "ExecuteTime": {
     "end_time": "2021-02-20T03:41:30.512637Z",
     "start_time": "2021-02-20T02:52:23.144Z"
    },
    "run_control": {
     "marked": true
    }
   },
   "outputs": [],
   "source": [
    "len(string.split())"
   ]
  },
  {
   "cell_type": "code",
   "execution_count": null,
   "metadata": {
    "ExecuteTime": {
     "end_time": "2021-02-20T03:41:30.514632Z",
     "start_time": "2021-02-20T02:52:23.149Z"
    },
    "run_control": {
     "marked": true
    }
   },
   "outputs": [],
   "source": [
    "X = asia[features]\n",
    "y = asia['accommodation']\n",
    "\n",
    "X = pd.get_dummies(X, drop_first = True)\n",
    "X.fillna(X.mean(), inplace = True)\n",
    "\n",
    "X_train, X_test, y_train, y_test = train_test_split(X, y, random_state = 28, stratify = y)\n",
    "\n",
    "ss = StandardScaler()\n",
    "Xs_train = ss.fit_transform(X_train)\n",
    "Xs_test = ss.transform(X_test)\n",
    "\n",
    "logreg = LogisticRegression(solver = 'liblinear')\n",
    "logreg.fit(Xs_train, y_train)\n",
    "print(f'asia: {logreg.score(Xs_train, y_train), logreg.score(Xs_test, y_test)}')\n",
    "\n",
    "feature_names = pd.DataFrame(X_train.columns, columns = ['Feature'])\n",
    "log_coef = pd.DataFrame(np.transpose(logreg.coef_), columns = ['Coefficient'])\n",
    "coef_df = pd.concat([feature_names, log_coef], axis = 1)\n",
    "\n",
    "coef_df['absolute_coef'] = abs(coef_df['Coefficient'])\n",
    "\n",
    "coef_df.set_index('Feature')\n",
    "\n",
    "coef_df['exp_coefficient'] = np.exp(coef_df['Coefficient'])\n",
    "\n",
    "top_15 = coef_df.sort_values(by = 'exp_coefficient', ascending = False)[:15]\n",
    "bottom_15 = coef_df.sort_values(by = 'exp_coefficient', ascending = True)[:15]\n",
    "\n",
    "sns.set(rc = {'figure.figsize':(10,10)})\n",
    "sns.barplot(x = top_15['exp_coefficient'],\n",
    "           y = top_15['Feature'],\n",
    "           palette = 'crest')\n",
    "plt.title('top 15 most beneficial protest features (asia)');"
   ]
  },
  {
   "cell_type": "code",
   "execution_count": null,
   "metadata": {
    "ExecuteTime": {
     "end_time": "2021-02-20T03:41:30.515630Z",
     "start_time": "2021-02-20T02:52:23.153Z"
    },
    "run_control": {
     "marked": true
    }
   },
   "outputs": [],
   "source": [
    "sns.set(rc = {'figure.figsize':(10,10)})\n",
    "sns.barplot(x = bottom_15['exp_coefficient'],\n",
    "           y = bottom_15['Feature'],\n",
    "           palette = 'rocket')\n",
    "\n",
    "plt.title('top 15 most detrimental protest features (Asia)');"
   ]
  },
  {
   "cell_type": "markdown",
   "metadata": {},
   "source": [
    "### Region: Central America"
   ]
  },
  {
   "cell_type": "code",
   "execution_count": null,
   "metadata": {
    "ExecuteTime": {
     "end_time": "2021-02-20T03:41:30.517624Z",
     "start_time": "2021-02-20T02:52:23.158Z"
    },
    "run_control": {
     "marked": true
    }
   },
   "outputs": [],
   "source": [
    "X = cen_am[features]\n",
    "y = cen_am['accommodation']\n",
    "\n",
    "X = pd.get_dummies(X, drop_first = True)\n",
    "X.fillna(X.mean(), inplace = True)\n",
    "\n",
    "X_train, X_test, y_train, y_test = train_test_split(X, y, random_state = 28, stratify = y)\n",
    "\n",
    "ss = StandardScaler()\n",
    "Xs_train = ss.fit_transform(X_train)\n",
    "Xs_test = ss.transform(X_test)\n",
    "\n",
    "logreg = LogisticRegression(solver = 'liblinear')\n",
    "logreg.fit(Xs_train, y_train)\n",
    "print(f'cen_am: {logreg.score(Xs_train, y_train), logreg.score(Xs_test, y_test)}')\n",
    "\n",
    "feature_names = pd.DataFrame(X_train.columns, columns = ['Feature'])\n",
    "log_coef = pd.DataFrame(np.transpose(logreg.coef_), columns = ['Coefficient'])\n",
    "coef_df = pd.concat([feature_names, log_coef], axis = 1)\n",
    "\n",
    "coef_df['absolute_coef'] = abs(coef_df['Coefficient'])\n",
    "\n",
    "coef_df.set_index('Feature')\n",
    "\n",
    "coef_df['exp_coefficient'] = np.exp(coef_df['Coefficient'])\n",
    "\n",
    "top_15 = coef_df.sort_values(by = 'exp_coefficient', ascending = False)[:15]\n",
    "bottom_15 = coef_df.sort_values(by = 'exp_coefficient', ascending = True)[:15]\n",
    "\n",
    "sns.set(rc = {'figure.figsize':(10,10)})\n",
    "sns.barplot(x = top_15['exp_coefficient'],\n",
    "           y = top_15['Feature'],\n",
    "           palette = 'crest')\n",
    "plt.title('top 15 most beneficial protest features (cen_am)');"
   ]
  },
  {
   "cell_type": "code",
   "execution_count": null,
   "metadata": {
    "ExecuteTime": {
     "end_time": "2021-02-20T03:41:30.518622Z",
     "start_time": "2021-02-20T02:52:23.162Z"
    },
    "run_control": {
     "marked": true
    }
   },
   "outputs": [],
   "source": [
    "sns.set(rc = {'figure.figsize':(10,10)})\n",
    "sns.barplot(x = bottom_15['exp_coefficient'],\n",
    "           y = bottom_15['Feature'],\n",
    "           palette = 'rocket')\n",
    "\n",
    "plt.title('top 15 most detrimental protest features (cen_am)');"
   ]
  },
  {
   "cell_type": "markdown",
   "metadata": {},
   "source": [
    "### Region: Europe"
   ]
  },
  {
   "cell_type": "code",
   "execution_count": null,
   "metadata": {
    "ExecuteTime": {
     "end_time": "2021-02-20T03:41:30.519618Z",
     "start_time": "2021-02-20T02:52:23.168Z"
    },
    "run_control": {
     "marked": true
    }
   },
   "outputs": [],
   "source": [
    "X = europe[features]\n",
    "y = europe['accommodation']\n",
    "\n",
    "X = pd.get_dummies(X, drop_first = True)\n",
    "X.fillna(X.mean(), inplace = True)\n",
    "\n",
    "X_train, X_test, y_train, y_test = train_test_split(X, y, random_state = 28, stratify = y)\n",
    "\n",
    "ss = StandardScaler()\n",
    "Xs_train = ss.fit_transform(X_train)\n",
    "Xs_test = ss.transform(X_test)\n",
    "\n",
    "logreg = LogisticRegression(solver = 'liblinear')\n",
    "logreg.fit(Xs_train, y_train)\n",
    "print(f'europe: {logreg.score(Xs_train, y_train), logreg.score(Xs_test, y_test)}')\n",
    "\n",
    "feature_names = pd.DataFrame(X_train.columns, columns = ['Feature'])\n",
    "log_coef = pd.DataFrame(np.transpose(logreg.coef_), columns = ['Coefficient'])\n",
    "coef_df = pd.concat([feature_names, log_coef], axis = 1)\n",
    "\n",
    "coef_df['absolute_coef'] = abs(coef_df['Coefficient'])\n",
    "\n",
    "coef_df.set_index('Feature')\n",
    "\n",
    "coef_df['exp_coefficient'] = np.exp(coef_df['Coefficient'])\n",
    "\n",
    "top_15 = coef_df.sort_values(by = 'exp_coefficient', ascending = False)[:15]\n",
    "bottom_15 = coef_df.sort_values(by = 'exp_coefficient', ascending = True)[:15]\n",
    "\n",
    "sns.set(rc = {'figure.figsize':(10,10)})\n",
    "sns.barplot(x = top_15['exp_coefficient'],\n",
    "           y = top_15['Feature'],\n",
    "           palette = 'crest')\n",
    "plt.title('top 15 most beneficial protest features (europe)');"
   ]
  },
  {
   "cell_type": "code",
   "execution_count": null,
   "metadata": {
    "ExecuteTime": {
     "end_time": "2021-02-20T03:41:30.521613Z",
     "start_time": "2021-02-20T02:52:23.174Z"
    },
    "run_control": {
     "marked": true
    }
   },
   "outputs": [],
   "source": [
    "sns.set(rc = {'figure.figsize':(10,10)})\n",
    "sns.barplot(x = bottom_15['exp_coefficient'],\n",
    "           y = bottom_15['Feature'],\n",
    "           palette = 'rocket')\n",
    "\n",
    "plt.title('top 15 most detrimental protest features (europe)');"
   ]
  },
  {
   "cell_type": "markdown",
   "metadata": {},
   "source": [
    "### Region: ME-NA (Middle-East, North Africa)"
   ]
  },
  {
   "cell_type": "code",
   "execution_count": null,
   "metadata": {
    "ExecuteTime": {
     "end_time": "2021-02-20T03:41:30.522611Z",
     "start_time": "2021-02-20T02:52:23.181Z"
    },
    "run_control": {
     "marked": true
    }
   },
   "outputs": [],
   "source": [
    "X = mena[features]\n",
    "y = mena['accommodation']\n",
    "\n",
    "X = pd.get_dummies(X, drop_first = True)\n",
    "X.fillna(X.mean(), inplace = True)\n",
    "\n",
    "X_train, X_test, y_train, y_test = train_test_split(X, y, random_state = 28, stratify = y)\n",
    "\n",
    "ss = StandardScaler()\n",
    "Xs_train = ss.fit_transform(X_train)\n",
    "Xs_test = ss.transform(X_test)\n",
    "\n",
    "logreg = LogisticRegression(solver = 'liblinear')\n",
    "logreg.fit(Xs_train, y_train)\n",
    "print(f'mena: {logreg.score(Xs_train, y_train), logreg.score(Xs_test, y_test)}')\n",
    "\n",
    "feature_names = pd.DataFrame(X_train.columns, columns = ['Feature'])\n",
    "log_coef = pd.DataFrame(np.transpose(logreg.coef_), columns = ['Coefficient'])\n",
    "coef_df = pd.concat([feature_names, log_coef], axis = 1)\n",
    "\n",
    "coef_df['absolute_coef'] = abs(coef_df['Coefficient'])\n",
    "\n",
    "coef_df.set_index('Feature')\n",
    "\n",
    "coef_df['exp_coefficient'] = np.exp(coef_df['Coefficient'])\n",
    "\n",
    "top_15 = coef_df.sort_values(by = 'exp_coefficient', ascending = False)[:15]\n",
    "bottom_15 = coef_df.sort_values(by = 'exp_coefficient', ascending = True)[:15]\n",
    "\n",
    "sns.set(rc = {'figure.figsize':(10,10)})\n",
    "sns.barplot(x = top_15['exp_coefficient'],\n",
    "           y = top_15['Feature'],\n",
    "           palette = 'crest')\n",
    "plt.title('top 15 most beneficial protest features (mena)');"
   ]
  },
  {
   "cell_type": "code",
   "execution_count": null,
   "metadata": {
    "ExecuteTime": {
     "end_time": "2021-02-20T03:41:30.524606Z",
     "start_time": "2021-02-20T02:52:23.185Z"
    },
    "run_control": {
     "marked": true
    }
   },
   "outputs": [],
   "source": [
    "sns.set(rc = {'figure.figsize':(10,10)})\n",
    "sns.barplot(x = bottom_15['exp_coefficient'],\n",
    "           y = bottom_15['Feature'],\n",
    "           palette = 'rocket')\n",
    "\n",
    "plt.title('top 15 most detrimental protest features (mena)');"
   ]
  },
  {
   "cell_type": "markdown",
   "metadata": {},
   "source": [
    "### Region: North America"
   ]
  },
  {
   "cell_type": "code",
   "execution_count": null,
   "metadata": {
    "ExecuteTime": {
     "end_time": "2021-02-20T03:41:30.525606Z",
     "start_time": "2021-02-20T02:52:23.191Z"
    },
    "run_control": {
     "marked": true
    }
   },
   "outputs": [],
   "source": [
    "X = nor_am[features]\n",
    "y = nor_am['accommodation']\n",
    "\n",
    "X = pd.get_dummies(X, drop_first = True)\n",
    "X.fillna(X.mean(), inplace = True)\n",
    "\n",
    "X_train, X_test, y_train, y_test = train_test_split(X, y, random_state = 28, stratify = y)\n",
    "\n",
    "ss = StandardScaler()\n",
    "Xs_train = ss.fit_transform(X_train)\n",
    "Xs_test = ss.transform(X_test)\n",
    "\n",
    "logreg = LogisticRegression(solver = 'liblinear')\n",
    "logreg.fit(Xs_train, y_train)\n",
    "print(f'nor_ama: {logreg.score(Xs_train, y_train), logreg.score(Xs_test, y_test)}')\n",
    "\n",
    "feature_names = pd.DataFrame(X_train.columns, columns = ['Feature'])\n",
    "log_coef = pd.DataFrame(np.transpose(logreg.coef_), columns = ['Coefficient'])\n",
    "coef_df = pd.concat([feature_names, log_coef], axis = 1)\n",
    "\n",
    "coef_df['absolute_coef'] = abs(coef_df['Coefficient'])\n",
    "\n",
    "coef_df.set_index('Feature')\n",
    "\n",
    "coef_df['exp_coefficient'] = np.exp(coef_df['Coefficient'])\n",
    "\n",
    "top_15 = coef_df.sort_values(by = 'exp_coefficient', ascending = False)[:15]\n",
    "bottom_15 = coef_df.sort_values(by = 'exp_coefficient', ascending = True)[:15]\n",
    "\n",
    "sns.set(rc = {'figure.figsize':(10,10)})\n",
    "sns.barplot(x = top_15['exp_coefficient'],\n",
    "           y = top_15['Feature'],\n",
    "           palette = 'crest')\n",
    "plt.title('top 15 most beneficial protest features (nor_am)');"
   ]
  },
  {
   "cell_type": "code",
   "execution_count": null,
   "metadata": {
    "ExecuteTime": {
     "end_time": "2021-02-20T03:41:30.526599Z",
     "start_time": "2021-02-20T02:52:23.196Z"
    },
    "run_control": {
     "marked": true
    }
   },
   "outputs": [],
   "source": [
    "sns.set(rc = {'figure.figsize':(10,10)})\n",
    "sns.barplot(x = bottom_15['exp_coefficient'],\n",
    "           y = bottom_15['Feature'],\n",
    "           palette = 'rocket')\n",
    "\n",
    "plt.title('top 15 most detrimental protest features (north america)');"
   ]
  },
  {
   "cell_type": "markdown",
   "metadata": {},
   "source": [
    "### Region: Oceania"
   ]
  },
  {
   "cell_type": "code",
   "execution_count": null,
   "metadata": {
    "ExecuteTime": {
     "end_time": "2021-02-20T03:41:30.528595Z",
     "start_time": "2021-02-20T02:52:23.201Z"
    },
    "run_control": {
     "marked": true
    }
   },
   "outputs": [],
   "source": [
    "X = oceania[features]\n",
    "y = oceania['accommodation']\n",
    "\n",
    "X = pd.get_dummies(X, drop_first = True)\n",
    "X.fillna(X.mean(), inplace = True)\n",
    "\n",
    "X_train, X_test, y_train, y_test = train_test_split(X, y, random_state = 28, stratify = y)\n",
    "\n",
    "ss = StandardScaler()\n",
    "Xs_train = ss.fit_transform(X_train)\n",
    "Xs_test = ss.transform(X_test)\n",
    "\n",
    "logreg = LogisticRegression(solver = 'liblinear')\n",
    "logreg.fit(Xs_train, y_train)\n",
    "print(f'oceania: {logreg.score(Xs_train, y_train), logreg.score(Xs_test, y_test)}')\n",
    "\n",
    "feature_names = pd.DataFrame(X_train.columns, columns = ['Feature'])\n",
    "log_coef = pd.DataFrame(np.transpose(logreg.coef_), columns = ['Coefficient'])\n",
    "coef_df = pd.concat([feature_names, log_coef], axis = 1)\n",
    "\n",
    "coef_df['absolute_coef'] = abs(coef_df['Coefficient'])\n",
    "\n",
    "coef_df.set_index('Feature')\n",
    "\n",
    "coef_df['exp_coefficient'] = np.exp(coef_df['Coefficient'])\n",
    "\n",
    "top_15 = coef_df.sort_values(by = 'exp_coefficient', ascending = False)[:15]\n",
    "bottom_15 = coef_df.sort_values(by = 'exp_coefficient', ascending = True)[:15]\n",
    "\n",
    "sns.set(rc = {'figure.figsize':(10,10)})\n",
    "sns.barplot(x = top_15['exp_coefficient'],\n",
    "           y = top_15['Feature'],\n",
    "           palette = 'crest')\n",
    "plt.title('top 15 most beneficial protest features (oceania)');"
   ]
  },
  {
   "cell_type": "code",
   "execution_count": null,
   "metadata": {
    "ExecuteTime": {
     "end_time": "2021-02-20T03:41:30.529591Z",
     "start_time": "2021-02-20T02:52:23.206Z"
    },
    "run_control": {
     "marked": true
    }
   },
   "outputs": [],
   "source": [
    "sns.set(rc = {'figure.figsize':(10,10)})\n",
    "sns.barplot(x = bottom_15['exp_coefficient'],\n",
    "           y = bottom_15['Feature'],\n",
    "           palette = 'rocket')\n",
    "\n",
    "plt.title('top 15 most detrimental protest features (oceania)');"
   ]
  },
  {
   "cell_type": "markdown",
   "metadata": {},
   "source": [
    "### Region: South America"
   ]
  },
  {
   "cell_type": "code",
   "execution_count": null,
   "metadata": {
    "ExecuteTime": {
     "end_time": "2021-02-20T03:41:30.530589Z",
     "start_time": "2021-02-20T02:52:23.211Z"
    },
    "run_control": {
     "marked": true
    }
   },
   "outputs": [],
   "source": [
    "X = sou_am[features]\n",
    "y = sou_am['accommodation']\n",
    "\n",
    "X = pd.get_dummies(X, drop_first = True)\n",
    "X.fillna(X.mean(), inplace = True)\n",
    "\n",
    "X_train, X_test, y_train, y_test = train_test_split(X, y, random_state = 28, stratify = y)\n",
    "\n",
    "ss = StandardScaler()\n",
    "Xs_train = ss.fit_transform(X_train)\n",
    "Xs_test = ss.transform(X_test)\n",
    "\n",
    "logreg = LogisticRegression(solver = 'liblinear')\n",
    "logreg.fit(Xs_train, y_train)\n",
    "print(f'sou_am: {logreg.score(Xs_train, y_train), logreg.score(Xs_test, y_test)}')\n",
    "\n",
    "feature_names = pd.DataFrame(X_train.columns, columns = ['Feature'])\n",
    "log_coef = pd.DataFrame(np.transpose(logreg.coef_), columns = ['Coefficient'])\n",
    "coef_df = pd.concat([feature_names, log_coef], axis = 1)\n",
    "\n",
    "coef_df['absolute_coef'] = abs(coef_df['Coefficient'])\n",
    "\n",
    "coef_df.set_index('Feature')\n",
    "\n",
    "coef_df['exp_coefficient'] = np.exp(coef_df['Coefficient'])\n",
    "\n",
    "top_15 = coef_df.sort_values(by = 'exp_coefficient', ascending = False)[:15]\n",
    "bottom_15 = coef_df.sort_values(by = 'exp_coefficient', ascending = True)[:15]\n",
    "\n",
    "sns.set(rc = {'figure.figsize':(10,10)})\n",
    "sns.barplot(x = top_15['exp_coefficient'],\n",
    "           y = top_15['Feature'],\n",
    "           palette = 'crest')\n",
    "plt.title('top 15 most beneficial protest features (sou_am)');"
   ]
  },
  {
   "cell_type": "code",
   "execution_count": null,
   "metadata": {
    "ExecuteTime": {
     "end_time": "2021-02-20T03:41:30.532584Z",
     "start_time": "2021-02-20T02:52:23.217Z"
    },
    "run_control": {
     "marked": true
    }
   },
   "outputs": [],
   "source": [
    "sns.set(rc = {'figure.figsize':(10,10)})\n",
    "sns.barplot(x = bottom_15['exp_coefficient'],\n",
    "           y = bottom_15['Feature'],\n",
    "           palette = 'rocket')\n",
    "\n",
    "plt.title('top 15 most detrimental protest features (south america)');"
   ]
  },
  {
   "cell_type": "markdown",
   "metadata": {},
   "source": [
    "## Predicting and Preventing State Violence"
   ]
  },
  {
   "cell_type": "code",
   "execution_count": null,
   "metadata": {
    "ExecuteTime": {
     "end_time": "2021-02-20T03:41:30.533581Z",
     "start_time": "2021-02-20T02:52:23.224Z"
    },
    "run_control": {
     "marked": true
    }
   },
   "outputs": [],
   "source": [
    "new_features = [item for item in features if item != 'killings']"
   ]
  },
  {
   "cell_type": "code",
   "execution_count": null,
   "metadata": {
    "ExecuteTime": {
     "end_time": "2021-02-20T03:41:30.534578Z",
     "start_time": "2021-02-20T02:52:23.229Z"
    },
    "run_control": {
     "marked": true
    }
   },
   "outputs": [],
   "source": [
    "new_features.append('accommodation')"
   ]
  },
  {
   "cell_type": "code",
   "execution_count": null,
   "metadata": {
    "ExecuteTime": {
     "end_time": "2021-02-20T03:41:30.535575Z",
     "start_time": "2021-02-20T02:52:23.233Z"
    },
    "run_control": {
     "marked": true
    }
   },
   "outputs": [],
   "source": [
    "X = world[new_features]\n",
    "y = world['killings']\n",
    "\n",
    "X = pd.get_dummies(X, drop_first = True)\n",
    "X.fillna(X.mean(), inplace = True)\n",
    "\n",
    "X_train, X_test, y_train, y_test = train_test_split(X, y, random_state = 28, stratify = y)\n",
    "\n",
    "ss = StandardScaler()\n",
    "Xs_train = ss.fit_transform(X_train)\n",
    "Xs_test = ss.transform(X_test)\n",
    "\n",
    "logreg = LogisticRegression(solver = 'liblinear')\n",
    "logreg.fit(Xs_train, y_train)\n",
    "print(f'world: {logreg.score(Xs_train, y_train), logreg.score(Xs_test, y_test)}')\n",
    "\n",
    "feature_names = pd.DataFrame(X_train.columns, columns = ['Feature'])\n",
    "log_coef = pd.DataFrame(np.transpose(logreg.coef_), columns = ['Coefficient'])\n",
    "coef_df = pd.concat([feature_names, log_coef], axis = 1)\n",
    "\n",
    "coef_df['absolute_coef'] = abs(coef_df['Coefficient'])\n",
    "\n",
    "coef_df.set_index('Feature')\n",
    "\n",
    "coef_df['exp_coefficient'] = np.exp(coef_df['Coefficient'])\n",
    "\n",
    "top_15 = coef_df.sort_values(by = 'exp_coefficient', ascending = False)[:15]\n",
    "bottom_15 = coef_df.sort_values(by = 'exp_coefficient', ascending = True)[:15]\n",
    "\n",
    "sns.set(rc = {'figure.figsize':(10,10)})\n",
    "sns.barplot(x = top_15['exp_coefficient'],\n",
    "           y = top_15['Feature'],\n",
    "           palette = 'magma')\n",
    "plt.title('top 15 features which lead to killings (world)');"
   ]
  },
  {
   "cell_type": "code",
   "execution_count": null,
   "metadata": {
    "ExecuteTime": {
     "end_time": "2021-02-20T03:41:30.537570Z",
     "start_time": "2021-02-20T02:52:23.238Z"
    },
    "run_control": {
     "marked": true
    }
   },
   "outputs": [],
   "source": [
    "sns.set(rc = {'figure.figsize':(10,10)})\n",
    "sns.barplot(x = bottom_15['exp_coefficient'],\n",
    "           y = bottom_15['Feature'],\n",
    "           palette = 'viridis')\n",
    "\n",
    "plt.title('top 15 features which deter killings (worldwide)');"
   ]
  },
  {
   "cell_type": "markdown",
   "metadata": {},
   "source": [
    "## Conclusions and Recommendations"
   ]
  },
  {
   "cell_type": "markdown",
   "metadata": {},
   "source": [
    "#### Natural Resources & Language of a country are strong indicators of success\n",
    "- This highlights the fact that many of the bitterest and most determined protests are in impoverished, post-colonial nations still suffering from a long history of economic exploitation, and often dictatorial governments."
   ]
  },
  {
   "cell_type": "markdown",
   "metadata": {},
   "source": [
    "#### Government responses have a strong chilling effect\n",
    "- Arrests and Crowd Dispersal both have\n",
    "- By far the best thing a government can do is if they want to suppress a protest is ignore it.\n",
    "- The above is likely more an indication of the low effectiveness of the protest than the government's actions."
   ]
  },
  {
   "cell_type": "markdown",
   "metadata": {},
   "source": [
    "#### The factors in protest success are very distinct in different regions\n",
    "- Many outliers within regions are post-colonial countries, standing out based on a particular natural resource or language.\n",
    "- GDP growth, availability of electricity, and cell phones per capita were the most consistent factors across regions."
   ]
  }
 ],
 "metadata": {
  "kernelspec": {
   "display_name": "Python 3",
   "language": "python",
   "name": "python3"
  },
  "language_info": {
   "codemirror_mode": {
    "name": "ipython",
    "version": 3
   },
   "file_extension": ".py",
   "mimetype": "text/x-python",
   "name": "python",
   "nbconvert_exporter": "python",
   "pygments_lexer": "ipython3",
   "version": "3.8.5"
  },
  "toc": {
   "base_numbering": 1,
   "nav_menu": {},
   "number_sections": false,
   "sideBar": true,
   "skip_h1_title": false,
   "title_cell": "Table of Contents",
   "title_sidebar": "Contents",
   "toc_cell": false,
   "toc_position": {
    "height": "calc(100% - 180px)",
    "left": "10px",
    "top": "150px",
    "width": "384px"
   },
   "toc_section_display": true,
   "toc_window_display": true
  }
 },
 "nbformat": 4,
 "nbformat_minor": 4
}
